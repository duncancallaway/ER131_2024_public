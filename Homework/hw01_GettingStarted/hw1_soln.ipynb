{
 "cells": [
  {
   "cell_type": "code",
   "execution_count": 1,
   "metadata": {},
   "outputs": [],
   "source": [
    "NAME = \"\" # put your full name here\n",
    "COLLABORATORS = [] # list names of anyone you worked with on this homework.  "
   ]
  },
  {
   "cell_type": "markdown",
   "metadata": {},
   "source": [
    "(A note on collaboration:  You are encouraged to learn from one another by brainstorming solution strategies. However the work you submit must clearly be your own. We will give zero credit for assignment submissions that are identical to one another. If you work with others, be sure to finish assignments on your own. Comments and markdown cells must clearly be your own.)"
   ]
  },
  {
   "cell_type": "markdown",
   "metadata": {},
   "source": [
    "# [ER131] Homework 1: Introduction\n",
    "\n",
    "Welcome to the first homework for this course! We'll go over some Python and NumPy exercises, as well as some mathematics that are helpful for this course. \n",
    "\n",
    "Many of the cells in this notebook contain pre-written code that you can test for yourself. Any cell that says \"Exercise x\" or \"Question x.y\" is followed by an assignment for you to complete; these are the parts of the notebook that will be graded.\n",
    "\n",
    "## Table of Contents\n",
    "1 - [Python](#python)<br>\n",
    "2 - [NumPy](#NumPy)<br>\n",
    "3 - [Optional: Linear Algebra](#LinAlg)<br>\n",
    "\n",
    "**Dependencies:**"
   ]
  },
  {
   "cell_type": "code",
   "execution_count": 2,
   "metadata": {
    "nbgrader": {
     "cell_type": "code",
     "checksum": "996a8f6425097050e05ac9cfbe898e48",
     "grade": false,
     "grade_id": "all-the-imports",
     "locked": false,
     "schema_version": 2,
     "solution": false
    },
    "scrolled": true
   },
   "outputs": [],
   "source": [
    "# Run this cell to import the packages you will need to complete this homework\n",
    "import math\n",
    "import numpy as np\n",
    "import matplotlib\n",
    "%matplotlib inline\n",
    "import matplotlib.pyplot as plt\n",
    "plt.style.use('fivethirtyeight')\n",
    "import pandas as pd"
   ]
  },
  {
   "cell_type": "markdown",
   "metadata": {
    "nbgrader": {
     "cell_type": "markdown",
     "checksum": "70d77ecade2565eb58c37a0bbccaca8e",
     "grade": false,
     "grade_id": "python-tutorial-links",
     "locked": false,
     "schema_version": 2,
     "solution": false
    }
   },
   "source": [
    "----\n",
    "\n",
    "## Section 1: Python  <a id='python'></a>\n",
    "\n",
    "Python is the main programming language we'll use in the course. Work through the following cells and make sure you understand what is happening in each.\n",
    "\n",
    "Feel free to review one or more of the following materials as a refresher.\n",
    "\n",
    "- **[Python Tutorial](https://docs.python.org/3.5/tutorial/)**: Introduction to Python from the creators of Python\n",
    "- **[Composing Programs Chapter 1](https://www.composingprograms.com/pages/11-getting-started.html)**: This is more of a introduction to programming with Python.\n",
    "- **[Advanced Crash Course](http://cs231n.github.io/python-numpy-tutorial/)**: A fast crash course which assumes some programming background.\n",
    "- **[Jupyter Notebook Basics](https://jupyter-notebook.readthedocs.io/en/stable/examples/Notebook/Notebook%20Basics.html)**: A guide to navigating Jupyter Notebooks, including different parts of the user interface and different ways that cells can be used.\n",
    "\n",
    "<br>\n",
    "\n",
    "### Mathematical Expressions\n",
    "\n",
    "In this section, we'll go over some basic mathematical expressions in Python."
   ]
  },
  {
   "cell_type": "code",
   "execution_count": 3,
   "metadata": {
    "nbgrader": {
     "cell_type": "code",
     "checksum": "373741ec83109a2bb362b522a6e97858",
     "grade": false,
     "grade_id": "math-sqrt",
     "locked": false,
     "schema_version": 2,
     "solution": false
    }
   },
   "outputs": [
    {
     "data": {
      "text/plain": [
       "11.349840298425361"
      ]
     },
     "execution_count": 3,
     "metadata": {},
     "output_type": "execute_result"
    }
   ],
   "source": [
    "# In Python, the ** operator performs exponentiation.\n",
    "math.sqrt(math.e ** (-math.pi + 8))"
   ]
  },
  {
   "cell_type": "markdown",
   "metadata": {},
   "source": [
    "**Question 1.1:** Multiply eleven by seven raised to the power of three plus one. Then, add eight and then divide by 100."
   ]
  },
  {
   "cell_type": "code",
   "execution_count": 4,
   "metadata": {},
   "outputs": [
    {
     "data": {
      "text/plain": [
       "37.92"
      ]
     },
     "execution_count": 4,
     "metadata": {},
     "output_type": "execute_result"
    }
   ],
   "source": [
    "#YOUR CODE HERE\n",
    "\n",
    "#Solution\n",
    "# (11*(7**3+1)+8)/100 # one solution\n",
    "(11*(math.pow(7,3)+1)+8)/100 #another solution"
   ]
  },
  {
   "cell_type": "markdown",
   "metadata": {
    "nbgrader": {
     "cell_type": "markdown",
     "checksum": "1daa637fcc4cd5d89a98f1fa7a56d294",
     "grade": false,
     "grade_id": "output-and-printing",
     "locked": false,
     "schema_version": 2,
     "solution": false
    }
   },
   "source": [
    "### Output and Printing\n",
    "\n",
    "**Question 1.2:** One at a time, uncomment and run each of the three lines of code below. Without modifying the text itself, change the second line of code so that it prints without errors. "
   ]
  },
  {
   "cell_type": "code",
   "execution_count": 5,
   "metadata": {
    "nbgrader": {
     "cell_type": "code",
     "checksum": "9ab477866cebf6782c1e5adb03977369",
     "grade": false,
     "grade_id": "why-no-print",
     "locked": false,
     "schema_version": 2,
     "solution": false
    },
    "scrolled": true
   },
   "outputs": [
    {
     "name": "stdout",
     "output_type": "stream",
     "text": [
      "Hello, world!\n"
     ]
    }
   ],
   "source": [
    "print('Hello' + ',', 'world!')\n",
    "#'Why didn't this line print?'\n",
    "#\"Hello, cell\" + \" output!\""
   ]
  },
  {
   "cell_type": "markdown",
   "metadata": {},
   "source": [
    "*Solution: The second line of code didn't print because Python interprets the apostrophe in the word \"didn't\" as the end quote of the string. To fix the error and print the second line, you could use use double quotation marks to denote the beginning and end of the string, i.e.,*\n",
    "\n",
    "`\"Why didn't this line print?\"`"
   ]
  },
  {
   "cell_type": "markdown",
   "metadata": {},
   "source": [
    "### For Loops"
   ]
  },
  {
   "cell_type": "markdown",
   "metadata": {},
   "source": [
    "**Question 1.3:** Run the loop below. Then, comment out the \"else\" statement (lines 6 and 7). Describe what happens when you remove this statement and explain why it happens. "
   ]
  },
  {
   "cell_type": "code",
   "execution_count": 6,
   "metadata": {
    "nbgrader": {
     "cell_type": "code",
     "checksum": "53b1f92b21db1701fb02bc3945fdb329",
     "grade": false,
     "grade_id": "for-loops-code",
     "locked": false,
     "schema_version": 2,
     "solution": false
    }
   },
   "outputs": [
    {
     "name": "stdout",
     "output_type": "stream",
     "text": [
      "1\n",
      "Odd power of 3\n",
      "Odd power of 3\n",
      "27\n",
      "Odd power of 3\n",
      "Odd power of 3\n",
      "729\n",
      "Odd power of 3\n",
      "Odd power of 3\n",
      "19683\n"
     ]
    }
   ],
   "source": [
    "# A for loop repeats a block of code once for each element in a given collection.\n",
    "for i in range(10):\n",
    "    if i % 3 == 0:\n",
    "        print(3**i)\n",
    "    else:\n",
    "        print(\"Odd power of 3\")  # What happens if you remove the \"else\" statement?"
   ]
  },
  {
   "cell_type": "markdown",
   "metadata": {},
   "source": [
    "*YOUR ANSWER HERE*"
   ]
  },
  {
   "cell_type": "markdown",
   "metadata": {},
   "source": [
    "*Solution: When we remove the \"else\" statement, the function \"passes\" for every power of three integer; i.e., the for loop continues to the next even number in the range without printing anything.*"
   ]
  },
  {
   "cell_type": "markdown",
   "metadata": {},
   "source": [
    "### Strings ([Reference](https://developers.google.com/edu/python/strings))"
   ]
  },
  {
   "cell_type": "markdown",
   "metadata": {},
   "source": [
    "Run the code in the two cell blocks below. Notice the errors that occur when you uncomment line 5 in the first block and line 2 in the second block."
   ]
  },
  {
   "cell_type": "code",
   "execution_count": 7,
   "metadata": {},
   "outputs": [
    {
     "name": "stdout",
     "output_type": "stream",
     "text": [
      "i\n",
      "2\n",
      "hi there\n"
     ]
    }
   ],
   "source": [
    "s = 'hi'\n",
    "print(s[1])         ## i\n",
    "print(len(s))       ## 2\n",
    "print(s + ' there')\n",
    "#s[1] = 'a' # why doesn't this work?"
   ]
  },
  {
   "cell_type": "code",
   "execution_count": 8,
   "metadata": {},
   "outputs": [
    {
     "name": "stdout",
     "output_type": "stream",
     "text": [
      "The value of Avogadro's number is 6.0219999999999996e+23\n"
     ]
    }
   ],
   "source": [
    "avos_num = 6.022 * 10**23\n",
    "#text = \"The value of Avogadro's number is \" + avos_num      ## NO, does not work\n",
    "text = \"The value of Avogadro's number is \"  + str(avos_num)  ## yes\n",
    "print(text)"
   ]
  },
  {
   "cell_type": "markdown",
   "metadata": {},
   "source": [
    "**Question 1.4:** Write a line of code that will print the statement \"The limit of the universe is 3.142e+00\" without explicitly typing out the number. (Note: in this case, it's okay if your code prints more than three decimal places.)"
   ]
  },
  {
   "cell_type": "code",
   "execution_count": 9,
   "metadata": {},
   "outputs": [
    {
     "name": "stdout",
     "output_type": "stream",
     "text": [
      "The limit of the universe is 3.142e+00\n"
     ]
    }
   ],
   "source": [
    "# YOUR CODE HERE\n",
    "# possible solution\n",
    "print('The limit of the universe is ' + str(np.format_float_scientific(np.pi, 3)))"
   ]
  },
  {
   "cell_type": "markdown",
   "metadata": {},
   "source": [
    "### Lists ([Reference](https://docs.python.org/3.5/tutorial/introduction.html#lists))"
   ]
  },
  {
   "cell_type": "code",
   "execution_count": 10,
   "metadata": {},
   "outputs": [
    {
     "data": {
      "text/plain": [
       "[2, 4, 9, 16, 25, 36]"
      ]
     },
     "execution_count": 10,
     "metadata": {},
     "output_type": "execute_result"
    }
   ],
   "source": [
    "squares = [2, 4, 9, 16, 25, 36]\n",
    "squares"
   ]
  },
  {
   "cell_type": "markdown",
   "metadata": {},
   "source": [
    "Practice subsetting lists by running the code in the cell block below."
   ]
  },
  {
   "cell_type": "code",
   "execution_count": 11,
   "metadata": {
    "scrolled": true
   },
   "outputs": [
    {
     "name": "stdout",
     "output_type": "stream",
     "text": [
      "2\n",
      "36\n",
      "[16, 25, 36]\n",
      "[2, 4, 9, 16, 25, 36]\n",
      "[2, 4, 9, 16, 25, 36, 49, 64, 81, 100]\n"
     ]
    }
   ],
   "source": [
    "print(squares[0])\n",
    "print(squares[-1])\n",
    "print(squares[-3:])\n",
    "print(squares[:])\n",
    "print(squares + [49, 64, 81, 100])"
   ]
  },
  {
   "cell_type": "markdown",
   "metadata": {},
   "source": [
    "**Question 1.5:** Insert 444 as the third element in `squares` such that `squares` = [2, 4, 9, 444, 16, 25, 36]."
   ]
  },
  {
   "cell_type": "code",
   "execution_count": 12,
   "metadata": {},
   "outputs": [
    {
     "data": {
      "text/plain": [
       "[2, 4, 9, 444, 16, 25, 36]"
      ]
     },
     "execution_count": 12,
     "metadata": {},
     "output_type": "execute_result"
    }
   ],
   "source": [
    "# YOUR CODE HERE\n",
    "\n",
    "# SOLUTION\n",
    "# squares[3] = 444 # doesn't work because it replaces the fifth element (13) with 11. \n",
    "# print(squares)\n",
    "squares = squares[0:3] + [444] + squares[3:] # one solution\n",
    "squares\n",
    "# squares.insert(3,444) # another solution\n",
    "# squares"
   ]
  },
  {
   "cell_type": "markdown",
   "metadata": {},
   "source": [
    "**Question 1.6:** Since 2 and 444 are not actually a square of anything, remove both numbers in `squares` such that `squares` = [4, 9, 16, 25, 36]."
   ]
  },
  {
   "cell_type": "code",
   "execution_count": 13,
   "metadata": {},
   "outputs": [],
   "source": [
    "# YOUR CODE HERE\n",
    "\n",
    "# possible solution\n",
    "\n",
    "\n",
    "# REDO THE SOLUTION\n",
    "squares = squares[1:]"
   ]
  },
  {
   "cell_type": "markdown",
   "metadata": {},
   "source": [
    "### Dictionaries ([Reference](https://realpython.com/python-dicts/))"
   ]
  },
  {
   "cell_type": "markdown",
   "metadata": {},
   "source": [
    "Practice building and modifying dictionaries by running the lines of code below."
   ]
  },
  {
   "cell_type": "code",
   "execution_count": 14,
   "metadata": {},
   "outputs": [],
   "source": [
    "tel = {'duncan': 343, 'colette': 739, 'natalie': 841, 'kaz': 333}\n",
    "tel['salma'] = 369\n",
    "del tel['kaz']"
   ]
  },
  {
   "cell_type": "code",
   "execution_count": 15,
   "metadata": {},
   "outputs": [
    {
     "data": {
      "text/plain": [
       "{'duncan': 343, 'colette': 739, 'natalie': 841, 'salma': 369}"
      ]
     },
     "execution_count": 15,
     "metadata": {},
     "output_type": "execute_result"
    }
   ],
   "source": [
    "tel"
   ]
  },
  {
   "cell_type": "markdown",
   "metadata": {},
   "source": [
    "**Question 1.6:** Write a line of code that returns the three-digit extension (i.e., the value) associated with the key 'natalie.'"
   ]
  },
  {
   "cell_type": "code",
   "execution_count": 16,
   "metadata": {},
   "outputs": [
    {
     "data": {
      "text/plain": [
       "841"
      ]
     },
     "execution_count": 16,
     "metadata": {},
     "output_type": "execute_result"
    }
   ],
   "source": [
    "# YOUR CODE HERE\n",
    "\n",
    "# SOLUTION\n",
    "tel['natalie']"
   ]
  },
  {
   "cell_type": "markdown",
   "metadata": {
    "nbgrader": {
     "cell_type": "markdown",
     "checksum": "4019eddb08e868ba791409d6fc683de2",
     "grade": false,
     "grade_id": "defining-functions",
     "locked": false,
     "schema_version": 2,
     "solution": false
    }
   },
   "source": [
    "### Defining Functions"
   ]
  },
  {
   "cell_type": "markdown",
   "metadata": {},
   "source": [
    "Here's an example of a function:"
   ]
  },
  {
   "cell_type": "code",
   "execution_count": 17,
   "metadata": {
    "nbgrader": {
     "cell_type": "code",
     "checksum": "661113989cc8f0b9d720538abe72442b",
     "grade": false,
     "grade_id": "add-2-function",
     "locked": false,
     "schema_version": 2,
     "solution": false
    }
   },
   "outputs": [],
   "source": [
    "def add2(x):\n",
    "    \"\"\"This docstring explains what this function does: it adds 2 to a number.\"\"\"\n",
    "    return x + 2"
   ]
  },
  {
   "cell_type": "markdown",
   "metadata": {
    "nbgrader": {
     "cell_type": "markdown",
     "checksum": "c09ded864939c7c63ae05ff2acce1d41",
     "grade": false,
     "grade_id": "get-help",
     "locked": false,
     "schema_version": 2,
     "solution": false
    }
   },
   "source": [
    "#### Getting Help"
   ]
  },
  {
   "cell_type": "code",
   "execution_count": 18,
   "metadata": {
    "nbgrader": {
     "cell_type": "code",
     "checksum": "5ca8b464f0d81a22dbc80a5d3290933c",
     "grade": false,
     "grade_id": "help-add2",
     "locked": false,
     "schema_version": 2,
     "solution": false
    }
   },
   "outputs": [
    {
     "name": "stdout",
     "output_type": "stream",
     "text": [
      "Help on function add2 in module __main__:\n",
      "\n",
      "add2(x)\n",
      "    This docstring explains what this function does: it adds 2 to a number.\n",
      "\n"
     ]
    }
   ],
   "source": [
    "help(add2)"
   ]
  },
  {
   "cell_type": "markdown",
   "metadata": {
    "nbgrader": {
     "cell_type": "markdown",
     "checksum": "85d8b83f79434888f22c52650ac2da35",
     "grade": false,
     "grade_id": "begin-question1",
     "locked": false,
     "schema_version": 2,
     "solution": false
    }
   },
   "source": [
    "**Question 1.7:** Fill in the ellipses in the function `print_extension`, which takes in a dictionary `phonebook` and string `name` and returns a string stating the three-digit value associated with the key `name`. For example:\n",
    "\n",
    "    >>> print_extension(tel, 'richard')\n",
    "    'The extension for richard is 3698.'"
   ]
  },
  {
   "cell_type": "code",
   "execution_count": 19,
   "metadata": {},
   "outputs": [
    {
     "data": {
      "text/plain": [
       "Ellipsis"
      ]
     },
     "execution_count": 19,
     "metadata": {},
     "output_type": "execute_result"
    }
   ],
   "source": [
    "# REPLACE THE ELLIPSES WITH YOUR CODE\n",
    "\n",
    "def print_extension(phonebook,name):\n",
    "    value = ... # From the dictionary `phonebook,` extract the value associated with key `name`\n",
    "    return ... # Print the string \"The extension for [name] is [value].\", where [name] and [value] correspond to the appropriate key-value pair from the dictionary `phonebook.  \n",
    "    ### END SOLUTION\n",
    "\n",
    "# TEST YOUR CODE\n",
    "print_extension(tel,'salma')"
   ]
  },
  {
   "cell_type": "code",
   "execution_count": 20,
   "metadata": {},
   "outputs": [
    {
     "name": "stdout",
     "output_type": "stream",
     "text": [
      "The extension for salma is 369.\n"
     ]
    }
   ],
   "source": [
    "### EXAMPLE SOLUTION\n",
    "\n",
    "def print_extension(phonebook,name):\n",
    "    value = phonebook[name] # From the dictionary `phonebook,` extract the value associated with key `name`\n",
    "    return print('The extension for ' + name + ' is ' + str(value) + '.') # Print the string \"The extension for [name] is [value].\", where [name] and [value] correspond to the appropriate key-value pair from the dictionary `phonebook.\n",
    "#     return print('The extension for {} is {}.'.format(name, value)) # An alternative solution\n",
    "    ### END SOLUTION\n",
    "    \n",
    "print_extension(tel,'salma')    "
   ]
  },
  {
   "cell_type": "markdown",
   "metadata": {},
   "source": [
    "**Question 1.8:** Write a function `case_check` that takes in a list of strings and returns `True` only if the *last letter* of all items in the list is lower case. \n",
    "\n",
    "\n",
    "    >>> case_check(['duncan','julia','akshay','christian','richard'])\n",
    "    True\n",
    "    >>> case_check(['Instructor','GSI','Reader','CA','CA'])\n",
    "    False\n",
    "\n",
    "Hint: the built-in [`.islower()`](https://www.geeksforgeeks.org/isupper-islower-lower-upper-python-applications/) method might be useful. "
   ]
  },
  {
   "cell_type": "code",
   "execution_count": 23,
   "metadata": {},
   "outputs": [],
   "source": [
    "def case_check(strings):\n",
    "    ### YOUR CODE HERE\n",
    "    \n",
    "    raise NotImplementedError()"
   ]
  },
  {
   "cell_type": "code",
   "execution_count": 24,
   "metadata": {},
   "outputs": [],
   "source": [
    "def case_check(strings):\n",
    "    ### BEGIN SOLUTION\n",
    "    flag = True # variable that one string with a upper-case last letter is found\n",
    "    for i in strings:\n",
    "        if i[-1].islower():\n",
    "            pass # if it is, continue to the next item in the list. \n",
    "        else:\n",
    "            flag = False # if it isn't, set the flag to False\n",
    "    \n",
    "    return flag\n",
    "    ### END SOLUTION"
   ]
  },
  {
   "cell_type": "code",
   "execution_count": 25,
   "metadata": {},
   "outputs": [],
   "source": [
    "assert case_check(['duncan','colette','natalie','kaz','salma']) == True \n",
    "assert case_check(['Instructor','GSI','READER','CA','CA']) == False\n",
    "assert case_check(['NY','CA','NJ','CO','AK']) == False \n",
    "assert case_check(['a capella','Llamas','ambidextrous','Kansas']) == True "
   ]
  },
  {
   "cell_type": "markdown",
   "metadata": {},
   "source": [
    "**Question 1.9:** Write a function `squares_dict` that takes in a list of numbers `l` and creates a dictionary that records the the square of each number and multiplies it by 10.\n",
    "\n",
    "    >>> print(squares_dict([0,1,2,4]))\n",
    "    {0: 0, 1: 10, 2: 40, 4: 160}\n",
    "    \n",
    "It might be helpful to [review dictionaries in Python](https://docs.python.org/3/tutorial/datastructures.html#dictionaries)."
   ]
  },
  {
   "cell_type": "code",
   "execution_count": 26,
   "metadata": {},
   "outputs": [],
   "source": [
    "# REPLACE THE ELLIPSES WITH YOUR CODE\n",
    "\n",
    "def squares_dict(l):\n",
    "    squares = {} # initialize dictionary to hold the squared numbers\n",
    "\n",
    "    for number in ...:\n",
    "        ...\n",
    "\n",
    "    return squares\n",
    "    ### END SOLUTION"
   ]
  },
  {
   "cell_type": "code",
   "execution_count": 27,
   "metadata": {},
   "outputs": [],
   "source": [
    "def squares_dict(l):\n",
    "    ### BEGIN SOLUTION\n",
    "    squares = {} # initialize dictionary to hold the squared numbers\n",
    "\n",
    "    for number in l:\n",
    "        squares[number] = (number**2)*10\n",
    "\n",
    "    return squares\n",
    "    ### END SOLUTION"
   ]
  },
  {
   "cell_type": "code",
   "execution_count": 28,
   "metadata": {},
   "outputs": [],
   "source": [
    "assert squares_dict([0,1,2,4])=={0: 0, 1: 10, 2: 40, 4: 160}\n",
    "assert squares_dict([3])=={3: 90}"
   ]
  },
  {
   "cell_type": "markdown",
   "metadata": {
    "nbgrader": {
     "cell_type": "markdown",
     "checksum": "879fbab7b9199d887c56aa42349a5b27",
     "grade": false,
     "grade_id": "numpy-and-tables",
     "locked": false,
     "schema_version": 2,
     "solution": false
    }
   },
   "source": [
    "---\n",
    "\n",
    "## Section 2: NumPy <a id='NumPy'></a>\n",
    "\n",
    "The `NumPy` library lets us do fast, simple computing with numbers in Python. \n",
    "\n",
    "If the following section is a little difficult, we've provided some resources for review:\n",
    "\n",
    "* [DS100 Numpy Review](http://ds100.org/fa17/assets/notebooks/numpy/Numpy_Review.html)\n",
    "* [Condensed Numpy Review](http://cs231n.github.io/python-numpy-tutorial/#numpy)\n",
    "* [The Official Numpy Tutorial](https://numpy.org/doc/stable/user/quickstart.html)\n",
    "\n",
    "<br>\n",
    "\n",
    "**Jupyter pro-tip**: Pull up the docs for any function in Jupyter by running a cell with\n",
    "the function name and a `?` at the end:"
   ]
  },
  {
   "cell_type": "code",
   "execution_count": 29,
   "metadata": {
    "nbgrader": {
     "cell_type": "code",
     "checksum": "b86d7aec77704a4bf2119edcec544f55",
     "grade": false,
     "grade_id": "np-arange-huh",
     "locked": false,
     "schema_version": 2,
     "solution": false
    }
   },
   "outputs": [],
   "source": [
    "np.arange?"
   ]
  },
  {
   "cell_type": "markdown",
   "metadata": {
    "nbgrader": {
     "cell_type": "markdown",
     "checksum": "0ecfa74779f4801e846b87a57e256b7a",
     "grade": false,
     "grade_id": "jupyter-pro-tip-two",
     "locked": false,
     "schema_version": 2,
     "solution": false
    }
   },
   "source": [
    "**Another Jupyter pro-tip**: Pull up the docs for any function in Jupyter by typing the function\n",
    "name, then `<Shift>-<Tab>` on your keyboard. Super convenient when you forget the order\n",
    "of the arguments to a function. You can press `<Tab>` multiple tabs to expand the docs. Pressing `<Tab>` does an autocomplete, but doesn’t pull up docs.\n",
    "\n",
    "\n",
    "Try it on the function below:"
   ]
  },
  {
   "cell_type": "code",
   "execution_count": 30,
   "metadata": {},
   "outputs": [
    {
     "data": {
      "text/plain": [
       "<function numpy.linspace(start, stop, num=50, endpoint=True, retstep=False, dtype=None, axis=0)>"
      ]
     },
     "execution_count": 30,
     "metadata": {},
     "output_type": "execute_result"
    }
   ],
   "source": [
    "np.linspace # what parameters will this function accept? What type do they need to be?"
   ]
  },
  {
   "cell_type": "markdown",
   "metadata": {},
   "source": [
    "In this section, we will use numpy to answer some questions about the California Independent System Operator (CAISO) Daily Renewables Watch. This data records the hourly production of various renewable resources as well as a hourly breakdown of total production of resource type, both in megawatts (MW). For an idea of how the dataset is formatted, click [here](http://content.caiso.com/green/renewrpt/20180617_DailyRenewablesWatch.txt). \n",
    "\n",
    "**Question 2.1:** Use numpy operations to output an array containing the hourly values of solar photovoltaic and solar thermal production. You should create a single array with two columns and each row corresponding to an hour of generation. Examine the result. What odd pattern appeared in solar production that day? Can you explain it?"
   ]
  },
  {
   "cell_type": "code",
   "execution_count": 31,
   "metadata": {},
   "outputs": [],
   "source": [
    "# The following line loads the data for this question.  \n",
    "# Note that it uses Pandas -- we'll learn more about that next week!  \n",
    "# But the output is a numpy array.  \n",
    "data1 = pd.read_csv(\"data/q2_1.csv\").values \n",
    "\n",
    "# YOUR CODE HERE"
   ]
  },
  {
   "cell_type": "markdown",
   "metadata": {},
   "source": [
    "*COMMENT ON THE RESULT HERE*"
   ]
  },
  {
   "cell_type": "code",
   "execution_count": 32,
   "metadata": {},
   "outputs": [
    {
     "data": {
      "text/plain": [
       "array([[0, 0],\n",
       "       [0, 0],\n",
       "       [0, 0],\n",
       "       [0, 0],\n",
       "       [0, 0],\n",
       "       [0, 0],\n",
       "       [174, 0],\n",
       "       [2376, 0],\n",
       "       [5484, 86],\n",
       "       [5312, 141],\n",
       "       [3503, 110],\n",
       "       [6329, 201],\n",
       "       [8700, 472],\n",
       "       [8857, 527],\n",
       "       [8732, 598],\n",
       "       [7983, 395],\n",
       "       [7020, 262],\n",
       "       [5329, 228],\n",
       "       [2193, 119],\n",
       "       [114, 0],\n",
       "       [0, 0],\n",
       "       [0, 0],\n",
       "       [0, 0],\n",
       "       [0, 0]], dtype=object)"
      ]
     },
     "execution_count": 32,
     "metadata": {},
     "output_type": "execute_result"
    }
   ],
   "source": [
    "#BEGIN SOLUTION\n",
    "# from the CAISO link and from opening the csv, we know that the last 2 columns are \n",
    "# solar PV and solar thermal - so we can output just those 2 columns\n",
    "data1[:,[-2,-1]] # this is one way of writing this code - selecting the last 2 columns\n",
    "data1[:,[7,8]] # we can also specify that we want columns 7 and 8\n",
    "\n",
    "#END SOLUTION----"
   ]
  },
  {
   "cell_type": "markdown",
   "metadata": {},
   "source": [
    "*Answer: The odd pattern that appears is that there's a dip in solar production from about 10 am - 1 pm. This is because this data is from the August 2017 solar eclipse. Normally, we would expect increasing solar production until the mid-afternoon peak.*"
   ]
  },
  {
   "cell_type": "markdown",
   "metadata": {},
   "source": [
    "**Question 2.2:** Use numpy operations to answer the following question: How much more wind than geothermal electricity was generated in April 2017? Note, each entry in the array represents energy produced for a given *hour*."
   ]
  },
  {
   "cell_type": "code",
   "execution_count": 33,
   "metadata": {},
   "outputs": [],
   "source": [
    "data2 = pd.read_csv(\"data/q2_2.csv\").values\n",
    "\n",
    "# YOUR CODE HERE"
   ]
  },
  {
   "cell_type": "code",
   "execution_count": 34,
   "metadata": {},
   "outputs": [
    {
     "data": {
      "text/plain": [
       "723677"
      ]
     },
     "execution_count": 34,
     "metadata": {},
     "output_type": "execute_result"
    }
   ],
   "source": [
    "# ### BEGIN SOLUTION\n",
    "wind_apr = np.sum(data2[:,6])\n",
    "geot_apr = np.sum(data2[:,2])\n",
    "wind_apr - geot_apr \n",
    "# ### END SOLUTION"
   ]
  },
  {
   "cell_type": "markdown",
   "metadata": {},
   "source": [
    "**Question 2.3:** What percentage of the total resource count did biomass and biogas together represent on July 4th, 2017 (Independence Day) in California?"
   ]
  },
  {
   "cell_type": "code",
   "execution_count": 35,
   "metadata": {},
   "outputs": [],
   "source": [
    "data3 = pd.read_csv(\"data/q2_3.csv\").values\n",
    "\n",
    "# YOUR CODE HERE"
   ]
  },
  {
   "cell_type": "code",
   "execution_count": 36,
   "metadata": {},
   "outputs": [
    {
     "data": {
      "text/plain": [
       "5.2917858397310455"
      ]
     },
     "execution_count": 36,
     "metadata": {},
     "output_type": "execute_result"
    }
   ],
   "source": [
    "# ### BEGIN SOLUTION\n",
    "(np.sum(data3[:,3]) + np.sum(data3[:,4])) / np.sum(data3[:,2:]) * 100\n",
    "# ### END SOLUTION"
   ]
  },
  {
   "cell_type": "markdown",
   "metadata": {
    "nbgrader": {
     "cell_type": "markdown",
     "checksum": "308dbeb2f4547a9faa27439c6113fca7",
     "grade": false,
     "grade_id": "question4a",
     "locked": false,
     "schema_version": 2,
     "solution": false
    }
   },
   "source": [
    "## Optional: Using NumPy for Linear Algebra <a id='LinAlg'></a>\n",
    "\n",
    "We'll continue the math review with a short (optional) section on using numpy arrays and matrix multiplication."
   ]
  },
  {
   "cell_type": "markdown",
   "metadata": {},
   "source": [
    "### NumPy Arrays"
   ]
  },
  {
   "cell_type": "code",
   "execution_count": 37,
   "metadata": {},
   "outputs": [
    {
     "name": "stdout",
     "output_type": "stream",
     "text": [
      "[[ 2  2  2]\n",
      " [ 3  3  3]\n",
      " [30 20 10]]\n"
     ]
    }
   ],
   "source": [
    "# A numpy array can be multi-dimensional\n",
    "multi_dim = np.array([\n",
    "    [2, 2, 2,],\n",
    "    [3, 3, 3],\n",
    "    [30, 20, 10]\n",
    "])\n",
    "\n",
    "print(multi_dim)"
   ]
  },
  {
   "cell_type": "markdown",
   "metadata": {},
   "source": [
    "Using multi-dimensional arrays in numpy allows us to use all of the numpy functions, which we cannot apply to multi-dimensional lists. Below are a few examples of numpy arrays that might be useful in future assignments. "
   ]
  },
  {
   "cell_type": "code",
   "execution_count": 38,
   "metadata": {},
   "outputs": [
    {
     "name": "stdout",
     "output_type": "stream",
     "text": [
      "6\n",
      "0\n",
      "[[ 2  2  2]\n",
      " [ 3  3  3]\n",
      " [30 20 10]]\n"
     ]
    }
   ],
   "source": [
    "print(multi_dim.argmax())\n",
    "print(multi_dim.argmin())\n",
    "\n",
    "copy = multi_dim.copy()\n",
    "print(copy)"
   ]
  },
  {
   "cell_type": "markdown",
   "metadata": {},
   "source": [
    "**Question 3.1:** Explain what each function above is printing. "
   ]
  },
  {
   "cell_type": "markdown",
   "metadata": {},
   "source": [
    "YOUR ANSWER HERE"
   ]
  },
  {
   "cell_type": "markdown",
   "metadata": {},
   "source": [
    "**Question 3.2:** What is one additional function that is useful in NumPy? And what does it do?\n",
    "\n",
    "_**Hint:** To find all functions, create a multi-dimensional matrix (name it 'my_multi_dim'), write a \".\" after the name, and then hit 'Shift' + 'Tab' to see a list of available functions. Otherwise, you can view the NumPy documentation to browse the functionality._ "
   ]
  },
  {
   "cell_type": "markdown",
   "metadata": {},
   "source": [
    "YOUR ANSWER HERE"
   ]
  },
  {
   "cell_type": "markdown",
   "metadata": {},
   "source": [
    "Indexing in multi-dimensional arrays requires indicating the place of each dimension of interest."
   ]
  },
  {
   "cell_type": "code",
   "execution_count": 39,
   "metadata": {},
   "outputs": [
    {
     "name": "stdout",
     "output_type": "stream",
     "text": [
      "[2 2 2]\n",
      "2\n",
      "30\n"
     ]
    }
   ],
   "source": [
    "print(multi_dim[0])\n",
    "print(multi_dim[0,0])\n",
    "print(multi_dim[2,0])"
   ]
  },
  {
   "cell_type": "markdown",
   "metadata": {},
   "source": [
    "**Question 3.3:** Return the array [30, 20] by indexing from the `multi_dim` array. "
   ]
  },
  {
   "cell_type": "code",
   "execution_count": 40,
   "metadata": {},
   "outputs": [],
   "source": [
    "# YOUR CODE HERE"
   ]
  },
  {
   "cell_type": "code",
   "execution_count": 41,
   "metadata": {},
   "outputs": [
    {
     "data": {
      "text/plain": [
       "array([30, 20])"
      ]
     },
     "execution_count": 41,
     "metadata": {},
     "output_type": "execute_result"
    }
   ],
   "source": [
    "# SOLUTION\n",
    "multi_dim[2,:2]"
   ]
  },
  {
   "cell_type": "markdown",
   "metadata": {},
   "source": [
    "We can also manipulate arrays in some interesting ways. For example, we can change all values in an array by using basic PEMDAS (parenthases, exponents, multiplication, division, addition, subtraction) operations. "
   ]
  },
  {
   "cell_type": "code",
   "execution_count": 42,
   "metadata": {},
   "outputs": [
    {
     "name": "stdout",
     "output_type": "stream",
     "text": [
      "[[ 4  4  4]\n",
      " [ 6  6  6]\n",
      " [60 40 20]]\n",
      "[[ 4  4  4]\n",
      " [ 5  5  5]\n",
      " [32 22 12]]\n"
     ]
    }
   ],
   "source": [
    "double_array = multi_dim*2\n",
    "print(double_array)\n",
    "\n",
    "add_array = multi_dim + 2\n",
    "print(add_array)"
   ]
  },
  {
   "cell_type": "markdown",
   "metadata": {},
   "source": [
    "**Question 3.4:** Divide every value in the `multi_dim` array by 2 and add 10 to the first three elements in the array such that `div_array` = [11, 11, 11]."
   ]
  },
  {
   "cell_type": "code",
   "execution_count": 43,
   "metadata": {},
   "outputs": [],
   "source": [
    "# YOUR CODE HERE\n",
    "div_array = ..."
   ]
  },
  {
   "cell_type": "code",
   "execution_count": 44,
   "metadata": {},
   "outputs": [
    {
     "name": "stdout",
     "output_type": "stream",
     "text": [
      "[11. 11. 11.]\n"
     ]
    }
   ],
   "source": [
    "# SOLUTION\n",
    "x = multi_dim / 2\n",
    "div_array = x[0] + 10\n",
    "print(div_array)"
   ]
  },
  {
   "cell_type": "markdown",
   "metadata": {},
   "source": [
    "### Linear Algebra"
   ]
  },
  {
   "cell_type": "markdown",
   "metadata": {
    "nbgrader": {
     "cell_type": "markdown",
     "checksum": "2d34058989a2c75675476047cff6168c",
     "grade": false,
     "grade_id": "question4",
     "locked": false,
     "schema_version": 2,
     "solution": false
    }
   },
   "source": [
    "In this question, we'll ask you to use your linear algebra knowledge to fill in NumPy matrices. To conduct matrix multiplication in NumPy, you should write code like the following:"
   ]
  },
  {
   "cell_type": "code",
   "execution_count": 45,
   "metadata": {
    "nbgrader": {
     "cell_type": "code",
     "checksum": "d38405314a199c0fe8f75ce2b27aa2c4",
     "grade": false,
     "grade_id": "matA-times-matB",
     "locked": false,
     "schema_version": 2,
     "solution": false
    },
    "scrolled": true
   },
   "outputs": [
    {
     "data": {
      "text/plain": [
       "array([[ 76,  82],\n",
       "       [184, 199]])"
      ]
     },
     "execution_count": 45,
     "metadata": {},
     "output_type": "execute_result"
    }
   ],
   "source": [
    "# A matrix in NumPy is simply a 2-dimensional NumPy array\n",
    "matA = np.array([\n",
    "    [1, 2, 3],\n",
    "    [4, 5, 6],\n",
    "])\n",
    "\n",
    "matB = np.array([\n",
    "    [10, 11],\n",
    "    [12, 13],\n",
    "    [14, 15],\n",
    "])\n",
    "\n",
    "# The notation B @ v means: compute the matrix multiplication Bv\n",
    "matA @ matB"
   ]
  },
  {
   "cell_type": "markdown",
   "metadata": {
    "nbgrader": {
     "cell_type": "markdown",
     "checksum": "1c4bc59ec712d4229ae0eb1bef86e5f5",
     "grade": false,
     "grade_id": "mat-vec-handy",
     "locked": false,
     "schema_version": 2,
     "solution": false
    }
   },
   "source": [
    "You can also use the same syntax to do matrix-vector multiplication or vector dot products. Handy!"
   ]
  },
  {
   "cell_type": "code",
   "execution_count": 46,
   "metadata": {
    "nbgrader": {
     "cell_type": "code",
     "checksum": "6e01716f847933c47bbdd4dd557afa0c",
     "grade": false,
     "grade_id": "mat-vec-code",
     "locked": false,
     "schema_version": 2,
     "solution": false
    }
   },
   "outputs": [
    {
     "name": "stdout",
     "output_type": "stream",
     "text": [
      "[ 76 184]\n",
      "760\n"
     ]
    }
   ],
   "source": [
    "matA = np.array([\n",
    "    [1, 2, 3],\n",
    "    [4, 5, 6],\n",
    "])\n",
    "\n",
    "# A vector in NumPy is simply a 1-dimensional NumPy array\n",
    "some_vec = np.array([ 10, 12, 14, ])\n",
    "\n",
    "another_vec = np.array([ 10, 20, 30 ])\n",
    "\n",
    "print(matA @ some_vec)\n",
    "print(some_vec @ another_vec)"
   ]
  },
  {
   "cell_type": "markdown",
   "metadata": {},
   "source": [
    "Sofia, Pete, and Rowan are shopping for fruit at Berkeley Bowl. Berkeley Bowl, true to its name, only sells fruit bowls. A fruit bowl contains some fruit and the price of a fruit bowl is the total price of all of its individual fruit.\n",
    "\n",
    "Berkeley Bowl has bananas for \\\\$2.00, plums for \\\\$3.00, and dragon fruit for \\\\$7.00 (expensive!). These prices can be written in a vector:\n",
    "\n",
    "$$\n",
    "\\vec{v} = \\begin{bmatrix}\n",
    "     2 \\\\\n",
    "     3 \\\\\n",
    "     7 \\\\\n",
    "\\end{bmatrix}\n",
    "$$\n",
    "\n",
    "Berkeley Bowl sells the following fruit bowls:\n",
    "\n",
    "1. 2 of each fruit\n",
    "2. 6 bananas and 2 plums\n",
    "3. 5 dragon fruit\n",
    "\n",
    "\n",
    "**Question 3.4:** Create a 2-dimensional numpy array encoding the matrix $B$ such that the matrix-vector multiplication\n",
    "\n",
    "$$\n",
    "B\\vec{v}\n",
    "$$\n",
    "\n",
    "evaluates to a length 3 column vector containing the price of each fruit bowl. The first entry of the result should be the cost of fruit bowl #1, the second entry the cost of fruit bowl #2, etc."
   ]
  },
  {
   "cell_type": "code",
   "execution_count": 47,
   "metadata": {},
   "outputs": [
    {
     "data": {
      "text/plain": [
       "array([24, 18, 35])"
      ]
     },
     "execution_count": 47,
     "metadata": {},
     "output_type": "execute_result"
    }
   ],
   "source": [
    "import numpy as np\n",
    "v = np.array([2,3,7])\n",
    "\n",
    "# Fill in B\n",
    "# B = ... # REPLACE ELIPSES WITH YOUR CODE\n",
    "\n",
    "### BEGIN OPTIONAL SOLUTION\n",
    "B = np.array([\n",
    "    [2, 2, 2], # bowl 1\n",
    "    [6, 2, 0], # bowl 2\n",
    "    [0, 0, 5], # bowl 3\n",
    "])\n",
    "### END SOLUTION\n",
    "\n",
    "# The notation B @ v means: compute the matrix multiplication Bv\n",
    "B @ v"
   ]
  },
  {
   "cell_type": "markdown",
   "metadata": {},
   "source": [
    "----\n",
    "\n",
    "## Submission\n",
    "\n",
    "Congrats, you're done with homework 1!\n",
    "\n",
    "Before you submit, click **Kernel** --> **Restart & Clear Output**. Then, click **Cell** --> **Run All**. Then, go to the toolbar and click **File** -> **Download as** -> **.html** and submit the file through bCourses.\n",
    "\n",
    "----\n",
    "\n",
    "### Bibliography\n",
    "\n",
    "+ Data 100 - HW 1: Introduction"
   ]
  }
 ],
 "metadata": {
  "kernelspec": {
   "display_name": "Python 3 (ipykernel)",
   "language": "python",
   "name": "python3"
  },
  "language_info": {
   "codemirror_mode": {
    "name": "ipython",
    "version": 3
   },
   "file_extension": ".py",
   "mimetype": "text/x-python",
   "name": "python",
   "nbconvert_exporter": "python",
   "pygments_lexer": "ipython3",
   "version": "3.9.15"
  },
  "toc": {
   "colors": {
    "hover_highlight": "#DAA520",
    "running_highlight": "#FF0000",
    "selected_highlight": "#FFD700"
   },
   "moveMenuLeft": true,
   "nav_menu": {
    "height": "512px",
    "width": "252px"
   },
   "navigate_menu": true,
   "number_sections": true,
   "sideBar": true,
   "threshold": 4,
   "toc_cell": true,
   "toc_section_display": "none",
   "toc_window_display": true
  }
 },
 "nbformat": 4,
 "nbformat_minor": 2
}
