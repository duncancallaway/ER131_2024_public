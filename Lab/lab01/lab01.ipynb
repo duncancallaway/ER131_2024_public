{
 "cells": [
  {
   "cell_type": "markdown",
   "metadata": {},
   "source": [
    "After you've completed the lab, make sure everything runs as expected. First, **restart the kernel** (in the menubar, select Kernel$\\rightarrow$Restart) and then **run all cells** (in the menubar, select Cell$\\rightarrow$Run All).\n",
    "\n",
    "Make sure you fill in any place that says `YOUR CODE HERE` or \"YOUR ANSWER HERE\", as well as your name and collaborators below:"
   ]
  },
  {
   "cell_type": "code",
   "execution_count": null,
   "metadata": {},
   "outputs": [],
   "source": [
    "NAME = \"\" # put your full name here\n",
    "COLLABORATORS = \"\" # put the name(s) of anyone you worked with here"
   ]
  },
  {
   "cell_type": "markdown",
   "metadata": {
    "Xeditable": false,
    "deletable": false,
    "nbgrader": {
     "cell_type": "markdown",
     "checksum": "f89c9efbdf91aac86d087227500a7d6b",
     "grade": false,
     "grade_id": "cell-72b8b977664e17a3",
     "locked": true,
     "schema_version": 2,
     "solution": false
    }
   },
   "source": [
    "# Lab 1: Getting started\n",
    "\n",
    "This is the first lab of ER 131 and is intended to ensure that you have your Jupyter Hub and/or local Notebook environments configured correctly."
   ]
  },
  {
   "cell_type": "markdown",
   "metadata": {
    "Xeditable": false,
    "deletable": false,
    "nbgrader": {
     "cell_type": "markdown",
     "checksum": "c9d6ddae02a48a0b2e1d9261bb73701e",
     "grade": false,
     "grade_id": "cell-c28e560df9dc2d15",
     "locked": true,
     "schema_version": 2,
     "solution": false
    }
   },
   "source": [
    "# Imports\n",
    "\n",
    "These packages will be used over and over in the course.  In your own coding you don't *have* to import `numpy` as `np` (and so on), but it is what most people use, and using those abbreviations will improve how well your code ports over to others' environments."
   ]
  },
  {
   "cell_type": "code",
   "execution_count": null,
   "metadata": {
    "ExecuteTime": {
     "end_time": "2018-01-18T23:21:43.841930Z",
     "start_time": "2018-01-18T23:21:43.193583Z"
    },
    "Xeditable": false,
    "deletable": false,
    "nbgrader": {
     "cell_type": "code",
     "checksum": "883d54a6beda2925468fe34c5096dfd2",
     "grade": false,
     "grade_id": "cell-75cd191fea675c93",
     "locked": true,
     "schema_version": 2,
     "solution": false
    }
   },
   "outputs": [],
   "source": [
    "import numpy as np\n",
    "import matplotlib.pyplot as plt\n",
    "import pandas as pd\n",
    "import re\n",
    "%matplotlib inline"
   ]
  },
  {
   "cell_type": "markdown",
   "metadata": {},
   "source": [
    "# A few jupyter shortcuts\n",
    "`esc` --> command mode for cell\n",
    "\n",
    "`enter` --> edit mode for cell\n",
    "\n",
    "`shift-enter` --> run cell and select next cell\n",
    "\n",
    "`ctrl-enter` --> run cell and keep it selected\n",
    "\n",
    "in command mode, `a` creates a new cell above\n",
    "\n",
    "in command mode, `b` creates a new cell below\n",
    "\n",
    "in command mode, `dd` deletes cell\n",
    "\n",
    "in command mode, `m` turns cell into markdown\n",
    "\n",
    "in command mode, `y` turns cell to code\n",
    "\n",
    "in command mode, `h` shows keyboard shortcuts\n",
    "\n",
    "`shift-tab` gives information on a function or method\n",
    "\n",
    "`tab` gives options to add a method or function to an object."
   ]
  },
  {
   "cell_type": "markdown",
   "metadata": {
    "Xeditable": false,
    "deletable": false,
    "nbgrader": {
     "cell_type": "markdown",
     "checksum": "a3578b247d22f70bd15fd47ee29965e7",
     "grade": false,
     "grade_id": "cell-32ba5ce5b5f93e35",
     "locked": true,
     "schema_version": 2,
     "solution": false
    }
   },
   "source": [
    "# Exercises"
   ]
  },
  {
   "cell_type": "markdown",
   "metadata": {},
   "source": [
    "## Part A (Optional Warm-Up)\n",
    "\n",
    "This first part of the lab gives you a chance to practice basic Python syntax. We can start by using python as a calculator, as follows:\n",
    "\n",
    "```python \n",
    "(1 + 2) / 4\n",
    "```\n",
    "\n",
    "Paste this into the code cell below, run the code cell, and make sure you get the expected result."
   ]
  },
  {
   "cell_type": "code",
   "execution_count": null,
   "metadata": {},
   "outputs": [],
   "source": [
    "# (OPTIONAL) YOUR CODE HERE"
   ]
  },
  {
   "cell_type": "markdown",
   "metadata": {},
   "source": [
    "Now that you can do basic arithmatic with Python, let's talk about data structures. We can create a list in python by enclosing the elements of the list in square brackets, as follows:\n",
    "\n",
    "```python \n",
    "a = [1, 2, 3, 4, 5]\n",
    "```\n",
    "\n",
    "You can find the number of elements in a list using the `len()` function, like this:\n",
    "\n",
    "```python \n",
    "len(a)\n",
    "```\n",
    "\n",
    "We can access the third element of the list `a` as follows (note that lists in python are zero-indexed, so 0 points to the 1st element, 1 to the 2nd element, and so on):\n",
    "\n",
    "```python \n",
    "a[2]\n",
    "```\n",
    "\n",
    "If you want to be sure that the result prints to the console, instead of calling `x`, call `print(x)`.\n",
    "\n",
    "Now apply what you've learned! In the code cell below, initialize a list, evaluate its length, and access an element in the list. Can you figure out how to access the midpoint of the list?"
   ]
  },
  {
   "cell_type": "code",
   "execution_count": null,
   "metadata": {},
   "outputs": [],
   "source": [
    "# (OPTIONAL) YOUR CODE HERE"
   ]
  },
  {
   "cell_type": "markdown",
   "metadata": {},
   "source": [
    "We're almost done with the basics! In this last part we'll talk about functions, loops, and list comprehensions. Functions in python are super easy to declare. For instance, a function that prints the phrase \"Hi there\" can be declared as follows:\n",
    "\n",
    "```python \n",
    "def hello(name):\n",
    "    print('Hi there, {}'.format(name))\n",
    "```\n",
    "\n",
    "Loops in python use a similar colon-indent syntax. To loop through values from 1 to 9, we can run the following code chunk:\n",
    "\n",
    "```python \n",
    "for i in range(1, 10):\n",
    "    print(i)\n",
    "```\n",
    "\n",
    "Finally, when creating a list inside of a loop, its sometimes easier to use a list comprehension. For instance, say we want to create a list that contains the square of every number from 1 to 9. We could do it with a typical loop. Or we could do it in a single line with a list comprehension, like this:\n",
    "\n",
    "```python \n",
    "[x**2 for x in range(1, 10)]\n",
    "```\n",
    "\n",
    "Now you have all the tools you need to complete the following exercises. "
   ]
  },
  {
   "cell_type": "markdown",
   "metadata": {
    "Xeditable": false,
    "deletable": false,
    "nbgrader": {
     "cell_type": "markdown",
     "checksum": "e25d026b2b82755018e32c1070daf3af",
     "grade": false,
     "grade_id": "cell-13e40a1399707439",
     "locked": true,
     "schema_version": 2,
     "solution": false
    }
   },
   "source": [
    "## Part B\n",
    "\n",
    "Write a function that returns a list of numbers, such that $ x_i=ln(i) $ for $1\\leq i \\leq n$. \n",
    "\n",
    "* Don't worry about the case where $n <= 0$.\n",
    "* Round the outputs to the nearest three decimal places.\n",
    "* Hint: Use the NumPy functions [numpy.round](https://numpy.org/doc/stable/reference/generated/numpy.round_.html) and [numpy.log](https://numpy.org/doc/stable/reference/generated/numpy.log.html). \n",
    "* The assert statements below will be very picky on where spaces show up, and this narrows the range of solutions available to print out the list\n",
    "\n",
    "Additionally, write the function so that it raises the `NotImplementedError` *unless* you give the function something to return *before* the `NotImplementedError` statement appears. You can use the following syntax to raise an error:\n",
    "\n",
    "```python \n",
    "raise NotImplementedError()\n",
    "```\n",
    "If you finish early, try to come up with more than one way to code this."
   ]
  },
  {
   "cell_type": "code",
   "execution_count": null,
   "metadata": {
    "ExecuteTime": {
     "end_time": "2018-01-18T23:32:44.865968Z",
     "start_time": "2018-01-18T23:32:44.861303Z"
    },
    "deletable": false,
    "nbgrader": {
     "cell_type": "code",
     "checksum": "f35253b43ffb11504e10901b9526e4ca",
     "grade": false,
     "grade_id": "cell-9388c587d0e639ff",
     "locked": false,
     "schema_version": 2,
     "solution": true
    }
   },
   "outputs": [],
   "source": [
    "def natlogs(n):\n",
    "    \"\"\"\n",
    "    This function takes an integer n>0 as input.\n",
    "    It takes the natural log of each integer from 1 to n and returns a list,\n",
    "    such that the ith element of the returned list equals ln(i), rounded to \n",
    "    three decimal places.\n",
    "    \"\"\"\n",
    "    \n",
    "    # YOUR CODE HERE\n",
    "    \n",
    "    raise NotImplementedError()"
   ]
  },
  {
   "cell_type": "markdown",
   "metadata": {
    "Xeditable": false,
    "deletable": false,
    "nbgrader": {
     "cell_type": "markdown",
     "checksum": "d4b24a6a9f827f13fc1b08fde9ac9375",
     "grade": false,
     "grade_id": "cell-b8e3b9b11b0f764c",
     "locked": true,
     "schema_version": 2,
     "solution": false
    }
   },
   "source": [
    "Your function should print `[0.0, 0.693, 1.099, 1.386, 1.609, 1.792, 1.946, 2.079, 2.197, 2.303]` for $n=10$.  \n",
    "Check that it does:"
   ]
  },
  {
   "cell_type": "code",
   "execution_count": null,
   "metadata": {
    "ExecuteTime": {
     "end_time": "2018-01-18T23:35:11.019139Z",
     "start_time": "2018-01-18T23:35:11.010168Z"
    }
   },
   "outputs": [],
   "source": [
    "print(natlogs(10))"
   ]
  },
  {
   "cell_type": "markdown",
   "metadata": {
    "Xeditable": false,
    "deletable": false,
    "nbgrader": {
     "cell_type": "markdown",
     "checksum": "40f19656b0e717c06ecd3818ca0f6190",
     "grade": false,
     "grade_id": "cell-5beb02bc07017f6f",
     "locked": true,
     "schema_version": 2,
     "solution": false
    }
   },
   "source": [
    "Check that `natlogs` returns the correct output for several inputs.  \n",
    "\n",
    "Note, the `assert` syntax below will throw an `AssertionError` if the boolean statements evaluate to `False` and do nothing if the statements are `True`. (You want your statements to be true.)"
   ]
  },
  {
   "cell_type": "code",
   "execution_count": null,
   "metadata": {
    "Xeditable": false,
    "deletable": false,
    "nbgrader": {
     "cell_type": "code",
     "checksum": "fc65774b807eee19f4b8f91cb9328951",
     "grade": true,
     "grade_id": "squares-tests",
     "locked": true,
     "points": 1,
     "schema_version": 2,
     "solution": false
    }
   },
   "outputs": [],
   "source": [
    "assert natlogs(1) == [0.0]\n",
    "assert natlogs(2) == [0.0, 0.693]\n",
    "assert natlogs(10) == [0.0, 0.693, 1.099, 1.386, 1.609, 1.792, 1.946, 2.079, 2.197, 2.303]"
   ]
  },
  {
   "cell_type": "markdown",
   "metadata": {
    "Xeditable": false,
    "deletable": false,
    "nbgrader": {
     "cell_type": "markdown",
     "checksum": "30a6af98005ec896f4a358531c8968a9",
     "grade": false,
     "grade_id": "cell-262690d3399a01a6",
     "locked": true,
     "schema_version": 2,
     "solution": false
    }
   },
   "source": [
    "## Part C\n",
    "Write a function that \"cleans\" a string by:\n",
    "1.  making all letters uppercase, and\n",
    "2.  trimming leading and ending spaces.\n",
    "\n",
    "The function should take in a \"raw\" string as input and return a \"clean\" string."
   ]
  },
  {
   "cell_type": "code",
   "execution_count": null,
   "metadata": {
    "deletable": false,
    "nbgrader": {
     "cell_type": "code",
     "checksum": "d06b6f380c1f70a92591386e663ac1f1",
     "grade": false,
     "grade_id": "cell-b1fa3ce3a6566fbc",
     "locked": false,
     "schema_version": 2,
     "solution": true
    }
   },
   "outputs": [],
   "source": [
    "def clean(string):\n",
    "    \"\"\"Return cleaned string\"\"\"\n",
    "    # YOUR CODE HERE\n",
    "\n",
    "    raise NotImplementedError()"
   ]
  },
  {
   "cell_type": "markdown",
   "metadata": {
    "Xeditable": false,
    "deletable": false,
    "nbgrader": {
     "cell_type": "markdown",
     "checksum": "d57d4cc3f4973cd41462666f9ec3729e",
     "grade": false,
     "grade_id": "cell-8511ab6086312dfb",
     "locked": true,
     "schema_version": 2,
     "solution": false
    }
   },
   "source": [
    "Your function should clean the address \" 12 Oak Street  \" to \"12 OAK STREET\":"
   ]
  },
  {
   "cell_type": "code",
   "execution_count": null,
   "metadata": {},
   "outputs": [],
   "source": [
    "clean(\" 12 Oak Street \")"
   ]
  },
  {
   "cell_type": "markdown",
   "metadata": {
    "Xeditable": false,
    "deletable": false,
    "nbgrader": {
     "cell_type": "markdown",
     "checksum": "6a7d12bf6c75cd69339e825d94e2d744",
     "grade": false,
     "grade_id": "cell-a8e600015df76fb8",
     "locked": true,
     "schema_version": 2,
     "solution": false
    }
   },
   "source": [
    "Check that the function works as expected for several inputs."
   ]
  },
  {
   "cell_type": "code",
   "execution_count": null,
   "metadata": {
    "Xeditable": false,
    "deletable": false,
    "nbgrader": {
     "cell_type": "code",
     "checksum": "39dd9a3fcfa1d29414c216d88c2f7c17",
     "grade": true,
     "grade_id": "test-is-palindrome",
     "locked": true,
     "points": 1,
     "schema_version": 2,
     "solution": false
    }
   },
   "outputs": [],
   "source": [
    "assert clean(\"ER 131-lab section 101\") == \"ER 131-LAB SECTION 101\"\n",
    "assert clean(\" 09/01/2020 \") == \"09/01/2020\"\n",
    "assert clean(\"$1500 Dollars \") == \"$1500 DOLLARS\""
   ]
  },
  {
   "cell_type": "markdown",
   "metadata": {},
   "source": [
    "### Bonus question\n",
    "Modify your `clean` function to also replace any non-alphanumeric characters (not A-Z or 0-9) with a space (hint: you'll have to use [regular expressions](https://docs.python.org/3/library/re.html) for this part. Check out Chapter 12 of the [DS 100 textbook](https://www.textbook.ds100.org/intro) for more explanation and examples of how to use \"regex\")."
   ]
  },
  {
   "cell_type": "code",
   "execution_count": null,
   "metadata": {},
   "outputs": [],
   "source": [
    "def clean_bonus(string):\n",
    "    \"\"\"Return cleaned string\"\"\"\n",
    "    # OPTIONAL: YOUR CODE HERE"
   ]
  },
  {
   "cell_type": "code",
   "execution_count": null,
   "metadata": {},
   "outputs": [],
   "source": [
    "# # Uncomment this cell to test clean_bonus, if you attempted it\n",
    "\n",
    "# assert clean_bonus(\"ER 131-lab section 101\") == \"ER 131 LAB SECTION 101\"\n",
    "# assert clean_bonus(\" 09/01/2020 \") == \"09 01 2020\"\n",
    "# assert clean_bonus(\"$1500 DOLLARS \") == \"1500 DOLLARS\""
   ]
  },
  {
   "cell_type": "markdown",
   "metadata": {
    "Xeditable": false,
    "deletable": false,
    "nbgrader": {
     "cell_type": "markdown",
     "checksum": "41f2f563094755fd6516c659af09cd84",
     "grade": false,
     "grade_id": "cell-eb403641adc12b74",
     "locked": true,
     "schema_version": 2,
     "solution": false
    }
   },
   "source": [
    "## Part D\n",
    "\n",
    "Run the following code to see a pretty plot."
   ]
  },
  {
   "cell_type": "code",
   "execution_count": null,
   "metadata": {},
   "outputs": [],
   "source": [
    "from mpl_toolkits.mplot3d import axes3d\n",
    "import matplotlib.pyplot as plt\n",
    "\n",
    "\n",
    "# Create a plot\n",
    "u = np.linspace(1.5*np.pi, -1.5*np.pi, 100)\n",
    "[x,y] = np.meshgrid(u, u)\n",
    "z = np.cos( np.sqrt(x.flatten()**2 + y.flatten()**2) ).reshape(x.shape)\n",
    "\n",
    "\n",
    "fig = plt.figure()\n",
    "ax = fig.add_subplot(111, projection='3d')\n",
    "# Plot a basic wireframe.\n",
    "ax.plot_wireframe(x, y, z, rstride=10, cstride=10)\n",
    "ax.view_init(elev=30., azim=50)\n",
    "plt.savefig(\"figure1.pdf\")"
   ]
  },
  {
   "cell_type": "markdown",
   "metadata": {},
   "source": [
    "Summarize the purpose of each of the following numpy methods:\n",
    "\n",
    "* `np.linspace`: *YOUR ANSWER HERE*\n",
    "* `np.pi`: *YOUR ANSWER HERE*\n",
    "* `np.meshgrid`: *YOUR ANSWER HERE*\n",
    "* `np.flatten`: *YOUR ANSWER HERE*"
   ]
  },
  {
   "cell_type": "markdown",
   "metadata": {},
   "source": [
    "In line 12, what does the number '111' in the `add_subplot` function represent? Under what circumstances might you enter \"121\" here instead?"
   ]
  },
  {
   "cell_type": "markdown",
   "metadata": {},
   "source": [
    "*YOUR ANSWER HERE*"
   ]
  },
  {
   "cell_type": "markdown",
   "metadata": {},
   "source": [
    "What is the purpose of the `rstride` and `cstride` parameters in the `plot_wireframe` function?"
   ]
  },
  {
   "cell_type": "markdown",
   "metadata": {},
   "source": [
    "*YOUR ANSWER HERE*"
   ]
  },
  {
   "cell_type": "markdown",
   "metadata": {},
   "source": [
    "In line 15, what happens when you change the `elev` parameter in the `view_init` function? How about `azim`?"
   ]
  },
  {
   "cell_type": "markdown",
   "metadata": {},
   "source": [
    "*YOUR ANSWER HERE*"
   ]
  },
  {
   "cell_type": "markdown",
   "metadata": {},
   "source": [
    "The last line of code saves the figure as a pdf file. Can you find this file? Where is it stored?"
   ]
  },
  {
   "cell_type": "markdown",
   "metadata": {},
   "source": [
    "*YOUR ANSWER HERE*"
   ]
  },
  {
   "cell_type": "markdown",
   "metadata": {},
   "source": [
    "## Part E\n",
    "\n",
    "This lab will be graded based on completion, and is intended to provide you with a \"low stakes\" way to familiarlize yourself with the bCourses interface you will use to submit assignments. Before you submit, click **Kernel** --> **Restart Kernel and Run All Cells...**. Then, go to the toolbar and click **File** -> **Download as** -> **.html** and submit the file through bCourses."
   ]
  },
  {
   "cell_type": "markdown",
   "metadata": {},
   "source": [
    "## Hooray, you're done!"
   ]
  }
 ],
 "metadata": {
  "celltoolbar": "Edit Metadata",
  "kernelspec": {
   "display_name": "Python 3",
   "language": "python",
   "name": "python3"
  },
  "language_info": {
   "codemirror_mode": {
    "name": "ipython",
    "version": 3
   },
   "file_extension": ".py",
   "mimetype": "text/x-python",
   "name": "python",
   "nbconvert_exporter": "python",
   "pygments_lexer": "ipython3",
   "version": "3.11.8"
  },
  "toc": {
   "colors": {
    "hover_highlight": "#DAA520",
    "running_highlight": "#FF0000",
    "selected_highlight": "#FFD700"
   },
   "moveMenuLeft": true,
   "nav_menu": {
    "height": "156px",
    "width": "252px"
   },
   "navigate_menu": true,
   "number_sections": true,
   "sideBar": true,
   "threshold": 4,
   "toc_cell": true,
   "toc_section_display": "block",
   "toc_window_display": true
  }
 },
 "nbformat": 4,
 "nbformat_minor": 2
}
