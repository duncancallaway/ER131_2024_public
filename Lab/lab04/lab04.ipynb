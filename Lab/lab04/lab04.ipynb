{
 "cells": [
  {
   "cell_type": "markdown",
   "metadata": {},
   "source": [
    "Before you turn this problem in, make sure everything runs as expected. First, **restart the kernel** (in the menubar, select Kernel$\\rightarrow$Restart) and then **run all cells** (in the menubar, select Cell$\\rightarrow$Run All).\n",
    "\n",
    "Make sure you fill in any place that says `YOUR CODE HERE` or \"YOUR ANSWER HERE\", as well as your name and collaborators below:"
   ]
  },
  {
   "cell_type": "code",
   "execution_count": null,
   "metadata": {},
   "outputs": [],
   "source": [
    "NAME = \"\" # put your full name here\n",
    "COLLABORATORS = [] # list anyone you collaborated with on this workbook"
   ]
  },
  {
   "cell_type": "markdown",
   "metadata": {},
   "source": [
    "---"
   ]
  },
  {
   "cell_type": "markdown",
   "metadata": {},
   "source": [
    "## Lab 4: Visualization"
   ]
  },
  {
   "cell_type": "markdown",
   "metadata": {},
   "source": [
    "Welcome to your fourth lab of the semester!<br>\n",
    "\n",
    "This lab aims to get you started with visualization in Python.\n",
    "\n",
    "### Learning objectives:\n",
    "At the end of this lab, you should be able to\n",
    "* apply principles of scale, conditioning, perception, transformation, context, and smoothing to critique data visualizations\n",
    "* refine your ability to do exploratory data analysis\n",
    "* develop an understanding for how plot parameters can be adjusted to influence scale, conditioning, perception, transformation, context, and smoothing."
   ]
  },
  {
   "cell_type": "markdown",
   "metadata": {},
   "source": [
    "## Question 0: Critique a real-world visualization\n",
    "\n",
    "Let's start by looking at some example figures. Please find at least one data visualization (graph, chart, or animation). This can be something from popular media, academic journals, or a creation of your own. Only requirement is that it needs to visually summarize data.\n",
    "\n",
    "### Question 0.1 (1 pt)\n",
    "Please provide the URL or other reference to your figure of choice."
   ]
  },
  {
   "cell_type": "markdown",
   "metadata": {},
   "source": [
    "*YOUR ANSWER HERE*"
   ]
  },
  {
   "cell_type": "markdown",
   "metadata": {},
   "source": [
    "### Question 0.2 (1 pt)\n",
    "What does this visualization show? Is there a message that's being conveyed with the visualization? If so, what is it?"
   ]
  },
  {
   "cell_type": "markdown",
   "metadata": {},
   "source": [
    "*YOUR ANSWER HERE*"
   ]
  },
  {
   "cell_type": "markdown",
   "metadata": {},
   "source": [
    "### Question 0.3 (2 pts)\n",
    "What do you like about this figure? What can be improved? As much as possible, frame your answer in terms of the visualization principles we learned in lecture (scale, conditioning, perception, transformation, context, and smoothing). "
   ]
  },
  {
   "cell_type": "markdown",
   "metadata": {},
   "source": [
    "*YOUR ANSWER HERE*"
   ]
  },
  {
   "cell_type": "markdown",
   "metadata": {},
   "source": [
    "## Setup"
   ]
  },
  {
   "cell_type": "code",
   "execution_count": null,
   "metadata": {},
   "outputs": [],
   "source": [
    "import numpy as np\n",
    "import matplotlib\n",
    "import matplotlib.pyplot as plt\n",
    "import pandas as pd\n",
    "import os\n",
    "import seaborn as sns\n",
    "%matplotlib inline"
   ]
  },
  {
   "cell_type": "markdown",
   "metadata": {},
   "source": [
    "## Question 1: Understanding our data\n",
    "The data from this lab comes from the Environmental Protection Agency (EPA). From the [daily air quality data tool](https://www.epa.gov/outdoor-air-quality-data/download-daily-data), we pulled PM2.5 data from 2023 for monitors in Alameda County. Let's take a look at the data in our data folder by running the cell below."
   ]
  },
  {
   "cell_type": "code",
   "execution_count": null,
   "metadata": {},
   "outputs": [],
   "source": [
    "os.listdir('data')"
   ]
  },
  {
   "cell_type": "markdown",
   "metadata": {},
   "source": [
    "### Question 1.1 (1 pt)\n",
    "Create a dataframe called `alameda_pm25` that contains the data from the .csv found in the 'data' folder."
   ]
  },
  {
   "cell_type": "code",
   "execution_count": null,
   "metadata": {},
   "outputs": [],
   "source": [
    "# YOUR CODE HERE"
   ]
  },
  {
   "cell_type": "code",
   "execution_count": null,
   "metadata": {},
   "outputs": [],
   "source": [
    "alameda_pm25.head()"
   ]
  },
  {
   "cell_type": "markdown",
   "metadata": {},
   "source": [
    "### Question 1.2.1 (1 pt)\n",
    "Use `.describe()` to summarize the data in `alameda_pm25`."
   ]
  },
  {
   "cell_type": "code",
   "execution_count": null,
   "metadata": {},
   "outputs": [],
   "source": [
    "# YOUR CODE HERE"
   ]
  },
  {
   "cell_type": "markdown",
   "metadata": {},
   "source": [
    "### Question 1.2.2 (1 pt)\n",
    "You'll notice that the output of `.describe()` drops the \"Date\" column because it isn't a numeric type. Try running `.describe()` again, this time setting the argument `include = 'all'`."
   ]
  },
  {
   "cell_type": "code",
   "execution_count": null,
   "metadata": {},
   "outputs": [],
   "source": [
    "#YOUR CODE HERE"
   ]
  },
  {
   "cell_type": "markdown",
   "metadata": {},
   "source": [
    "### Question 1.2.3 (2 pts)\n",
    "Now, try converting the \"Date\" field to a `datetime` data type using `pd.to_datetime`. Then, re-run the `.describe` function, using the argument `include = all`. Does the output of `.describe` change when you do this? Why?"
   ]
  },
  {
   "cell_type": "code",
   "execution_count": null,
   "metadata": {},
   "outputs": [],
   "source": [
    "# YOUR CODE HERE"
   ]
  },
  {
   "cell_type": "markdown",
   "metadata": {},
   "source": [
    "*YOUR ANSWER HERE*"
   ]
  },
  {
   "cell_type": "markdown",
   "metadata": {},
   "source": [
    "### Question 1.3 (1 pt)\n",
    "What are the unique site names in `alameda_pm25`? "
   ]
  },
  {
   "cell_type": "code",
   "execution_count": null,
   "metadata": {},
   "outputs": [],
   "source": [
    "# YOUR CODE HERE"
   ]
  },
  {
   "cell_type": "markdown",
   "metadata": {},
   "source": [
    "### Question 1.4 (1 pt)\n",
    "On what date, and at which site, does the maximum daily mean PM 2.5 concentration occur?"
   ]
  },
  {
   "cell_type": "code",
   "execution_count": null,
   "metadata": {},
   "outputs": [],
   "source": [
    "# SCRATCH WORK HERE"
   ]
  },
  {
   "cell_type": "markdown",
   "metadata": {},
   "source": [
    "*YOUR ANSWER HERE*"
   ]
  },
  {
   "cell_type": "markdown",
   "metadata": {},
   "source": [
    "## Question 2: Plotting distributions\n",
    "In this question, we'll create a histogram of PM2.5 Air Quality Index (AQI) for just the Livermore site measurements.\n",
    "\n",
    "### Question 2.1 (1 pt)\n",
    "Scroll to the bottom of the [EPA documentation for Air Data](https://www.epa.gov/outdoor-air-quality-data/air-data-basic-information). What is AQI, how is it different than the concentration of the pollutant?"
   ]
  },
  {
   "cell_type": "markdown",
   "metadata": {},
   "source": [
    "*YOUR ANSWER HERE*"
   ]
  },
  {
   "cell_type": "markdown",
   "metadata": {},
   "source": [
    "### Question 2.2 (1 pt)\n",
    "Start by creating a dataframe that contains just the columns \"Date\", \"Daily Mean PM2.5 Concentration\", and 'DAILY_AQI_VALUE for Livermore, and name it `liv_25`."
   ]
  },
  {
   "cell_type": "code",
   "execution_count": null,
   "metadata": {},
   "outputs": [],
   "source": [
    "# YOUR CODE HERE\n",
    "liv_pm25 = alameda_pm25.loc[alameda_pm25[\"Site Name\"] == \"Livermore\", [\"Date\", \"Daily Mean PM2.5 Concentration\",'DAILY_AQI_VALUE']]\n",
    "liv_pm25"
   ]
  },
  {
   "cell_type": "markdown",
   "metadata": {},
   "source": [
    "### Question 2.3 (2 pts)\n",
    "How many records are in `liv_25`, and what does this imply about the temporal resolution of the data? (Hint: try using the `.dt.dayofyear` and `.max()` methods on the `Date` column.)"
   ]
  },
  {
   "cell_type": "code",
   "execution_count": null,
   "metadata": {},
   "outputs": [],
   "source": [
    "# SCRATCH WORK HERE"
   ]
  },
  {
   "cell_type": "markdown",
   "metadata": {},
   "source": [
    "*YOUR ANSWER HERE*"
   ]
  },
  {
   "cell_type": "markdown",
   "metadata": {},
   "source": [
    "We can use [plt.hist()](https://matplotlib.org/3.1.1/api/_as_gen/matplotlib.pyplot.hist.html) to create a histogram of daily AQI values in Livermore. First, we'll call the function with just the `x` argument populated. Run the cell below to see what the histogram looks like."
   ]
  },
  {
   "cell_type": "code",
   "execution_count": null,
   "metadata": {},
   "outputs": [],
   "source": [
    "plt.hist(liv_pm25[\"DAILY_AQI_VALUE\"])"
   ]
  },
  {
   "cell_type": "markdown",
   "metadata": {},
   "source": [
    "Let's play around with the `bins` argument `plt.hist()`. As the documentation for `plt.hist()` outlines, `bins` can take a bunch of different datatypes - it can be an integer, or a list of integers, or even a string. Let's try all three of these possibilities below. Note the informative output from `plt.hist` that appears above the plot."
   ]
  },
  {
   "cell_type": "code",
   "execution_count": null,
   "metadata": {},
   "outputs": [],
   "source": [
    "# setting bins to an integer\n",
    "plt.hist(liv_pm25[\"DAILY_AQI_VALUE\"], bins = 5)"
   ]
  },
  {
   "cell_type": "code",
   "execution_count": null,
   "metadata": {},
   "outputs": [],
   "source": [
    "# setting bins to a list\n",
    "bins_list = [i for i in range(0,225,25)]\n",
    "plt.hist(liv_pm25[\"DAILY_AQI_VALUE\"], bins = bins_list)"
   ]
  },
  {
   "cell_type": "code",
   "execution_count": null,
   "metadata": {},
   "outputs": [],
   "source": [
    "plt.hist(liv_pm25[\"DAILY_AQI_VALUE\"], bins = \"sqrt\")"
   ]
  },
  {
   "cell_type": "markdown",
   "metadata": {},
   "source": [
    "### Question 2.4 (2 pts)\n",
    "Try playing around with the values passed to `bins = ` above. Can you explain how each approach bins the data? (the string argument is a little tricky, but it's documented in the [\"Notes\" section of this page](https://docs.scipy.org/doc/numpy/reference/generated/numpy.histogram_bin_edges.html))"
   ]
  },
  {
   "cell_type": "markdown",
   "metadata": {},
   "source": [
    "*YOUR ANSWER HERE*"
   ]
  },
  {
   "cell_type": "markdown",
   "metadata": {},
   "source": [
    "### Question 2.5 (1 pt)\n",
    "Plot a histogram of AQI for Livermore below. \n",
    "1. Play around with different binning strategies and choose the one you like best.\n",
    "2. Add axis labels and a title."
   ]
  },
  {
   "cell_type": "code",
   "execution_count": null,
   "metadata": {
    "scrolled": true
   },
   "outputs": [],
   "source": [
    "# FILL IN THE CODE BELOW\n",
    "\n",
    "plt.hist(...)\n",
    "plt.xlabel(...)\n",
    "plt.ylabel(...)\n",
    "plt.title(...)\n",
    "plt.show()"
   ]
  },
  {
   "cell_type": "markdown",
   "metadata": {},
   "source": [
    "### Question 2.6 (1 pt)\n",
    "Why did you choose the binning strategy you did?"
   ]
  },
  {
   "cell_type": "markdown",
   "metadata": {},
   "source": [
    "*YOUR ANSWER HERE*"
   ]
  },
  {
   "cell_type": "markdown",
   "metadata": {},
   "source": [
    "## Question 3: Creating Kernel Density Estimate (KDE) plots\n",
    "A Kernel Density Estimate (KDE) gives us a probability distribution for a continuous variable from a set of observed data points. Our histogram gives us some information about the distribution of AQI in Livermore - we can see how often we observe an AQI that falls within a certain bin over the first 9 months of 2023. But because histograms are binned and discretize data, the amount of information we can get about a continuous variable will always be limited by the size of the bins.<br>\n",
    "\n",
    "To understand how to create a KDE, we have to first figure out what \"kernel\" means. A kernel is a weighting function, and it shares certain mathematical properties with probability density functions (it always evaluates to a non-negative and real value, and its integral - or the area under the curve - equals 1).  Kernels are also *even*, meaning the value they return is independent of the sign of the argument. ([source](https://chemicalstatistician.wordpress.com/2013/06/09/exploratory-data-analysis-kernel-density-estimation-in-r-on-ozone-pollution-data-in-new-york-and-ozonopolis/)).<br>\n",
    "\n",
    "KDE \"applies\" the kernel on a grid of points along the support of your data set. Like the edges of bins in a histogram, these points need not correspond to actual observations in your data set.  They are just equally spaced points, as they were in the histogram examples above.  \n",
    "\n",
    "What does it mean to \"apply\" the kernel to a point on the support?  Put simply, the kernel measures how many observations in the data set are close by. The kernel returns a higher number if the point is in a crowded part of the support, and a lower value if the point is by itself. Different kernels weight the importance of nearby observations differently.  Some give equal weight to all observations in a range, and others give more weight to observations at the center of the kernel, i.e. the point where you're evaluating the kernel.\n",
    "\n",
    "What's nice about the construction of KDE kernels is that the collective evaluation of the kernel along all the grid points you chose on the support can be interpreted as a probability distribution. (This is because the kernels are carefully defined in mathematical terms to ensure this resulting property.) That is, if you plot all those kernel evaluations as a function of the points where you evaluated them and then connect those points together, the resulting curve is an estimate of the probability density function of the underlying data. Below is an example of what a KDE might look like for ozone concetrations measured at two locations ([source](https://chemicalstatistician.wordpress.com/2013/06/09/exploratory-data-analysis-kernel-density-estimation-in-r-on-ozone-pollution-data-in-new-york-and-ozonopolis/)).<br>\n",
    "<img src=\"images/kernel-density-plot-ozone3.png\">\n",
    "\n",
    "(If this feels a little confusing, don't worry! We'll discuss it as a group in lab, and the next few questions will also help us understand how KDEs work)."
   ]
  },
  {
   "cell_type": "markdown",
   "metadata": {},
   "source": [
    "### Question 3.1 (2 pts)\n",
    "Let's use [this tool](https://mathisonian.github.io/kde/) to help us explore KDEs. Play around with the bandwidth and kernel. What happens to the KDE curve (the blue line) when you change the bandwidth? Why? How about the shape of the kernel (the red line)?"
   ]
  },
  {
   "cell_type": "markdown",
   "metadata": {},
   "source": [
    "*Your answer here*"
   ]
  },
  {
   "cell_type": "markdown",
   "metadata": {},
   "source": [
    "While it's always good to understand the math behind what we're plotting or analyzing, there are thankfully functions and packages that neatly do the math for us. In the Setup cell at the very top, we imported the package `seaborn` as `sns`. [`seaborn`](https://seaborn.pydata.org/) is a data visualization library that builds on `matplotlib`, and it contains convenient functions for a range of plot types, including KDE plots.\n",
    "\n",
    "Let's start by running the cell below to pull the documentation for [`kdeplot`](https://seaborn.pydata.org/generated/seaborn.kdeplot.html)."
   ]
  },
  {
   "cell_type": "code",
   "execution_count": null,
   "metadata": {},
   "outputs": [],
   "source": [
    "sns.kdeplot?"
   ]
  },
  {
   "cell_type": "markdown",
   "metadata": {},
   "source": [
    "### Question 3.2 (1 pt)\n",
    "From the documentation and from what you know about KDE plots, which argument(s) would you play with to change how the final KDE curve looks?"
   ]
  },
  {
   "cell_type": "markdown",
   "metadata": {},
   "source": [
    "*YOUR ANSWER HERE*"
   ]
  },
  {
   "cell_type": "markdown",
   "metadata": {},
   "source": [
    "Let's draw a KDE plot using `sns.kdeplot()` of AQI in Livermore. In the cell below, we're just passing our data to the function, and using default values for all other arguments. Run the cell to see what the plot looks like."
   ]
  },
  {
   "cell_type": "code",
   "execution_count": null,
   "metadata": {},
   "outputs": [],
   "source": [
    "# run this cell\n",
    "sns.kdeplot(liv_pm25[\"DAILY_AQI_VALUE\"])"
   ]
  },
  {
   "cell_type": "markdown",
   "metadata": {},
   "source": [
    "### Question 3.3 (2 pts)\n",
    "Try plotting the KDE plot with different gridsize, kernel, and bandwidth parameters. How does changing the bandwidth parameter impact the plot? Show at least two examples with different bandwidths on the same chart. Add axis labels, a legend, and a title.\n",
    "\n",
    "You can plot multiple curves on the same plot by calling the `sns.kdeplot()` function twice, i.e.:\n",
    "```python\n",
    "sns.kdeplot(...) # plot dataset 1\n",
    "sns.kdeplot(...) # plot dataset 2\n",
    "```\n",
    "\n",
    "You can add a legend by passing a list to the plt.legend() command, i.e.:\n",
    "``` python\n",
    "plt.legend([\"data label 1\", \"data label 2\"])\n",
    "```"
   ]
  },
  {
   "cell_type": "code",
   "execution_count": null,
   "metadata": {},
   "outputs": [],
   "source": [
    "# Fill in code below\n",
    "sns.kdeplot(...) # bw_adjust first option\n",
    "sns.kdeplot(...) # bw_adjust second option\n",
    "plt.xlabel(...)\n",
    "plt.ylabel(...)\n",
    "plt.title(...)"
   ]
  },
  {
   "cell_type": "markdown",
   "metadata": {},
   "source": [
    "*YOUR ANSWER HERE*"
   ]
  },
  {
   "cell_type": "markdown",
   "metadata": {},
   "source": [
    "### Question 3.4 (1 pt)\n",
    "Grab the data from Berkeley Aquatic Park by creating a dataframe that contains just the columns \"Date\", \"Daily Mean PM2.5 Concentration,\" and \"DAILY_AQI_VALUE\" for Berkeley Aquatic Park from `alameda_pm25`, and save it to dataframe `berkeley`.\n",
    "\n",
    "Plot the KDE for Berkeley Aquatic Park on the same plot as Livermore. Make sure to add a legend labelling the two locations, as well as axis labels and a title."
   ]
  },
  {
   "cell_type": "code",
   "execution_count": null,
   "metadata": {},
   "outputs": [],
   "source": [
    "# Fill in code below\n",
    "berkeley = ...\n",
    "\n",
    "sns.kdeplot(...)\n",
    "sns.kdeplot(...)\n",
    "plt.xlabel(...)\n",
    "plt.ylabel(...)\n",
    "plt.title(...)\n",
    "plt.legend(...)"
   ]
  },
  {
   "cell_type": "markdown",
   "metadata": {},
   "source": [
    "## Question 4: Box and Whisker Plots\n",
    "We've tried two different ways to visualize distributions: histograms and probability density functions using Kernel Density Estimates. Another way to show a distribution is a box and whisker plot. It's a much more summarized version of your distribution. The general format of a box and whisker plot is shown below ([source](http://sphweb.bumc.bu.edu/otlt/MPH-Modules/BS/BS704_SummarizingData/BS704_SummarizingData8.html)).<br>\n",
    "\n",
    "<img src = \"images/BoxWhisker1.png\" width=600>\n",
    "\n",
    "The \"box\" shows the bounds of your 25th and 75th percentile (also called the 1st and 3rd quartiles, or the interquartile range (IQR)). Basically, if you ordered your data and then divided it into four bins of equal size, your box would encompass the middle two bins. <br>\n",
    "\n",
    "The location of the whiskers can vary, but they're intended to show the full range of the data. In Seaborn, the [`sns.boxplot()`](https://seaborn.pydata.org/generated/seaborn.boxplot.html) function has a parameter called \"whis\". By default, \"whis\" is equal to 1.5.  This positions the whiskers at 1.5 times the distance from the median to the 25th and 75th percentiles. In this case we say the whiskers span 1.5 times the \"interquartile range.\"  Many scientific papers use this default.  You can also set `whis = [lo hi]` where `lo` and `hi` are numbers between zero and 100 and represent the position of the whiskers by percentile of the distribution. (For example, `whis = [5, 95]` would position the whiskers at the 5th and 95th percentiles).  <br>\n",
    "\n",
    "We're going to create a box and whisker plot that shows the distribution of PM2.5 values in two locations: Livermore and Berkeley Aquatic Park. In order to plot box and whisker plots with multiple categories of data (in this case, multiple site locations), we need each category to have the same length. In our case, `liv_pm25` contains 2 more observations than `berkeley` - you can confirm this using the `.shape` method. To standardize the size, we're going to use `pd.merge()` to combine `liv_pm25` and `berkeley`."
   ]
  },
  {
   "cell_type": "markdown",
   "metadata": {},
   "source": [
    "### Question 4.1 (1 pt)\n",
    "What kind of merge (inner, outer, right, or left) should we do so that we retain all of the data in both `liv_pm25` and `berkeley`? If you're not sure, consult the lab 3 notebook."
   ]
  },
  {
   "cell_type": "markdown",
   "metadata": {},
   "source": [
    "*YOUR ANSWER HERE*"
   ]
  },
  {
   "cell_type": "markdown",
   "metadata": {},
   "source": [
    "### Question 4.2 (1 pt)\n",
    "Merge `liv_pm25` and `berkeley` on the \"Date\" field, and save the merged dataframe to `pm25_merged`. Rename the columns to something more descriptive (i.e. a column name that includes the site name)."
   ]
  },
  {
   "cell_type": "code",
   "execution_count": null,
   "metadata": {},
   "outputs": [],
   "source": [
    "#YOUR CODE HERE*\n",
    "pm25_merged = ..."
   ]
  },
  {
   "cell_type": "code",
   "execution_count": null,
   "metadata": {},
   "outputs": [],
   "source": [
    "pm25_merged.head()"
   ]
  },
  {
   "cell_type": "markdown",
   "metadata": {},
   "source": [
    "Let's start by running the cell below to plot a basic boxplot using default parameters."
   ]
  },
  {
   "cell_type": "code",
   "execution_count": null,
   "metadata": {},
   "outputs": [],
   "source": [
    "sns.boxplot(data = pm25_merged.iloc[:,2::2])"
   ]
  },
  {
   "cell_type": "markdown",
   "metadata": {},
   "source": [
    "Let's try using seaborn's syntax for creating and formatting plots. While you can use matplotlib syntax with seaborn, as we did with the KDE plots, seaborn has its own function - [`seaborn.set`](https://seaborn.pydata.org/generated/seaborn.set.html) - that's used for customizing aesthetics. "
   ]
  },
  {
   "cell_type": "code",
   "execution_count": null,
   "metadata": {},
   "outputs": [],
   "source": [
    "# run this cell\n",
    "fig = sns.boxplot(data = pm25_merged.iloc[:,2::2])\n",
    "\n",
    "fig.set(\n",
    "    xlabel = 'Measurement location', \n",
    "    ylabel = 'Daily AQI'\n",
    ")"
   ]
  },
  {
   "cell_type": "markdown",
   "metadata": {},
   "source": [
    "### Question 4.3 (1 pt)\n",
    "Now, using the code in the previous cell as a starting point, change the orientation of the plot from vertical to horizontal (hint: check the `sns.boxplot` documentation) and adding a title."
   ]
  },
  {
   "cell_type": "code",
   "execution_count": null,
   "metadata": {},
   "outputs": [],
   "source": [
    "# YOUR CODE HERE"
   ]
  },
  {
   "cell_type": "markdown",
   "metadata": {},
   "source": [
    "### Question 4.4 (2 pts)\n",
    "Play around with the boxplot parameters - at minimum, try changing the whiskers \"whis\" parameter in the boxplots. Plot one of your favorite graphs below, and explain how the changes you made might change how the viewer interprets the data."
   ]
  },
  {
   "cell_type": "code",
   "execution_count": null,
   "metadata": {},
   "outputs": [],
   "source": [
    "# your code here"
   ]
  },
  {
   "cell_type": "markdown",
   "metadata": {},
   "source": [
    "*YOUR ANSWER HERE*"
   ]
  },
  {
   "cell_type": "markdown",
   "metadata": {},
   "source": [
    "## Question 5: Line graphs\n",
    "Let's plot AQI throughout 2023 by creating a line graph with date on the x-axis, and AQI on the y-axis, for all sites. We'll start by just calling the `plt.plot()` function with the x and y data as arguments, using default parameters otherwise.<br>"
   ]
  },
  {
   "cell_type": "code",
   "execution_count": null,
   "metadata": {},
   "outputs": [],
   "source": [
    "# run this cell\n",
    "plt.plot(alameda_pm25[\"Date\"].values, alameda_pm25[\"DAILY_AQI_VALUE\"].values)"
   ]
  },
  {
   "cell_type": "markdown",
   "metadata": {},
   "source": [
    "This plot is a little confusing! The date labels are crowding each other on the x-axis, and it's hard to identify trends since there are so many lines. We also have back and forth lines because matplotlib is plotting all of the different sites at once, so it's joining data from one site in September 2023 to data from another site in January 2023.<br> \n",
    "\n",
    "Let's try conditioning our data by assigning colors to the different locations. There are a lot of ways to do this - one method, of looping through all your categories and plotting them in layers, is shown below.<br>\n",
    "\n",
    "We can start by using a pre-defined color palette from one of [`seaborn`'s color palettes](https://seaborn.pydata.org/tutorial/color_palettes.html) (note that this is the only `seaborn` feature we're using in the line plot code - otherwise, we're just using `matplotlib` syntax). I'm going to choose \"colorblind\", but you can feel free to change the palette. If we use the `sns.color_palette` method, we can see that \"colorblind\" is a list of RGB color values. We can assign this color palette to the variable `color`."
   ]
  },
  {
   "cell_type": "code",
   "execution_count": null,
   "metadata": {},
   "outputs": [],
   "source": [
    "# run this cell\n",
    "palette = \"colorblind\" # you can try changing this to another pre-set palette\n",
    "sns.color_palette(palette)"
   ]
  },
  {
   "cell_type": "code",
   "execution_count": null,
   "metadata": {},
   "outputs": [],
   "source": [
    "# run this cell\n",
    "color = sns.color_palette(palette)"
   ]
  },
  {
   "cell_type": "markdown",
   "metadata": {},
   "source": [
    "In the cell below, we're going to loop through the unique site names in the full Alameda county dataset, and plot each dataframe subset separately, assigning a color for each from the list of colors provied in the seaborn color palette."
   ]
  },
  {
   "cell_type": "code",
   "execution_count": null,
   "metadata": {},
   "outputs": [],
   "source": [
    "# run this cell\n",
    "sites = list(alameda_pm25[\"Site Name\"].unique())\n",
    "for name in sites:\n",
    "    site_df = alameda_pm25[alameda_pm25[\"Site Name\"] == name]\n",
    "    plt.plot(site_df[\"Date\"].values, site_df[\"DAILY_AQI_VALUE\"].values, \n",
    "             color = color[sites.index(name)])"
   ]
  },
  {
   "cell_type": "markdown",
   "metadata": {},
   "source": [
    "That's a bit better, but there are still some odd lines, which cut across the plot. Let's make the plot bigger and add a legend. To do that, we're going to change our syntax slightly from previous examples. We'll create a new figure by calling `plt.figure()`, to which we can pass an argument for `figsize` that specifies the size of the figure.<br> \n",
    "\n",
    "A figure in `matplotlib` can include subplots - by convention, these are often given a variable name `ax`. We only need one plot in our figure, so when we call the function [`fig.addsubplot()`](https://matplotlib.org/3.1.1/api/_as_gen/matplotlib.figure.Figure.html#matplotlib.figure.Figure.add_subplot), we can just use default arguments (check the function documentation for information on how you can add multiple subplots).<br>\n",
    "\n",
    "Now, instead of using `plt.plot()`, we're going to use `ax.plot()` since `ax` is the variable that represents our plot within the figure `fig`.<br>\n",
    "\n",
    "After we've plotted all of the lines, we can add axis labels, a legend, and a title by using the respective methods on `ax`.\n",
    "\n",
    "### Question 5.1 (1 pt)\n",
    "Replace the ellipses in the code below with values that improve the figure. "
   ]
  },
  {
   "cell_type": "code",
   "execution_count": null,
   "metadata": {},
   "outputs": [],
   "source": [
    "fig = plt.figure(figsize = (...)) # YOUR CODE HERE\n",
    "ax = fig.add_subplot()\n",
    "\n",
    "for name in sites:\n",
    "    site_df = alameda_pm25[alameda_pm25[\"Site Name\"] == name]\n",
    "    ax.plot(site_df[\"Date\"].values, site_df[\"DAILY_AQI_VALUE\"].values, \n",
    "            color = color[sites.index(name)])\n",
    "\n",
    "ax.legend(sites) # YOUR CODE HERE\n",
    "ax.set_xlabel(\"Date\", fontsize = ...) # YOUR CODE HERE\n",
    "ax.set_ylabel(\"Daily AQI\", fontsize = ...) # YOUR CODE HERE\n",
    "ax.set_title(\"Daily AQI, January 1 - September 17, 2023\", fontsize = ...) #YOUR CODE HERE\n",
    "plt.show()"
   ]
  },
  {
   "cell_type": "markdown",
   "metadata": {},
   "source": [
    "### Question 5.2 (2 pts)"
   ]
  },
  {
   "cell_type": "markdown",
   "metadata": {},
   "source": [
    "The plot above is still pretty busy! It's hard to tell what is going on with the lines that cut across the plot. Try outputting a line plot where the data points for just \"Berkeley Aquatic Park\" are highlighted in a different color than the rest (e.g., Berkeley Aquatic Park in purple, everything else in grey). Use the code in the cell above as a starting point. Make any other tweaks that you think make the plot look better. Do you notice anything about the measurements at Berkeley Aquatic Park compared to the other sites?"
   ]
  },
  {
   "cell_type": "code",
   "execution_count": null,
   "metadata": {},
   "outputs": [],
   "source": [
    "# YOUR CODE HERE"
   ]
  },
  {
   "cell_type": "markdown",
   "metadata": {},
   "source": [
    "*YOUR ANSWER HERE*"
   ]
  },
  {
   "cell_type": "markdown",
   "metadata": {},
   "source": [
    "### Question 5.3 (2 pts)"
   ]
  },
  {
   "cell_type": "markdown",
   "metadata": {},
   "source": [
    "The plot above still has one location with a line cutting through the plot. Use your code above to output a line plot where the data points for just \"Pleasanton – Owens Ct\" are highlighted in a different color than the rest. \n",
    "\n",
    "Looking at your graph, what is one possible explanation for this odd display of data? Can you find any information if you search online? "
   ]
  },
  {
   "cell_type": "code",
   "execution_count": null,
   "metadata": {},
   "outputs": [],
   "source": [
    "# YOUR CODE HERE"
   ]
  },
  {
   "cell_type": "markdown",
   "metadata": {},
   "source": [
    "*YOUR ANSWER HERE*"
   ]
  },
  {
   "cell_type": "markdown",
   "metadata": {},
   "source": [
    "### Question 5.4 (1pt)"
   ]
  },
  {
   "cell_type": "markdown",
   "metadata": {},
   "source": [
    "Suppose that you want to work with this data further to investigate PM2.5 related to demographic data. How would you handle the data from Berkeley Aquatic Park and Pleasanton - Owens Ct.? Consider if you would want to include these datapoints, or what the impacts would be if you did not include the data. Do not provide any code for this question, provide a brief but concrete explanation of what you would do with these data. "
   ]
  },
  {
   "cell_type": "markdown",
   "metadata": {},
   "source": [
    "*YOUR ANSWER HERE*"
   ]
  },
  {
   "cell_type": "markdown",
   "metadata": {},
   "source": [
    "# Hooray, you're done! \n",
    "\n",
    "Please remember to submit your lab work, after clicking Kernel -> Restart & Run All, in .html and .ipynb format on bCourses."
   ]
  }
 ],
 "metadata": {
  "kernelspec": {
   "display_name": "Python 3 (ipykernel)",
   "language": "python",
   "name": "python3"
  },
  "language_info": {
   "codemirror_mode": {
    "name": "ipython",
    "version": 3
   },
   "file_extension": ".py",
   "mimetype": "text/x-python",
   "name": "python",
   "nbconvert_exporter": "python",
   "pygments_lexer": "ipython3",
   "version": "3.9.15"
  }
 },
 "nbformat": 4,
 "nbformat_minor": 2
}
