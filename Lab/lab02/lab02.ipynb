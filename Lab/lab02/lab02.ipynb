{
 "cells": [
  {
   "cell_type": "markdown",
   "metadata": {},
   "source": [
    "Before you turn this problem in, make sure everything runs as expected. First, **restart the kernel** (in the menubar, select Kernel $\\rightarrow$ Restart) and then **run all cells** (in the menubar, select Cell $\\rightarrow$ Run All).\n",
    "\n",
    "This lab is graded based on completion. Every question is worth one point, and you will get credit as long as you attempt the question. \n",
    "\n",
    "Make sure you fill in any place that says `YOUR CODE HERE` or \"YOUR ANSWER HERE\", as well as your name and collaborators below:"
   ]
  },
  {
   "cell_type": "code",
   "execution_count": null,
   "metadata": {},
   "outputs": [],
   "source": [
    "NAME = \"\"\n",
    "COLLABORATORS = \"\""
   ]
  },
  {
   "cell_type": "markdown",
   "metadata": {
    "Xeditable": false,
    "deletable": false,
    "nbgrader": {
     "cell_type": "markdown",
     "checksum": "49eb322f771860195bb0faf8163a7a6e",
     "grade": false,
     "grade_id": "title-cell",
     "locked": true,
     "schema_version": 2,
     "solution": false
    }
   },
   "source": [
    "# Lab 2: Pandas Overview"
   ]
  },
  {
   "cell_type": "markdown",
   "metadata": {
    "Xeditable": false,
    "deletable": false,
    "nbgrader": {
     "cell_type": "markdown",
     "checksum": "98afce7d3ed4007dca3f175818f15c4a",
     "grade": false,
     "grade_id": "outline-cell",
     "locked": true,
     "schema_version": 2,
     "solution": false
    }
   },
   "source": [
    "[Pandas](https://pandas.pydata.org/) is one of the most widely used Python libraries in data science. In this lab, you will learn commonly used data wrangling operations and tools in Pandas. At the end of this lab you should be able to:\n",
    "\n",
    "* Create dataframes using pandas\n",
    "* Slice data frames (i.e., selecting rows and columns)\n",
    "* Filter data (using boolean arrays)\n",
    "* Complete Data Aggregation and Grouping in dataframes\n",
    "\n",
    "\n",
    "In this lab, you are going to use several pandas methods like `drop()`, `loc()`, `groupby()`. Remember that you can press `shift+tab` on any method to see the documentation for that method. We highly recommend looking through the [Pandas documentation](https://pandas.pydata.org/) to get a sense of the functionality and possibilities!"
   ]
  },
  {
   "cell_type": "markdown",
   "metadata": {
    "Xeditable": false,
    "deletable": false,
    "nbgrader": {
     "cell_type": "markdown",
     "checksum": "a266ecf3eb83da155374e1ec4e5963b1",
     "grade": false,
     "grade_id": "setup-cell",
     "locked": true,
     "schema_version": 2,
     "solution": false
    }
   },
   "source": [
    "## Setup"
   ]
  },
  {
   "cell_type": "code",
   "execution_count": null,
   "metadata": {
    "Xeditable": false,
    "deletable": false,
    "nbgrader": {
     "cell_type": "code",
     "checksum": "1485c1b3d30a3abedd44f883e3734e95",
     "grade": false,
     "grade_id": "imports",
     "locked": true,
     "schema_version": 2,
     "solution": false
    }
   },
   "outputs": [],
   "source": [
    "# Import the following packages. Note the shorthand for pandas.\n",
    "import numpy as np\n",
    "import matplotlib.pyplot as plt\n",
    "import pandas as pd\n",
    "%matplotlib inline"
   ]
  },
  {
   "cell_type": "markdown",
   "metadata": {
    "Xeditable": false,
    "deletable": false,
    "nbgrader": {
     "cell_type": "markdown",
     "checksum": "b6636c3978a25629290021a8145552dd",
     "grade": false,
     "grade_id": "basic_intro",
     "locked": true,
     "schema_version": 2,
     "solution": false
    }
   },
   "source": [
    "## Part 1: Creating DataFrames & Basic Manipulations\n",
    "\n",
    "A [dataframe](https://pandas.pydata.org/pandas-docs/stable/user_guide/dsintro.html#dataframe) is a two-dimensional labeled data structure with rows of unique observations and columns holding data of potentially different types."
   ]
  },
  {
   "cell_type": "markdown",
   "metadata": {
    "Xeditable": false,
    "deletable": false,
    "nbgrader": {
     "cell_type": "markdown",
     "checksum": "13ea38efec7a58c7719932a710fffd30",
     "grade": false,
     "grade_id": "basic_method1",
     "locked": true,
     "schema_version": 2,
     "solution": false
    }
   },
   "source": [
    "**Method 1: ** You can create a dataframe by specifying the columns and values as shown below.\n",
    "\n",
    "Notice the syntax: you're passing a dictionary into the DataFrame.  The keys become the column names (e.g. `'name'`), and the values are lists (`['Peter',....`)"
   ]
  },
  {
   "cell_type": "code",
   "execution_count": null,
   "metadata": {
    "Xeditable": false,
    "deletable": false,
    "nbgrader": {
     "cell_type": "code",
     "checksum": "f65c7d4e1e0536b784c02e3e013e1e83",
     "grade": false,
     "grade_id": "basic_method1_code",
     "locked": true,
     "schema_version": 2,
     "solution": false
    }
   },
   "outputs": [],
   "source": [
    "animals = pd.DataFrame(\n",
    "    data={'name': ['Peter', 'Nutkin', 'Hunca Munca', 'Jemima'],\n",
    "          'species': ['rabbit', 'squirrel', 'mouse', 'duck']\n",
    "          })\n",
    "animals"
   ]
  },
  {
   "cell_type": "markdown",
   "metadata": {
    "Xeditable": false,
    "deletable": false,
    "nbgrader": {
     "cell_type": "markdown",
     "checksum": "e46895183a888dacb5cf5bff4a24418d",
     "grade": false,
     "grade_id": "basic_method2",
     "locked": true,
     "schema_version": 2,
     "solution": false
    }
   },
   "source": [
    "**Method 2: ** You can also define a dataframe by specifying the rows like below.\n",
    "\n",
    "Here, you're passing in tuples for each row of data (e.g. `(\"Peter\", \"rabbit\")`) and specifying the column names separately."
   ]
  },
  {
   "cell_type": "code",
   "execution_count": null,
   "metadata": {
    "Xeditable": false,
    "deletable": false,
    "nbgrader": {
     "cell_type": "code",
     "checksum": "27ea228471e9d83115cf64203a680c5f",
     "grade": false,
     "grade_id": "basic_method2_code",
     "locked": true,
     "schema_version": 2,
     "solution": false
    }
   },
   "outputs": [],
   "source": [
    "animals2 = pd.DataFrame(\n",
    "    [(\"Peter\", \"rabbit\"), (\"Nutkin\", \"squirrel\"), (\"Hunca Munca\", \"mouse\"),\n",
    "     (\"Jemima\", \"duck\")], \n",
    "    columns = [\"name\", \"species\"])\n",
    "animals2"
   ]
  },
  {
   "cell_type": "markdown",
   "metadata": {},
   "source": [
    "**Other methods**: Usually you won't be creating data frames in such a manual way.  You'll often be loading dataframes in from other file types -- for example, comma separated (csv) files.  More on that later."
   ]
  },
  {
   "cell_type": "markdown",
   "metadata": {
    "Xeditable": false,
    "deletable": false,
    "nbgrader": {
     "cell_type": "markdown",
     "checksum": "6f6f9b46eab31b8e03349dd0a901e27e",
     "grade": false,
     "grade_id": "basic_shape",
     "locked": true,
     "schema_version": 2,
     "solution": false
    }
   },
   "source": [
    "You can obtain the dimensions of a dataframe by using the shape attribute, `dataframe.shape`"
   ]
  },
  {
   "cell_type": "code",
   "execution_count": null,
   "metadata": {
    "Xeditable": false,
    "deletable": false,
    "nbgrader": {
     "cell_type": "code",
     "checksum": "ed75b53df21d95cd5d9dcc5bc246a703",
     "grade": false,
     "grade_id": "basic_shape_code",
     "locked": true,
     "schema_version": 2,
     "solution": false
    }
   },
   "outputs": [],
   "source": [
    "print(animals.shape)\n",
    "\n",
    "(num_rows, num_columns) = animals.shape\n",
    "num_rows, num_columns"
   ]
  },
  {
   "cell_type": "markdown",
   "metadata": {
    "Xeditable": false,
    "deletable": false,
    "nbgrader": {
     "cell_type": "markdown",
     "checksum": "d6ed6d869060c5b898557c15e357400e",
     "grade": false,
     "grade_id": "q1",
     "locked": true,
     "schema_version": 2,
     "solution": false
    }
   },
   "source": [
    "### Question 1\n",
    "\n",
    "You can add a column using the syntax `dataframe['new column name'] = [data]`. Add a column called `favorite food` to the `animals` table which contains the strings 'nut', 'carrot', 'corn', and 'cheese'. Use your best guess as to which animal prefers which food. "
   ]
  },
  {
   "cell_type": "code",
   "execution_count": null,
   "metadata": {
    "deletable": false,
    "nbgrader": {
     "cell_type": "code",
     "checksum": "1403f7c30fd46ec51a13b8139c438032",
     "grade": false,
     "grade_id": "q1_answer",
     "locked": false,
     "schema_version": 2,
     "solution": true
    },
    "tags": [
     "solution"
    ]
   },
   "outputs": [],
   "source": [
    "# YOUR CODE HERE"
   ]
  },
  {
   "cell_type": "code",
   "execution_count": null,
   "metadata": {
    "Xeditable": false,
    "deletable": false,
    "nbgrader": {
     "cell_type": "code",
     "checksum": "770aa3b01c83fa90747490e467a87a4b",
     "grade": false,
     "grade_id": "q1_display",
     "locked": true,
     "schema_version": 2,
     "solution": false
    }
   },
   "outputs": [],
   "source": [
    "animals"
   ]
  },
  {
   "cell_type": "markdown",
   "metadata": {
    "Xeditable": false,
    "deletable": false,
    "nbgrader": {
     "cell_type": "markdown",
     "checksum": "e8493837fea7832f4263d93075e6ee4f",
     "grade": false,
     "grade_id": "q2",
     "locked": true,
     "schema_version": 2,
     "solution": false
    }
   },
   "source": [
    "### Question 2\n",
    "\n",
    "Use the `.drop()` method to [drop](https://pandas.pydata.org/pandas-docs/stable/reference/api/pandas.DataFrame.drop.html) the `favorite food` column you created, and save the new dataframe (without the `favorite food` column) to `animals_original`. Some notes:\n",
    "\n",
    "* You'll need to look up `drop` to figure out the right syntax.\n",
    "* Make sure to use the `axis` parameter correctly"
   ]
  },
  {
   "cell_type": "code",
   "execution_count": null,
   "metadata": {
    "deletable": false,
    "nbgrader": {
     "cell_type": "code",
     "checksum": "ea711accb5e5c4a980d472b2353fc35f",
     "grade": false,
     "grade_id": "q2_answer",
     "locked": false,
     "schema_version": 2,
     "solution": true
    },
    "tags": [
     "solution"
    ]
   },
   "outputs": [],
   "source": [
    "# YOUR CODE HERE"
   ]
  },
  {
   "cell_type": "code",
   "execution_count": null,
   "metadata": {
    "Xeditable": false,
    "deletable": false,
    "nbgrader": {
     "cell_type": "code",
     "checksum": "d6c0d7ca4843fb9efde8b5ec59cd064d",
     "grade": false,
     "grade_id": "q2_display",
     "locked": true,
     "schema_version": 2,
     "solution": false
    }
   },
   "outputs": [],
   "source": [
    "animals_original"
   ]
  },
  {
   "cell_type": "code",
   "execution_count": null,
   "metadata": {
    "Xeditable": false,
    "deletable": false,
    "nbgrader": {
     "cell_type": "code",
     "checksum": "7460fd9bb70a53cec8418de04284ec52",
     "grade": true,
     "grade_id": "q2_test",
     "locked": true,
     "points": 1,
     "schema_version": 2,
     "solution": false
    }
   },
   "outputs": [],
   "source": [
    "assert animals_original.shape[1] == 2"
   ]
  },
  {
   "cell_type": "markdown",
   "metadata": {
    "Xeditable": false,
    "deletable": false,
    "nbgrader": {
     "cell_type": "markdown",
     "checksum": "2873d2408689c996e91ca7427bfa0021",
     "grade": false,
     "grade_id": "q3",
     "locked": true,
     "schema_version": 2,
     "solution": false
    }
   },
   "source": [
    "### Question 3\n",
    "\n",
    "Use the `.rename()` method to [rename](https://pandas.pydata.org/pandas-docs/stable/generated/pandas.DataFrame.rename.html) the columns of `animals_original` so they begin with a capital letter. Set the `inplace` parameter correctly to change the `animals_original` dataframe. (hint: in Question 2, `drop` creates and returns a new dataframe instead of changing `animals` because `inplace` by default is `False`)"
   ]
  },
  {
   "cell_type": "code",
   "execution_count": null,
   "metadata": {
    "deletable": false,
    "nbgrader": {
     "cell_type": "code",
     "checksum": "24bc0613aa2f3ed4507a21d4bde36b69",
     "grade": false,
     "grade_id": "q3_answer",
     "locked": false,
     "schema_version": 2,
     "solution": true
    },
    "tags": [
     "solution"
    ]
   },
   "outputs": [],
   "source": [
    "# YOUR CODE HERE"
   ]
  },
  {
   "cell_type": "code",
   "execution_count": null,
   "metadata": {
    "Xeditable": false,
    "deletable": false,
    "nbgrader": {
     "cell_type": "code",
     "checksum": "c8f0d8b55eac47e1241c5ccdbe284dd9",
     "grade": false,
     "grade_id": "q3_display",
     "locked": true,
     "schema_version": 2,
     "solution": false
    }
   },
   "outputs": [],
   "source": [
    "animals_original"
   ]
  },
  {
   "cell_type": "code",
   "execution_count": null,
   "metadata": {
    "Xeditable": false,
    "deletable": false,
    "nbgrader": {
     "cell_type": "code",
     "checksum": "a386f208c326cc4ec0f74d73b0b5435b",
     "grade": true,
     "grade_id": "q3_test",
     "locked": true,
     "points": 1,
     "schema_version": 2,
     "solution": false
    }
   },
   "outputs": [],
   "source": [
    "assert animals_original.columns[1] == 'Species' # the column number might be different for you"
   ]
  },
  {
   "cell_type": "markdown",
   "metadata": {},
   "source": [
    "*Background*: For the curious, the field values you just worked with were inspired by [Beatrix Potter's](https://en.wikipedia.org/wiki/Beatrix_Potter) characters."
   ]
  },
  {
   "cell_type": "markdown",
   "metadata": {
    "Xeditable": false,
    "deletable": false,
    "nbgrader": {
     "cell_type": "markdown",
     "checksum": "7f41cdad4fcd0115be1e855349421fef",
     "grade": false,
     "grade_id": "babyname_dataset",
     "locked": true,
     "schema_version": 2,
     "solution": false
    }
   },
   "source": [
    "## Part 2: CalEnviroScreen Data\n",
    "Now that we have learned the basics, we'll use Pandas to wrangle a real-world dataset. Specifically, we will be working with the [California Communities Environmental Health Screening Tool (CalEnviroScreen)](https://oehha.ca.gov/calenviroscreen), which uses demographic and environmental information to identify communities that are susceptible to various types of pollution. The various fields in this dataset contribute to the CES score, which reflects a community's environmental conditions and its vulnerability to environmental pollutants.\n",
    "\n",
    "Your lab02 folder contains an Excel file downloaded from [here](https://oehha.ca.gov/calenviroscreen/report/draft-calenviroscreen-40).\n",
    "\n",
    "Start by running the cell below, which creates an Excel file object in Pandas that we can then inspect. The cell below shows you the sheet names in the spreadsheet. Documentation on Pandas' Excel methods can be found [here](https://pandas.pydata.org/pandas-docs/stable/reference/api/pandas.read_excel.html). "
   ]
  },
  {
   "cell_type": "code",
   "execution_count": null,
   "metadata": {
    "Xeditable": false,
    "deletable": false
   },
   "outputs": [],
   "source": [
    "# run this cell to import the Excel file and see the names of the tabs\n",
    "filename = 'CalEnviroScreen_4.0Excel_ADA_D1_2021.xlsx'\n",
    "xl = pd.ExcelFile(filename)\n",
    "print(xl.sheet_names) # display a list of the sheets in the spreadsheet"
   ]
  },
  {
   "cell_type": "markdown",
   "metadata": {},
   "source": [
    "Run the cell below to load the first sheet of the Excel file and assign it to the variable `ces4`. "
   ]
  },
  {
   "cell_type": "code",
   "execution_count": null,
   "metadata": {
    "Xeditable": false,
    "deletable": false
   },
   "outputs": [],
   "source": [
    "ces4 = xl.parse(xl.sheet_names[0]) # display the first sheet as Pandas dataframe\n",
    "ces4.head()"
   ]
  },
  {
   "cell_type": "markdown",
   "metadata": {
    "Xeditable": false,
    "deletable": false
   },
   "source": [
    "Note that the dataframe contains 58 columns, but Pandas truncates the number we are able to see at once. We can show all columns using the `pd.set_option` method."
   ]
  },
  {
   "cell_type": "code",
   "execution_count": null,
   "metadata": {
    "Xeditable": false,
    "deletable": false
   },
   "outputs": [],
   "source": [
    "pd.set_option('display.max_columns', None)\n",
    "ces4.head()"
   ]
  },
  {
   "cell_type": "markdown",
   "metadata": {},
   "source": [
    "Notice that this dataset doesn't include the units in many of the column headings. Let's load a different sheet to get more information about what we're looking at.\n",
    "\n",
    "Run the following cell to load the data dictionary."
   ]
  },
  {
   "cell_type": "code",
   "execution_count": null,
   "metadata": {},
   "outputs": [],
   "source": [
    "dd = xl.parse('Data Dictionary', header = 6)\n",
    "dd.head(10)"
   ]
  },
  {
   "cell_type": "markdown",
   "metadata": {
    "Xeditable": false,
    "deletable": false
   },
   "source": [
    "### Question 4\n",
    "The length of a dataframe is equivalent to its number of rows. Find the length of `ces4`. What does each row represent?"
   ]
  },
  {
   "cell_type": "code",
   "execution_count": null,
   "metadata": {
    "Xeditable": false,
    "deletable": false
   },
   "outputs": [],
   "source": [
    "# YOUR CODE HERE"
   ]
  },
  {
   "cell_type": "markdown",
   "metadata": {
    "Xeditable": false,
    "deletable": false
   },
   "source": [
    "*YOUR ANSWER HERE*"
   ]
  },
  {
   "cell_type": "markdown",
   "metadata": {
    "Xeditable": false,
    "deletable": false,
    "nbgrader": {
     "cell_type": "markdown",
     "checksum": "b1049b08ee5b7ea48afdd7dcfa27e2d7",
     "grade": false,
     "grade_id": "slicing",
     "locked": true,
     "schema_version": 2,
     "solution": false
    }
   },
   "source": [
    "## Slicing Data Frames - selecting rows and columns\n"
   ]
  },
  {
   "cell_type": "markdown",
   "metadata": {
    "Xeditable": false,
    "deletable": false,
    "nbgrader": {
     "cell_type": "markdown",
     "checksum": "5b0f0e30ee61059eb9cb3c6dc1be4505",
     "grade": false,
     "grade_id": "slicing_text",
     "locked": true,
     "schema_version": 2,
     "solution": false
    }
   },
   "source": [
    "### Selection Using Label\n",
    "\n",
    "**Column Selection** \n",
    "To select a column of a `DataFrame` by column label, the safest and fastest way is to use the `.loc` [method](https://pandas.pydata.org/pandas-docs/stable/reference/api/pandas.DataFrame.loc.html). General usage looks like `frame.loc[rowname,colname]`. (Reminder that the colon `:` means \"everything\").\n",
    "\n",
    "- You can also slice across columns. For example, `ces4.loc[:, 'ZIP':]` would select all rows in the column `ZIP` and every column to the right.\n",
    "\n",
    "- *Alternative:* While `.loc` is invaluable when writing production code, it may be a little too verbose for interactive use. One recommended alternative is the `[]` method, which takes on the form `frame['colname']`.\n",
    "\n",
    "**Row Selection**\n",
    "Similarly, if we want to select a row by its label, we can use the same `.loc` method. In this case, the \"label\" of each row refers to the index (i.e., primary key) of the dataframe."
   ]
  },
  {
   "cell_type": "code",
   "execution_count": null,
   "metadata": {
    "Xeditable": false,
    "deletable": false,
    "nbgrader": {
     "cell_type": "code",
     "checksum": "8143966048f8deaf26b30cb5e4c1c930",
     "grade": false,
     "grade_id": "slicing_e1",
     "locked": true,
     "schema_version": 2,
     "solution": false
    }
   },
   "outputs": [],
   "source": [
    "#Example:\n",
    "ces4.loc[100:110, 'ZIP']"
   ]
  },
  {
   "cell_type": "code",
   "execution_count": null,
   "metadata": {
    "Xeditable": false,
    "deletable": false,
    "nbgrader": {
     "cell_type": "code",
     "checksum": "349ade649bf5192507005b620bedb086",
     "grade": false,
     "grade_id": "slicing_e2",
     "locked": true,
     "schema_version": 2,
     "solution": false
    }
   },
   "outputs": [],
   "source": [
    "#Example:  Notice the difference between these two methods\n",
    "ces4.loc[100:110, ['ZIP']]"
   ]
  },
  {
   "cell_type": "markdown",
   "metadata": {
    "Xeditable": false,
    "deletable": false,
    "nbgrader": {
     "cell_type": "markdown",
     "checksum": "57aeef5dfda01fc9d97c5a6166b10a95",
     "grade": false,
     "grade_id": "slicing_loc_iloc",
     "locked": true,
     "schema_version": 2,
     "solution": false
    }
   },
   "source": [
    "The `.loc` method actually uses the index (the bolded, leftmost series in the dataframe) rather than the row position to perform the selection. In the previous example, it's just a coincidence that the `.loc` syntax matches that of the array slicing syntax - the index and row position aren't always the same value. For example, you could set your index to a non-numeric code, like census tract or other unique ID, if that's how you want to identify your records.\n",
    "\n",
    "Alternatively, we can use [`.iloc`](http://pandas.pydata.org/pandas-docs/version/0.17.0/generated/pandas.DataFrame.iloc.html) to slice the dataframe using row location and column position.\n",
    "\n",
    "See the following example:"
   ]
  },
  {
   "cell_type": "code",
   "execution_count": null,
   "metadata": {
    "Xeditable": false,
    "deletable": false,
    "nbgrader": {
     "cell_type": "code",
     "checksum": "eb38bd97b35cddff127a530fe08d0091",
     "grade": false,
     "grade_id": "slicing_e3",
     "locked": true,
     "schema_version": 2,
     "solution": false
    }
   },
   "outputs": [],
   "source": [
    "#Example: We change the index from 0,1,2... to the Census Tract column\n",
    "df = ces4.set_index(\"Census Tract\") # Why might we want to use Census Tract instead of County or City?\n",
    "df.head()"
   ]
  },
  {
   "cell_type": "markdown",
   "metadata": {
    "Xeditable": false,
    "deletable": false,
    "nbgrader": {
     "cell_type": "markdown",
     "checksum": "47a832a1eaeefea0bcab41a2a18e7ced",
     "grade": false,
     "grade_id": "slicing_loc_index",
     "locked": true,
     "schema_version": 2,
     "solution": false
    }
   },
   "source": [
    "We can now lookup rows by name directly:"
   ]
  },
  {
   "cell_type": "code",
   "execution_count": null,
   "metadata": {
    "Xeditable": false,
    "deletable": false,
    "nbgrader": {
     "cell_type": "code",
     "checksum": "f781f00da455dc281cc32b7cad134910",
     "grade": false,
     "grade_id": "slicing_loc_index_code",
     "locked": true,
     "schema_version": 2,
     "solution": false
    }
   },
   "outputs": [],
   "source": [
    "df.loc[[6037205120, 6019000200], :]"
   ]
  },
  {
   "cell_type": "markdown",
   "metadata": {
    "Xeditable": false,
    "deletable": false,
    "nbgrader": {
     "cell_type": "markdown",
     "checksum": "11555cb1a308ac2e5e49b55406dd213a",
     "grade": false,
     "grade_id": "slicing_iloc",
     "locked": true,
     "schema_version": 2,
     "solution": false
    }
   },
   "source": [
    "However, if we want to access rows by location we will need to use the integer loc (`iloc`) accessor:"
   ]
  },
  {
   "cell_type": "code",
   "execution_count": null,
   "metadata": {
    "Xeditable": false,
    "deletable": false,
    "nbgrader": {
     "cell_type": "code",
     "checksum": "eb461e9222a567c1b53de823b9a8e28b",
     "grade": false,
     "grade_id": "slicing_iloc_code",
     "locked": true,
     "schema_version": 2,
     "solution": false
    }
   },
   "outputs": [],
   "source": [
    "#Example: \n",
    "# df.loc[2:5,\"Year\"] # You can't do this\n",
    "df.iloc[1:4,6:9]"
   ]
  },
  {
   "cell_type": "markdown",
   "metadata": {
    "Xeditable": false,
    "deletable": false,
    "nbgrader": {
     "cell_type": "markdown",
     "checksum": "1af23729c0ab6ed859782d980b106817",
     "grade": false,
     "grade_id": "q4",
     "locked": true,
     "schema_version": 2,
     "solution": false
    }
   },
   "source": [
    "### Question 5\n",
    "\n",
    "Selecting multiple columns is easy using `.loc`.  You just need to supply a list of column names.  Select the `California County`,`Diesel PM Pctl`, and `PM2.5 Pctl` columns **in that order** from the `ces4` table."
   ]
  },
  {
   "cell_type": "code",
   "execution_count": null,
   "metadata": {
    "deletable": false,
    "nbgrader": {
     "cell_type": "code",
     "checksum": "51ca684cce2b29a60a4d527bd9e48d0b",
     "grade": false,
     "grade_id": "q4_answer",
     "locked": false,
     "schema_version": 2,
     "solution": true
    }
   },
   "outputs": [],
   "source": [
    "# YOUR CODE HERE"
   ]
  },
  {
   "cell_type": "code",
   "execution_count": null,
   "metadata": {
    "Xeditable": false,
    "deletable": false,
    "nbgrader": {
     "cell_type": "code",
     "checksum": "91e52e7017af70c6b15a35cb45b34b43",
     "grade": false,
     "grade_id": "q4_display",
     "locked": true,
     "schema_version": 2,
     "solution": false
    }
   },
   "outputs": [],
   "source": [
    "dsl_PM.head()"
   ]
  },
  {
   "cell_type": "code",
   "execution_count": null,
   "metadata": {
    "Xeditable": false,
    "deletable": false,
    "nbgrader": {
     "cell_type": "code",
     "checksum": "75728e1f0fc86c18ee7db935525b29cd",
     "grade": true,
     "grade_id": "q4_test",
     "locked": true,
     "points": 1,
     "schema_version": 2,
     "solution": false
    },
    "tags": [
     "solution"
    ]
   },
   "outputs": [],
   "source": [
    "assert dsl_PM.shape == (8035, 3)\n",
    "assert dsl_PM.columns[1] == \"Diesel PM Pctl\""
   ]
  },
  {
   "cell_type": "markdown",
   "metadata": {
    "Xeditable": false,
    "deletable": false,
    "nbgrader": {
     "cell_type": "markdown",
     "checksum": "6779a891e75e0ef03369773442df36ca",
     "grade": false,
     "grade_id": "q4_hint",
     "locked": true,
     "schema_version": 2,
     "solution": false
    }
   },
   "source": [
    "As you may have noticed above, the .loc() method is a way to re-order the columns within a dataframe."
   ]
  },
  {
   "cell_type": "markdown",
   "metadata": {
    "Xeditable": false,
    "deletable": false,
    "nbgrader": {
     "cell_type": "markdown",
     "checksum": "2f923f7997e8a6ee25df11e73fd2f9f5",
     "grade": false,
     "grade_id": "filter_data",
     "locked": true,
     "schema_version": 2,
     "solution": false
    }
   },
   "source": [
    "## Filtering Data"
   ]
  },
  {
   "cell_type": "markdown",
   "metadata": {
    "Xeditable": false,
    "deletable": false,
    "nbgrader": {
     "cell_type": "markdown",
     "checksum": "fbd36d05d9f82b923a5659964ebfde08",
     "grade": false,
     "grade_id": "filter_data_op",
     "locked": true,
     "schema_version": 2,
     "solution": false
    }
   },
   "source": [
    "### Filtering with boolean arrays\n",
    "\n",
    "Filtering is the process of removing unwanted material.  In your quest for cleaner data, you will undoubtedly filter your data at some point: whether it be for clearing up cases with missing values, culling out fishy outliers, or analyzing subgroups of your data set.  Note that compound expressions have to be grouped with brackets. Example usage looks like `df[df[column name] < 5]]`.\n",
    "\n",
    "For your reference, some commonly used comparison operators are given below.\n",
    "\n",
    "Symbol | Usage      | Meaning \n",
    "------ | ---------- | -------------------------------------\n",
    "==   | a == b   | Does a equal b?\n",
    "<=   | a <= b   | Is a less than or equal to b?\n",
    ">=   | a >= b   | Is a greater than or equal to b?\n",
    "<    | a < b    | Is a less than b?\n",
    "&#62;    | a &#62; b    | Is a greater than b?\n",
    "~    | ~p       | Returns negation of p\n",
    "&#124; | p &#124; q | p OR q\n",
    "&    | p & q    | p AND q\n",
    "^  | p ^ q | p XOR q (exclusive or)"
   ]
  },
  {
   "cell_type": "markdown",
   "metadata": {
    "Xeditable": false,
    "deletable": false,
    "nbgrader": {
     "cell_type": "markdown",
     "checksum": "df6c3d35afee1eafa87bcf3c709f42d8",
     "grade": false,
     "grade_id": "filter_ca",
     "locked": true,
     "schema_version": 2,
     "solution": false
    }
   },
   "source": [
    "In the following we construct the DataFrame containing only census tracts in Sacramento County."
   ]
  },
  {
   "cell_type": "code",
   "execution_count": null,
   "metadata": {
    "Xeditable": false,
    "deletable": false,
    "nbgrader": {
     "cell_type": "code",
     "checksum": "b6da965b246b8732dea8ecc8f07f804d",
     "grade": false,
     "grade_id": "filter_ca_code",
     "locked": true,
     "schema_version": 2,
     "solution": false
    }
   },
   "outputs": [],
   "source": [
    "ces4_SC = ces4[ces4['California County'] == 'Sacramento '] # Note the space after \"Sacramento.\" This kind of quirk can be remedied with some simple data cleaning techniques, which we'll discuss in future lessons.\n",
    "ces4_SC.head()"
   ]
  },
  {
   "cell_type": "markdown",
   "metadata": {
    "Xeditable": false,
    "deletable": false,
    "nbgrader": {
     "cell_type": "markdown",
     "checksum": "1564c1e7d130742c61dc667f6fa05776",
     "grade": false,
     "grade_id": "q5a",
     "locked": true,
     "schema_version": 2,
     "solution": false
    }
   },
   "source": [
    "### Question 6\n",
    "Select the census tracts in Alameda county whose CES 4.0 Percentile is 90 or higher.\n",
    "\n",
    "(If you use condition `p` & condition `q` to filter the dataframe, make sure to use `df[(p) & (q)]`)\n",
    "\n",
    "Hint: The county names are not \"clean.\" Try using the `.unique()` method to look up the **exact** county names. "
   ]
  },
  {
   "cell_type": "code",
   "execution_count": null,
   "metadata": {
    "deletable": false,
    "nbgrader": {
     "cell_type": "code",
     "checksum": "623970e65ce96d751866ee6093e81de3",
     "grade": false,
     "grade_id": "q5a_answer",
     "locked": false,
     "schema_version": 2,
     "solution": true
    }
   },
   "outputs": [],
   "source": [
    "# YOUR CODE HERE"
   ]
  },
  {
   "cell_type": "code",
   "execution_count": null,
   "metadata": {
    "Xeditable": false,
    "deletable": false,
    "nbgrader": {
     "cell_type": "code",
     "checksum": "206a5191d3b958cf3133dbd18216159b",
     "grade": false,
     "grade_id": "q5a_display",
     "locked": true,
     "schema_version": 2,
     "solution": false
    }
   },
   "outputs": [],
   "source": [
    "AC_highCES"
   ]
  },
  {
   "cell_type": "code",
   "execution_count": null,
   "metadata": {
    "Xeditable": false,
    "deletable": false,
    "nbgrader": {
     "cell_type": "code",
     "checksum": "6c09b858b6e955e60a57ad31840de09c",
     "grade": true,
     "grade_id": "q5a_test",
     "locked": true,
     "points": 1,
     "schema_version": 2,
     "solution": false
    }
   },
   "outputs": [],
   "source": [
    "assert len(AC_highCES) == 10\n",
    "assert AC_highCES[\"DRAFT CES 4.0 Percentile\"].max() == 97.9571248423707"
   ]
  },
  {
   "cell_type": "markdown",
   "metadata": {
    "Xeditable": false,
    "deletable": false,
    "nbgrader": {
     "cell_type": "markdown",
     "checksum": "9aa01b4bf71595659886a147c89f09d6",
     "grade": false,
     "grade_id": "q6a",
     "locked": true,
     "schema_version": 2,
     "solution": false
    }
   },
   "source": [
    "## Data Aggregration \n",
    "\n",
    "### Question 7a\n",
    "We can perform operations across columns and rows of a dataframe to generate summary statistics. \n",
    "\n",
    "Find the mean, minimum, maximum, and standard deviation PM2.5 across all census tracts. (You may use the `ces4` DataFrame created above.)"
   ]
  },
  {
   "cell_type": "code",
   "execution_count": null,
   "metadata": {},
   "outputs": [],
   "source": [
    "# YOUR CODE HERE\n",
    "\n",
    "pm_mean = ...\n",
    "pm_min = ...\n",
    "pm_max = ...\n",
    "pm_stdev = ...\n",
    "\n",
    "print('Mean: {}'.format(pm_mean))\n",
    "print('Min: {}'.format(pm_min))\n",
    "print('Max: {}'.format(pm_max))\n",
    "print('Standard deviation: {}'.format(pm_stdev))"
   ]
  },
  {
   "cell_type": "markdown",
   "metadata": {},
   "source": [
    "### Question 7b\n",
    "\n",
    "What is the total population reprepresented in the CalEnviroscreen 4.0 dataset?"
   ]
  },
  {
   "cell_type": "code",
   "execution_count": null,
   "metadata": {},
   "outputs": [],
   "source": [
    "# YOUR CODE HERE"
   ]
  },
  {
   "cell_type": "markdown",
   "metadata": {},
   "source": [
    "### Question 8\n",
    "To count the number of instances of a value in a `Series`, we can use the `value_counts()` [method](https://pandas.pydata.org/pandas-docs/stable/reference/api/pandas.Series.value_counts.html) as `df[\"col_name\"].value_counts()`. \n",
    "\n",
    "Count the number of different census tracts in each California county. (You may use the `ces4` DataFrame created above.) In other words, compute the number of rows in the table for each county."
   ]
  },
  {
   "cell_type": "code",
   "execution_count": null,
   "metadata": {
    "deletable": false,
    "nbgrader": {
     "cell_type": "code",
     "checksum": "9ba2752561377b7eab972d2df224115d",
     "grade": false,
     "grade_id": "q6a_answer",
     "locked": false,
     "schema_version": 2,
     "solution": true
    }
   },
   "outputs": [],
   "source": [
    "# YOUR CODE HERE"
   ]
  },
  {
   "cell_type": "code",
   "execution_count": null,
   "metadata": {
    "Xeditable": false,
    "deletable": false,
    "nbgrader": {
     "cell_type": "code",
     "checksum": "386ddc7e67118d05d38f3d27afc608f7",
     "grade": false,
     "grade_id": "q6a_display",
     "locked": true,
     "schema_version": 2,
     "solution": false
    }
   },
   "outputs": [],
   "source": [
    "num_censusTracts"
   ]
  },
  {
   "cell_type": "code",
   "execution_count": null,
   "metadata": {
    "Xeditable": false,
    "deletable": false,
    "nbgrader": {
     "cell_type": "code",
     "checksum": "4d05f5b293b285577bd895985ad620e9",
     "grade": true,
     "grade_id": "q6a_test",
     "locked": true,
     "points": 1,
     "schema_version": 2,
     "solution": false
    }
   },
   "outputs": [],
   "source": [
    "assert num_censusTracts[\"Alameda \"] == 360\n",
    "assert num_censusTracts.sum() == len(ces4)"
   ]
  },
  {
   "cell_type": "markdown",
   "metadata": {
    "Xeditable": false,
    "deletable": false,
    "nbgrader": {
     "cell_type": "markdown",
     "checksum": "71f10843becd64d91cc3caf0dc913254",
     "grade": false,
     "grade_id": "q7a",
     "locked": true,
     "schema_version": 2,
     "solution": false
    }
   },
   "source": [
    "### Question 9a\n",
    "\n",
    "A more versatile way to aggregate data is to use the `.groupby()` [function](https://pandas.pydata.org/pandas-docs/stable/generated/pandas.DataFrame.groupby.html). Find the sum of `Imp. Water Bodies` for each `California County` in the `ces4` table. Use the syntax `df.groupby(\"col_name\").sum()`."
   ]
  },
  {
   "cell_type": "code",
   "execution_count": null,
   "metadata": {
    "deletable": false,
    "nbgrader": {
     "cell_type": "code",
     "checksum": "28183c9de04d02850f72fabe013776c1",
     "grade": false,
     "grade_id": "q7a_answer",
     "locked": false,
     "schema_version": 2,
     "solution": true
    }
   },
   "outputs": [],
   "source": [
    "# YOUR CODE HERE"
   ]
  },
  {
   "cell_type": "code",
   "execution_count": null,
   "metadata": {},
   "outputs": [],
   "source": [
    "# The syntax below will sort sum_impH20 from most to least impaired bodies. \n",
    "sum_impH2O.sort_values(by = \"Imp. Water Bodies\", ascending=False)['Imp. Water Bodies']"
   ]
  },
  {
   "cell_type": "code",
   "execution_count": null,
   "metadata": {
    "Xeditable": false,
    "deletable": false,
    "nbgrader": {
     "cell_type": "code",
     "checksum": "d7b63c16d9e3b4db64e1ce1800b35f74",
     "grade": false,
     "grade_id": "q7a_display",
     "locked": false,
     "schema_version": 2,
     "solution": false
    }
   },
   "outputs": [],
   "source": [
    "assert sum_impH2O.loc[\"Los Angeles\", \"Imp. Water Bodies\"] == 7178\n",
    "assert sum_impH2O.sort_values(by = \"Imp. Water Bodies\", ascending=False).index[3] == \"Ventura \""
   ]
  },
  {
   "cell_type": "markdown",
   "metadata": {
    "Xeditable": false,
    "deletable": false
   },
   "source": [
    "### Question 9b\n",
    "Take a look at the the Data Dictionary. What does the sum of the `Imp. Water Bodies` column represent?  In the process you'll read about \"buffers\".  What is a buffer?"
   ]
  },
  {
   "cell_type": "code",
   "execution_count": null,
   "metadata": {},
   "outputs": [],
   "source": [
    "# SCRATCH WORK HERE"
   ]
  },
  {
   "cell_type": "markdown",
   "metadata": {
    "Xeditable": false,
    "deletable": false
   },
   "source": [
    "*YOUR ANSWER HERE*"
   ]
  },
  {
   "cell_type": "markdown",
   "metadata": {},
   "source": [
    "### Question 9c\n",
    "\n",
    "What do the values in `ZIP` represent in the dataframe `sum_impH2O`? Why is the column `DRAFT CES 4.0 Percentile Range` no longer present in the dataframe?"
   ]
  },
  {
   "cell_type": "markdown",
   "metadata": {},
   "source": [
    "*YOUR ANSWER HERE*"
   ]
  },
  {
   "cell_type": "markdown",
   "metadata": {
    "Xeditable": false,
    "deletable": false,
    "nbgrader": {
     "cell_type": "markdown",
     "checksum": "c5d5d1184dc1c9a5114301ea2f8b6d4c",
     "grade": false,
     "grade_id": "q7b",
     "locked": true,
     "schema_version": 2,
     "solution": false
    }
   },
   "source": [
    "### Question 9d\n",
    "\n",
    "Find the mean of `Poverty` for each county for census tracts with population greater than or equal to 3,000 and with a `Pollution Burden Pctl` above 85.\n"
   ]
  },
  {
   "cell_type": "code",
   "execution_count": null,
   "metadata": {
    "deletable": false,
    "nbgrader": {
     "cell_type": "code",
     "checksum": "2cb5a6d5cb19db2cf859484ed9fb4a42",
     "grade": false,
     "grade_id": "q7b_answer",
     "locked": false,
     "schema_version": 2,
     "solution": true
    }
   },
   "outputs": [],
   "source": [
    "# YOUR CODE HERE"
   ]
  },
  {
   "cell_type": "code",
   "execution_count": null,
   "metadata": {
    "Xeditable": false,
    "deletable": false,
    "nbgrader": {
     "cell_type": "code",
     "checksum": "c9f8ed9c2f02ae22d45917a271057b8a",
     "grade": false,
     "grade_id": "q7b_display",
     "locked": true,
     "schema_version": 2,
     "solution": false
    }
   },
   "outputs": [],
   "source": [
    "poverty_mean.sort_values(by = \"Poverty\", ascending=False)['Poverty']"
   ]
  },
  {
   "cell_type": "code",
   "execution_count": null,
   "metadata": {
    "Xeditable": false,
    "deletable": false,
    "nbgrader": {
     "cell_type": "code",
     "checksum": "8df1afa05ce38d3a6d035b86256a535c",
     "grade": true,
     "grade_id": "q7b_test",
     "locked": true,
     "points": 1,
     "schema_version": 2,
     "solution": false
    }
   },
   "outputs": [],
   "source": [
    "assert np.round(poverty_mean.loc[\"Alameda \", \"Poverty\"],2) == 33.39\n",
    "assert len(poverty_mean) == 30"
   ]
  },
  {
   "cell_type": "markdown",
   "metadata": {
    "Xeditable": false,
    "deletable": false,
    "nbgrader": {
     "cell_type": "markdown",
     "checksum": "c5d5d1184dc1c9a5114301ea2f8b6d4c",
     "grade": false,
     "grade_id": "q7b",
     "locked": true,
     "schema_version": 2,
     "solution": false
    }
   },
   "source": [
    "### Question 9e\n",
    "\n",
    "What does your output to 9d represent?  Dig in to the data a little further and tell us what you notice about the `Poverty` field values in the counties/tract combinations that show up in your result to 9d, versus the `Poverty` field values for all tracts?"
   ]
  },
  {
   "cell_type": "markdown",
   "metadata": {},
   "source": [
    "*YOUR ANSWER HERE*"
   ]
  },
  {
   "cell_type": "markdown",
   "metadata": {
    "Xeditable": false,
    "deletable": false,
    "nbgrader": {
     "cell_type": "markdown",
     "checksum": "d7f9b3770892f5af659332546a93a094",
     "grade": false,
     "grade_id": "done",
     "locked": true,
     "schema_version": 2,
     "solution": false
    }
   },
   "source": [
    "#### You are done! Remember to submit this lab on bCourses in html format after clicking Kernel -> Restart & Run All."
   ]
  }
 ],
 "metadata": {
  "anaconda-cloud": {},
  "celltoolbar": "Edit Metadata",
  "kernelspec": {
   "display_name": "Python 3 (ipykernel)",
   "language": "python",
   "name": "python3"
  },
  "language_info": {
   "codemirror_mode": {
    "name": "ipython",
    "version": 3
   },
   "file_extension": ".py",
   "mimetype": "text/x-python",
   "name": "python",
   "nbconvert_exporter": "python",
   "pygments_lexer": "ipython3",
   "version": "3.8.8"
  }
 },
 "nbformat": 4,
 "nbformat_minor": 2
}
