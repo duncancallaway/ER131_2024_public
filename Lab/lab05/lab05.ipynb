{
 "cells": [
  {
   "cell_type": "markdown",
   "metadata": {},
   "source": [
    "Before you turn this problem in, make sure everything runs as expected. In the menubar, select **Kernel** $\\rightarrow$ **Restart Kernel and Run All Cells...**. If you do not run a specific cell, you will not receive credit for that question. \n",
    "\n",
    "Make sure you fill in any place that says `YOUR CODE HERE` or \"YOUR ANSWER HERE\", as well as your name and collaborators below:"
   ]
  },
  {
   "cell_type": "code",
   "execution_count": null,
   "metadata": {},
   "outputs": [],
   "source": [
    "NAME = \"\" # put your full name here\n",
    "COLLABORATORS = [] # list anyone you collaborated with on this workbook"
   ]
  },
  {
   "cell_type": "markdown",
   "metadata": {},
   "source": [
    "---"
   ]
  },
  {
   "cell_type": "markdown",
   "metadata": {},
   "source": [
    "## Lab 5: Least Squares Regression (Single-Variable)"
   ]
  },
  {
   "cell_type": "markdown",
   "metadata": {},
   "source": [
    "Welcome to your fifth lab of the semester!<br>\n",
    "\n",
    "This lab aims to get you started with linear regression in Python.\n",
    "\n",
    "By the end of this lab you should be able to:\n",
    "* Calculate the coefficients of a single-variable least squares regression problem\n",
    "* Build a model and predict estimates for a variable of interest\n",
    "* Evaluate model performance"
   ]
  },
  {
   "cell_type": "markdown",
   "metadata": {},
   "source": [
    "### Setup"
   ]
  },
  {
   "cell_type": "code",
   "execution_count": null,
   "metadata": {},
   "outputs": [],
   "source": [
    "import numpy as np\n",
    "import matplotlib.pyplot as plt\n",
    "import seaborn as sns\n",
    "import pandas as pd"
   ]
  },
  {
   "cell_type": "markdown",
   "metadata": {},
   "source": [
    "### Introduction and Data Source"
   ]
  },
  {
   "cell_type": "markdown",
   "metadata": {},
   "source": [
    "In this lab, we'll be applying least squares regression to data from the [California Department of Transportation (CalTrans)](https://data.ca.gov/). This dataset is no longer publicly available, so we have downloaded it for you and put it in the `data` folder.  \n",
    "\n",
    "**Question 1 (1pt):** Load in the .csv file in the \"data\" folder and save it to a dataframe `df`."
   ]
  },
  {
   "cell_type": "code",
   "execution_count": null,
   "metadata": {},
   "outputs": [],
   "source": [
    "# YOUR CODE HERE\n",
    "# df = ...\n",
    "# df"
   ]
  },
  {
   "cell_type": "markdown",
   "metadata": {},
   "source": [
    "This dataset reports freeway congestion in California, organized by county and route. For this exercise, we'll be looking specifically at the Annual Vehicle Miles Traveled (VMT) field, which represents the total number of miles traveled per vehicle on that route in that county, and the Incidents/ Day field, which represents the average number of traffic incidents per day for that route and county in 2017.\n",
    "\n",
    "Let's create a model to predict the number of Incidents/Day (i.e., the target variable) as a function of annual VMT (i.e., the independent variable). \n",
    "\n",
    "**Question 2 (2pts):** To start off with, create a scatter plot with Annual VMT on the x-axis and Incidents/Day on the y-axis. What can you say about the general relationship between these two variables?\n",
    "\n",
    "*Note*: instead of typing out a long column name everytime you need to use it, you can create a variable that contains that column name as a string. For instance, rather than typing out `df[\"Annual Vehicle Miles Traveled (VMT)\"]`, you can define a variable `vmt`:\n",
    "```python\n",
    "vmt = \"Annual Vehicle Miles Traveled (VMT)\"\n",
    "df[vmt]\n",
    "```\n",
    "You can also just re-name the column names.\n",
    "\n",
    "We recommend that you use one of these methods, as we'll be using these columns for the rest of the assignment. "
   ]
  },
  {
   "cell_type": "code",
   "execution_count": null,
   "metadata": {},
   "outputs": [],
   "source": [
    "# YOUR CODE HERE\n",
    "vmt = ...\n",
    "sns.scatterplot(...)\n",
    "plt.title(...)\n",
    "plt.show()"
   ]
  },
  {
   "cell_type": "markdown",
   "metadata": {},
   "source": [
    "*Your observations here*"
   ]
  },
  {
   "cell_type": "markdown",
   "metadata": {},
   "source": [
    "### Estimate the coefficients\n",
    "\n",
    "In lecture we went over formulas to solve for the coefficients $\\beta_0$ and $\\beta_1$ in a single-variable least squares regression problem:\n",
    "\n",
    "$y_i = \\beta_0 + \\beta_1 x_i + e_i$.\n",
    "\n",
    "Those formulas are:\n",
    "\n",
    "$\\hat{\\beta}_0  =\\bar{y} - \\hat{\\beta}_1\\bar{x}$\n",
    "\n",
    "$\\hat{\\beta}_1 = \\frac{ \\sum_{i=1}^n(x_i-\\bar{x})(y_i-\\bar{y})}{\\sum_{i=1}^n (x_i-\\bar{x})^2}$\n",
    "\n",
    "**Question 3 (1 pt):** Write a function that returns the estimated $\\beta_0$ and $\\beta_1$ using the summation formulas above, taking the vectors of all $x$ and $y$ observations as input."
   ]
  },
  {
   "cell_type": "code",
   "execution_count": null,
   "metadata": {},
   "outputs": [],
   "source": [
    "def get_betas(x,y):\n",
    "#     # YOUR CODE HERE\n",
    "    return ..."
   ]
  },
  {
   "cell_type": "markdown",
   "metadata": {},
   "source": [
    "**Question 4 (1 pt):** Use your function to estimate $\\beta_0$ and $\\beta_1$ for the independent and response variables of interest in the Caltrans data you loaded.  "
   ]
  },
  {
   "cell_type": "code",
   "execution_count": null,
   "metadata": {},
   "outputs": [],
   "source": [
    "(b0, b1) = ... # YOUR CODE HERE\n",
    "print('Beta values are', b0, 'and', b1)"
   ]
  },
  {
   "cell_type": "markdown",
   "metadata": {},
   "source": [
    "### Predict the target (dependent) variable\n",
    "\n",
    "**Question 5 (1 pt):** Use your estimated coefficients to predict Incidents/Day ($\\hat{y}$) for every observation of annual VMT ($x_i$)."
   ]
  },
  {
   "cell_type": "code",
   "execution_count": null,
   "metadata": {},
   "outputs": [],
   "source": [
    "y_hat = ... # YOUR CODE HERE"
   ]
  },
  {
   "cell_type": "code",
   "execution_count": null,
   "metadata": {},
   "outputs": [],
   "source": [
    "assert len(y_hat) == len(df) # Your code should return a predicted value of y for every observation in the dataset"
   ]
  },
  {
   "cell_type": "markdown",
   "metadata": {},
   "source": [
    "**Question 6 (1 pt):** Output a plot that overlays your regression line on a scatterplot of VMT vs. incidents per day. "
   ]
  },
  {
   "cell_type": "code",
   "execution_count": null,
   "metadata": {},
   "outputs": [],
   "source": [
    "# YOUR CODE HERE\n",
    "plt.scatter(...)\n",
    "plt.plot(...)\n",
    "plt.title(...)\n",
    "plt.xlabel(...)\n",
    "plt.ylabel(...)\n",
    "plt.legend()\n",
    "plt.show()"
   ]
  },
  {
   "cell_type": "markdown",
   "metadata": {},
   "source": [
    "### Model estimation and prediction using sckit tools\n",
    "\n",
    "We can (and will) also estimate coefficients and predict response variables using the Python package scikit-learn. As we move forward in this class, we will be developing more complicated models and using more than one independent variable. The scikit-learn toolbox gives us a way to run regression (and other!) models quickly and efficiently. Let's walk through an example using single-variable regression.\n",
    "\n",
    "First, we need to set up some new dependencies."
   ]
  },
  {
   "cell_type": "code",
   "execution_count": null,
   "metadata": {},
   "outputs": [],
   "source": [
    "# Install sklearn\n",
    "! pip install scikit-learn"
   ]
  },
  {
   "cell_type": "code",
   "execution_count": null,
   "metadata": {},
   "outputs": [],
   "source": [
    "# Import packages\n",
    "\n",
    "from sklearn import datasets, linear_model\n",
    "from sklearn.model_selection import train_test_split\n",
    "from sklearn.metrics import mean_squared_error, r2_score"
   ]
  },
  {
   "cell_type": "markdown",
   "metadata": {},
   "source": [
    "The `scikit-learn` package has a `linear_model` object upon which you can call `LinearRegression()` to generate a linear regression object:\n",
    "\n",
    "`lm = linear_model.LinearRegression()`\n",
    "\n",
    "`lm` takes as arguments to its `.fit()` method the arrays $X$ and $y$, where $X$ is a dataframe of independent variables and $y$ is a dataframe of the dependent variable, or our \"target\" data.\n",
    "\n",
    "*Note*: The `scikit-learn` functions will only accept $X$ and $y$ as inputs if both dimensions of these arrays' respective shapes are explicitly defined. In other words, the `linear_model` functions will produce errors if either the $X$ or $y$ array has a `shape` of the form `(n,)`, where n is the number of elements in the array. Instead, one-dimensional arrays need to be reformatted to have the shape `(n,1)`. You'll have to get the values from your panda dataframe for $X$ and $y$, and then use the `.reshape()` method to get the right dimensions. Alternatively, `scikit-learn` will also accept an input if it takes the form of a pandas dataframe rather than a pandas series; for example, defining $X$ as `df[['column_name']]` is acceptable in `scikit-learn` syntax, but defining $X$ as `df['column name']` is not.\n",
    "\n",
    "For example, we would initiate and fit a linear regression model for the CalTrans data as follows:"
   ]
  },
  {
   "cell_type": "code",
   "execution_count": null,
   "metadata": {},
   "outputs": [],
   "source": [
    "X = df[[vmt]] # define an array of independent variables\n",
    "y = df[[i_day]] # define an array (usually one-dimension) of target variables\n",
    "lm_incidents = linear_model.LinearRegression() # initiate a linear regression object\n",
    "fit_incidents = lm_incidents.fit(X,y) # fit the linear regression object to your X and y data"
   ]
  },
  {
   "cell_type": "markdown",
   "metadata": {},
   "source": [
    "In the code above, the `.fit()` method estimates the coefficients for our linear model. We can access the coefficients $\\hat{\\beta}_0$ and $\\hat{\\beta}_1$ as follows:"
   ]
  },
  {
   "cell_type": "code",
   "execution_count": null,
   "metadata": {},
   "outputs": [],
   "source": [
    "beta0_hat =  fit_incidents.intercept_\n",
    "beta1_hat = fit_incidents.coef_\n",
    "print('beta0_hat:', beta0_hat)\n",
    "print('beta1_hat:', beta1_hat) # If we had more than one x term, .coef_ would return more than one coefficient, i.e., beta1_hat, beta2_hat..."
   ]
  },
  {
   "cell_type": "markdown",
   "metadata": {},
   "source": [
    "**Question 7 (1 pt):** How do the estimates of $\\hat{\\beta}_0$ and $\\hat{\\beta}_1$ that we found using the `scikit-learn` tools compare to those we found using the linear regression equations?"
   ]
  },
  {
   "cell_type": "markdown",
   "metadata": {},
   "source": [
    "*YOUR ANSWER HERE*"
   ]
  },
  {
   "cell_type": "markdown",
   "metadata": {},
   "source": [
    "We can also use `scikit-learn` to predict the target variable. The `linear_model` object we initated and fit for the CalTrans data has a `.predict()` method, which takes in a matrix $X$ and returns a list of $\\hat{y}$ values. "
   ]
  },
  {
   "cell_type": "code",
   "execution_count": null,
   "metadata": {},
   "outputs": [],
   "source": [
    "y_pred = fit_incidents.predict(X)"
   ]
  },
  {
   "cell_type": "markdown",
   "metadata": {},
   "source": [
    "Check that the values for y_pred equal the values for y_hat, at least the the 8th decimal place."
   ]
  },
  {
   "cell_type": "code",
   "execution_count": null,
   "metadata": {},
   "outputs": [],
   "source": [
    "assert (np.round(y_pred,8) == np.round(y_hat.values.reshape(-1,1),8)).all() "
   ]
  },
  {
   "cell_type": "markdown",
   "metadata": {},
   "source": [
    "### Evaluate model performance\n",
    "\n",
    "**Question 8 (2 pts):** Using the `y_pred` predicted values you developed above, calculate the error term $e_i$ (aka, the residual) for each pair of predictions and observations. The result for `error` should be a 1-dimensional array that has the same length as our number of observations. Then, create a scatter plot with the residual on the y-axis and Annual VMT on the x-axis. Overlay on your plot a dotted horizontal line that crosses the y-axis at zero."
   ]
  },
  {
   "cell_type": "code",
   "execution_count": null,
   "metadata": {},
   "outputs": [],
   "source": [
    "# #YOUR CODE HERE\n",
    "\n",
    "error = ... \n",
    "\n",
    "plt.scatter(...)\n",
    "plt.axline(...)\n",
    "plt.title(...)\n",
    "plt.xlabel(...)\n",
    "plt.ylabel(...)\n",
    "plt.show()"
   ]
  },
  {
   "cell_type": "markdown",
   "metadata": {},
   "source": [
    "**Question 9 (1pt):** Visually inspect your residual plot. Are there any regions of the x-domain in which your model seems to be systematically over- or under-estimating the response variable? Is this a sign of variance or bias in your model, and what is one strategy for correcting this issue?"
   ]
  },
  {
   "cell_type": "markdown",
   "metadata": {},
   "source": [
    "*YOUR ANSWER HERE*"
   ]
  },
  {
   "cell_type": "markdown",
   "metadata": {},
   "source": [
    "**Question 10 (1 pt)** Calculate the mean square error (MSE) for your model using the formula below. Your result should be a single, non-negative value.\n",
    "\n",
    "$\n",
    "MSE  =\\frac{1}{n} \\sum_{i=1}^n e_i^2\n",
    "$\n",
    "\n",
    "*Hint:* Use the `error` array you created in Question 8."
   ]
  },
  {
   "cell_type": "code",
   "execution_count": null,
   "metadata": {},
   "outputs": [],
   "source": [
    "# YOUR CODE HERE\n",
    "MSE = ...\n",
    "print(MSE)"
   ]
  },
  {
   "cell_type": "markdown",
   "metadata": {},
   "source": [
    "Alternatively, you can use scikit-learn built-in functions to calculate MSE."
   ]
  },
  {
   "cell_type": "code",
   "execution_count": null,
   "metadata": {},
   "outputs": [],
   "source": [
    "MSE = mean_squared_error(df[i_day], y_hat)\n",
    "MSE"
   ]
  },
  {
   "cell_type": "markdown",
   "metadata": {},
   "source": [
    "### Train-Test Split\n",
    "\n",
    "In the previous problem, you evaluated the mean squared error of your model on the full set of training data. To get a better sense of the out-of-sample performance of your modeling approach, you can instead divide our data into train and test sets, fit the model on the training set, and evaluate it on the train and test sets. \n",
    "\n",
    "**Question 11 (2pts):** Complete the code below to do a train/test split, fit a linear model on the training set, and evaluate the mean squared error (MSE) of your model on both the training set and the test set. "
   ]
  },
  {
   "cell_type": "code",
   "execution_count": null,
   "metadata": {},
   "outputs": [],
   "source": [
    "# Train-test split\n",
    "X_train, X_test, y_train, y_test = train_test_split(X, y, test_size=0.1, random_state=123)\n",
    "\n",
    "# Fit a model on the training set \n",
    "# YOUR CODE HERE\n",
    "\n",
    "# Use your model to predict y values for both the train and test set\n",
    "# YOUR CODE HERE\n",
    "\n",
    "# Evaluate MSE for both the train and test set\n",
    "MSE_train = ...\n",
    "MSE_test = ...\n",
    "\n",
    "# Print results\n",
    "print('Train MSE: ' + str(MSE_train))\n",
    "print('Test MSE: ' + str(MSE_test))"
   ]
  },
  {
   "cell_type": "markdown",
   "metadata": {},
   "source": [
    "**Question 12 (1pts):** Which MSE is highter? Why might that be?"
   ]
  },
  {
   "cell_type": "markdown",
   "metadata": {},
   "source": [
    "*YOUR ANSWER HERE*"
   ]
  },
  {
   "cell_type": "markdown",
   "metadata": {},
   "source": [
    "# Hooray, you're done! \n",
    "\n",
    "Please remember to submit your lab work, after clicking Kernel -> Restart & Run All, in .html format on bCourses."
   ]
  }
 ],
 "metadata": {
  "kernelspec": {
   "display_name": "Python 3 (ipykernel)",
   "language": "python",
   "name": "python3"
  },
  "language_info": {
   "codemirror_mode": {
    "name": "ipython",
    "version": 3
   },
   "file_extension": ".py",
   "mimetype": "text/x-python",
   "name": "python",
   "nbconvert_exporter": "python",
   "pygments_lexer": "ipython3",
   "version": "3.9.15"
  }
 },
 "nbformat": 4,
 "nbformat_minor": 2
}
