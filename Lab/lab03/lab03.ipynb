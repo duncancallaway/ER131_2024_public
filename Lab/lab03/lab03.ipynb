{
 "cells": [
  {
   "cell_type": "markdown",
   "metadata": {},
   "source": [
    "Before you turn this problem in, make sure everything runs as expected. In the menubar, select **Kernel** $\\rightarrow$ **Restart Kernel and Run All Cells...**. If you do not run a specific cell, you will not receive credit for that question. \n",
    "\n",
    "Make sure you fill in any place that says `YOUR CODE HERE` or \"YOUR ANSWER HERE\", as well as your name and collaborators below:"
   ]
  },
  {
   "cell_type": "code",
   "execution_count": null,
   "metadata": {},
   "outputs": [],
   "source": [
    "NAME = \"\" # put your full name here\n",
    "COLLABORATORS = [] # list anyone you collaborated with on this workbook"
   ]
  },
  {
   "cell_type": "markdown",
   "metadata": {},
   "source": [
    "---"
   ]
  },
  {
   "cell_type": "markdown",
   "metadata": {},
   "source": [
    "## Lab 3: Exploratory Data Analysis"
   ]
  },
  {
   "cell_type": "markdown",
   "metadata": {},
   "source": [
    "-------------------------------------------"
   ]
  },
  {
   "cell_type": "markdown",
   "metadata": {},
   "source": [
    "Welcome to your third lab of the semester!<br>\n",
    "\n",
    "This lab aims to get you started with exploratory data analysis, including using `.count`, `.groupby`, understanding different file types, and basic plotting functions. \n",
    "\n",
    "In addition, we will introduce you to Geopandas, a Python package designed to work with geospatial data. \n",
    "\n",
    "The data for this lab comes from the State of California's [domestic well groundwater monitoring program](https://data.ca.gov/dataset/ground-water-water-quality-results). In California, up to [2 million people get their water from a private domestic well](https://www.waterboards.ca.gov/gama/docs/wellowner_guide.pdf) rather than the public water system. For this lab, we've taken the water monitoring dataset and made some modifications for educational purposes, including creating a Point object from the latitude and longitude columns in the raw data, and splitting the dataset to merge later."
   ]
  },
  {
   "cell_type": "markdown",
   "metadata": {},
   "source": [
    "## Geospatial Data\n",
    "\n",
    "A common machine learning application is to predict an outcome at different locations. For example, we might be interested in predicting air or water pollutant levels in unmonitored locations, given sensor readings from other locations. Or, we might want to subset a dataset so that we can analyze only those data falling within a particular boundary, such as a country, city, or watershed. \n",
    "\n",
    "For these applications, we use geospatial data. Simply, geospatial data is data in the which the records are associated with a geographic location, e.g., coordinates, addresses, or zip codes. Most geospatial data comes in one of two formats: vector data or raster data.\n",
    "\n",
    "### Vector data\n",
    "Vector data represent geographic features as shapes (most commonly, points, lines, and/or polygons). Each shape is associated with coordinates in space: a point will be associated with one set of coordinates, whereas lines and polygons will be associated with a set of points that comprise the line or the boundary of the polygon. \n",
    "\n",
    "<img src=\"images/vector.png\"><br>\n",
    "\n",
    "### Raster data\n",
    "Raster data are represented as a continuous grid of values (like pixels in a photograph). Grid cells are organized into rows and columns, representing x and y coordinates. The value of the cell represents an attribute such as solar insolation, land cover, temperature, etc. \n",
    "\n",
    "<img src=\"images/raster.png\"><br>\n",
    "\n",
    "Source: [Wikimedia Commons](https://commons.wikimedia.org/wiki/File:Raster_vector_tikz.png)\n",
    "\n",
    "In this lab, we'll work with vector data."
   ]
  },
  {
   "cell_type": "markdown",
   "metadata": {},
   "source": [
    "## GeoPandas and related Geospatial Packages\n",
    "\n",
    "[GeoPandas](http://geopandas.org/) is the go-to package for working with vector data in Python. `GeoPandas` provides convenient, unified access to the functionality of the [pandas](https://pandas.pydata.org/) package, extending it with the geospatial processing capabilities provided by a number of lower level spatial data packages including [shapely](https://pypi.python.org/pypi/Shapely) for geometry processing, [fiona](https://pypi.python.org/pypi/Fiona) and [GDAL/Ogr](https://gdal.org) for spatial data file IO, and[ pyproj](https://github.com/jswhit/pyproj) and [PROJ.4](https://proj.org/) for map projections and coordinate systems.  "
   ]
  },
  {
   "cell_type": "markdown",
   "metadata": {},
   "source": [
    "## Setup"
   ]
  },
  {
   "cell_type": "markdown",
   "metadata": {},
   "source": [
    "Begin by importing our usual packages: NumPy, Pandas, and matplotlib. We will also import GeoPandas using the common shorthand `gpd`."
   ]
  },
  {
   "cell_type": "code",
   "execution_count": null,
   "metadata": {},
   "outputs": [],
   "source": [
    "# Run this cell to import the packages we will need\n",
    "import numpy as np\n",
    "import matplotlib.pyplot as plt\n",
    "import pandas as pd\n",
    "import geopandas as gpd\n",
    "%matplotlib inline"
   ]
  },
  {
   "cell_type": "markdown",
   "metadata": {},
   "source": [
    "Let's go ahead and load the data. The first dataset, `gama_measurements`, is saved as a csv file, so we can load it into a Pandas dataframe using the following code."
   ]
  },
  {
   "cell_type": "code",
   "execution_count": null,
   "metadata": {},
   "outputs": [],
   "source": [
    "measurements = pd.read_csv('data/gama_measurements.csv')\n",
    "measurements.head()"
   ]
  },
  {
   "cell_type": "markdown",
   "metadata": {},
   "source": [
    "### Importing geospatial data\n",
    "Geospatial data can be found in different formats and sources, such as ESRI Shapefiles, GeoJSON files, geopackage files, and PostGIS (PostgreSQL) databases, among others.\n",
    "\n",
    "GeoPandas makes it easy to read in a variety of spatial data files, including the ESRI Shapefile, with the `read_file` command. The second dataset, `gama_wells` is an ESRI Shapefile. Load it into a **GeoDataFrame** using the following code."
   ]
  },
  {
   "cell_type": "code",
   "execution_count": null,
   "metadata": {},
   "outputs": [],
   "source": [
    "# run this cell\n",
    "wells = gpd.read_file('data/gama_wells.shp')\n",
    "wells.head()"
   ]
  },
  {
   "cell_type": "markdown",
   "metadata": {},
   "source": [
    "## Question 1: Exploring the data\n",
    "\n",
    "## Structure\n",
    "### Question 1.1 \n",
    "Take a look inside the `data` folder for this Lab. \n",
    "\n",
    "**Question 1.1.a (1 pt):** What file type holds the `gama_measurements` data? How is the information stored in this file (you can inspect the files in a text editor to answer this question)?"
   ]
  },
  {
   "cell_type": "markdown",
   "metadata": {},
   "source": [
    "*YOUR ANSWER HERE*"
   ]
  },
  {
   "cell_type": "markdown",
   "metadata": {},
   "source": [
    "**Question 1.1.b. (1 pt):** How many file types are associated with `gama_wells`? What do the various extensions stand for? Why are multiple file types associated with this dataset? (Hint: refer to the [Library of Congress's description of the Shapefile format](https://www.loc.gov/preservation/digital/formats/fdd/fdd000280.shtml)). "
   ]
  },
  {
   "cell_type": "markdown",
   "metadata": {},
   "source": [
    "*YOUR ANSWER HERE*"
   ]
  },
  {
   "cell_type": "markdown",
   "metadata": {},
   "source": [
    "## Granularity\n",
    "\n",
    "### Question 1.2\n",
    "\n",
    "**Question 1.2.a (1 pt):** How many rows are in `wells`, and what do they represent? How many rows are in `measurements`, and what do they represent?"
   ]
  },
  {
   "cell_type": "code",
   "execution_count": null,
   "metadata": {},
   "outputs": [],
   "source": [
    "# scratch work here"
   ]
  },
  {
   "cell_type": "markdown",
   "metadata": {
    "scrolled": true
   },
   "source": [
    "*YOUR ANSWER HERE*"
   ]
  },
  {
   "cell_type": "markdown",
   "metadata": {},
   "source": [
    "**Question 1.2.b (1 pt):** What is the level of spatial aggregation of the data in `wells`? Have the data been aggregated or summarized in any way? "
   ]
  },
  {
   "cell_type": "markdown",
   "metadata": {},
   "source": [
    "*YOUR ANSWER HERE*"
   ]
  },
  {
   "cell_type": "markdown",
   "metadata": {},
   "source": [
    "**Question 1.2.c (1 pt):** How are the data in `measurements` aggregated over time (if at all)? How frequently does it appear that measurements were taken? (One approach: take a look at the `unique` dates associated with a specific well or two. The `pd.to_datetime` method might also be useful here.)"
   ]
  },
  {
   "cell_type": "code",
   "execution_count": null,
   "metadata": {},
   "outputs": [],
   "source": [
    "# scratch work here\n",
    "\n",
    "# scratch work here\n",
    "\n",
    "# check one of the wells\n",
    "ant07 = measurements.loc[measurements['WELL_ID']=='ANT-07'] # Look at the measurements for one well\n",
    "print(pd.to_datetime(ant07['DATE']).unique()) # find the unique dates on which sampling occured\n",
    "\n",
    "# check another well\n",
    "# YOUR CODE HERE"
   ]
  },
  {
   "cell_type": "markdown",
   "metadata": {},
   "source": [
    "*YOUR ANSWER HERE*"
   ]
  },
  {
   "cell_type": "markdown",
   "metadata": {},
   "source": [
    "## Scope \n",
    "\n",
    "### Question 1.3\n",
    "Take a look at the [description for the GAMA data](https://data.ca.gov/dataset/ground-water-water-quality-results/resource/9e09ac40-b694-4ddc-acd2-2e7f7d10e231) as well as the [dataset information](https://gamagroundwater.waterboards.ca.gov/gama/dataset_information). \n",
    "\n",
    "**Question 1.3.a (1 pt):** What geographic extent do the data cover? "
   ]
  },
  {
   "cell_type": "markdown",
   "metadata": {},
   "source": [
    "*YOUR ANSWER HERE*"
   ]
  },
  {
   "cell_type": "markdown",
   "metadata": {},
   "source": [
    "**Question 1.3.b (1 pt):** What range of time of time do the data cover? Hint: use the `pd.to_datetime` method to convert the DATE column in `measurements` to datetime format, and then check the `min()` and `max()` of that column."
   ]
  },
  {
   "cell_type": "code",
   "execution_count": null,
   "metadata": {},
   "outputs": [],
   "source": [
    "# convert the DATES column to datetime. This takes a little time to run!\n",
    "dates = pd.to_datetime(measurements['DATE'])"
   ]
  },
  {
   "cell_type": "code",
   "execution_count": null,
   "metadata": {},
   "outputs": [],
   "source": [
    "# scratch work here: find the min and max date"
   ]
  },
  {
   "cell_type": "markdown",
   "metadata": {},
   "source": [
    "*YOUR ANSWER HERE*"
   ]
  },
  {
   "cell_type": "markdown",
   "metadata": {},
   "source": [
    "**Question 1.3.c (1 pt):** Based on the documentation, are there any other limits to the types of wells that are reported (e.g., based on size, ownership)? What are the `unique` types of wells reported in the \"WELL_TYPE\" column of `wells`, and what do they imply about the scope of the data?"
   ]
  },
  {
   "cell_type": "code",
   "execution_count": null,
   "metadata": {},
   "outputs": [],
   "source": [
    "# YOUR CODE HERE"
   ]
  },
  {
   "cell_type": "markdown",
   "metadata": {},
   "source": [
    "*YOUR ANSWER HERE* "
   ]
  },
  {
   "cell_type": "markdown",
   "metadata": {},
   "source": [
    "## Faithfulness\n",
    "\n",
    "### Question 1.4\n",
    "**Question 1.4.a (1 pt):** Check out the documentation for this dataset provided by the [California Data Portal](https://data.ca.gov/dataset/ground-water-water-quality-results) by clicking on \"Data Dictionary\". Are there any fields in either `wells` or `measurements` that are not documented or easily understandable from looking at the data dictionary? Note: we are using an older version of the GAMA data, and the headings are slightly different from those given in the data dictionary. Do your best to interpret how the columns map to the data dictionary. "
   ]
  },
  {
   "cell_type": "markdown",
   "metadata": {},
   "source": [
    "*YOUR ANSWER HERE*"
   ]
  },
  {
   "cell_type": "markdown",
   "metadata": {},
   "source": [
    "**Question 1.4.b (1 pt):** Read the descriptions of the GAMA Domestic Wells on [this website](https://gamagroundwater.waterboards.ca.gov/gama/dataset_information). What concerns do you have about data faithfulness based on the description of the data's origins?"
   ]
  },
  {
   "cell_type": "markdown",
   "metadata": {},
   "source": [
    "*YOUR ANSWER HERE*"
   ]
  },
  {
   "cell_type": "markdown",
   "metadata": {},
   "source": [
    "**Question 1.4.c (1 pt):** Qualitatively describe other checks you could make to the dataset and/or documentation to assess its faithfulness."
   ]
  },
  {
   "cell_type": "markdown",
   "metadata": {},
   "source": [
    "*YOUR ANSWER HERE*"
   ]
  },
  {
   "cell_type": "markdown",
   "metadata": {},
   "source": [
    "## Data Cleaning\n",
    "### Question 1.5 (4 pts)\n",
    "\n",
    "How many measurements are above the reporting limit for their respective chemicals?"
   ]
  },
  {
   "cell_type": "code",
   "execution_count": null,
   "metadata": {},
   "outputs": [],
   "source": [
    "# We want to compare the \"RESULTS\" and \"RL\" columns of 'measurements'\n",
    "# Let's start by checking the type of data in each column\n",
    "print(measurements['RESULTS'].dtype)\n",
    "print(measurements['RL'].dtype)"
   ]
  },
  {
   "cell_type": "markdown",
   "metadata": {},
   "source": [
    "The data in the `RL` column are coded as strings. To compare them to the float data in the `RESULTS` column, we'll need to convert this column to float data. Add a new column called 'RL_clean' to `measurements`. What happens if you attempt to fill this column with the `RL` data coded as float type?"
   ]
  },
  {
   "cell_type": "code",
   "execution_count": null,
   "metadata": {},
   "outputs": [],
   "source": [
    "# Start by creating a new column and copying the values from RL into that column\n",
    "measurements['RL_clean'] = ... # YOUR CODE HERE\n",
    "\n",
    "# Then, try convert this new column to float type using the .astype() method\n",
    "... # YOUR CODE HERE"
   ]
  },
  {
   "cell_type": "markdown",
   "metadata": {},
   "source": [
    "The code above fails because one or more of the elements in the `RL_clean` column contain the string 'UNK', which cannot be converted to a float. Replace the 'UNK' entries in `RL_clean` with `np.nan` and try again to convert the column to float values."
   ]
  },
  {
   "cell_type": "code",
   "execution_count": null,
   "metadata": {},
   "outputs": [],
   "source": [
    "# YOUR CODE HERE"
   ]
  },
  {
   "cell_type": "markdown",
   "metadata": {},
   "source": [
    "Next, use `.loc` to find all of the rows in which `RESULTS` exceed the reporting limit."
   ]
  },
  {
   "cell_type": "code",
   "execution_count": null,
   "metadata": {},
   "outputs": [],
   "source": [
    "# YOUR CODE HERE"
   ]
  },
  {
   "cell_type": "markdown",
   "metadata": {},
   "source": [
    "How many measurements exceeded the reporting limit?"
   ]
  },
  {
   "cell_type": "markdown",
   "metadata": {},
   "source": [
    "*YOUR ANSWER HERE*"
   ]
  },
  {
   "cell_type": "markdown",
   "metadata": {},
   "source": [
    "## 2. Working with GeoDataFrames\n",
    "\n",
    "A GeoDataFrame contains a tabular, geospatial dataset:\n",
    "\n",
    "* It has a **'geometry' column** that holds the geometry information (or features in GeoJSON).\n",
    "* The other columns are the **attributes** (or properties in GeoJSON) that describe each of the geometries\n",
    "\n",
    "Such a `GeoDataFrame` is just like a pandas `DataFrame`, but with some additional functionality for working with geospatial data. For example GeoDataFrames include:\n",
    "\n",
    "* A `.geometry` attribute that always returns the column with the geometry information (returning a GeoSeries). The column name itself does not necessarily need to be 'geometry', but it will always be accessible as the `.geometry` attribute.\n",
    "* Extra methods for working with spatial data (area, distance, buffer, intersection, ...), some of which we'll see in later notebooks."
   ]
  },
  {
   "cell_type": "markdown",
   "metadata": {},
   "source": [
    "### Question 2.1 (1 pt)\n",
    "Import the Shapefile data stored in the folder `data/CA_Counties` and assign it to a GeoDataFrame named `counties`. Print the `head` of `counties`."
   ]
  },
  {
   "cell_type": "code",
   "execution_count": null,
   "metadata": {},
   "outputs": [],
   "source": [
    "#YOUR CODE HERE\n",
    "counties = ...\n",
    "counties.head()"
   ]
  },
  {
   "cell_type": "markdown",
   "metadata": {},
   "source": [
    "Because a GeoDataFrame is a Pandas dataframe, you can use all the Pandas dataframe methods with it:"
   ]
  },
  {
   "cell_type": "code",
   "execution_count": null,
   "metadata": {},
   "outputs": [],
   "source": [
    "# Drop a column we don't need\n",
    "counties.drop('STATEFP',axis=1,inplace=True)"
   ]
  },
  {
   "cell_type": "markdown",
   "metadata": {},
   "source": [
    "GeoDataFrames also offer some functionalities specific to spatial data. For example, you can easily plot the data. "
   ]
  },
  {
   "cell_type": "code",
   "execution_count": null,
   "metadata": {},
   "outputs": [],
   "source": [
    "# Create a map of the CA counties\n",
    "counties.plot();"
   ]
  },
  {
   "cell_type": "code",
   "execution_count": null,
   "metadata": {},
   "outputs": [],
   "source": [
    "# Create a map of the GAMA wells\n",
    "wells.plot(color = 'orange');"
   ]
  },
  {
   "cell_type": "markdown",
   "metadata": {},
   "source": [
    "### Question 2.2 (1 pt)\n",
    "Examine the plots of the counties and wells above. What do the values on the x- and y- axes of the two plots above represent? Why do `wells` and `counties` have different axes? Would the wells and counties overlap if we were to place them both on the same map?"
   ]
  },
  {
   "cell_type": "markdown",
   "metadata": {},
   "source": [
    "*YOUR ANSWER HERE*"
   ]
  },
  {
   "cell_type": "markdown",
   "metadata": {},
   "source": [
    "### Geometries: Points, Linestrings and Polygons\n",
    "\n",
    "\n",
    "A GeoPandas GeoSeries supports three basic types of vector geometries, in [Well-Known Text ](https://en.wikipedia.org/wiki/Well-known_text_representation_of_geometry) format. In the examples below, the tuples contain point coordinates in two-dimensional space:\n",
    "- **Points / MultiPoints**\n",
    "    - POINT( -122 38)\n",
    "\n",
    "    - MULTIPOINT((-122 38), (-123 39))\n",
    "    \n",
    "    \n",
    "- **Lines / MultiLines***\n",
    "    - LINE (30 10, 10 30, 40 40)\n",
    "    \n",
    "    - MULTILINE((10 10, 20 20, 10 40),(40 40, 30 30, 40 20, 30 10))\n",
    "    \n",
    "    \n",
    "- **Polygons / MultiPolygons**\n",
    "    - POLYGON ((35 10, 45 45, 15 40, 10 20, 35 10), (20 30, 35 35, 30 20, 20 30))\n",
    "    - MULTIPOLYGON (((30 20, 45 40, 10 40, 30 20)), ((15 5, 40 10, 10 20, 5 10, 15 5)))\n",
    "\n",
    "Notes:\n",
    "- GeoPandas does not support raster geometries - check out the [Rasterio](https://rasterio.readthedocs.io/en/latest/) package for that.\n",
    "- A GeoSeries can contain mixed geometry types but it's not a great idea.\n",
    "\n",
    "(See https://shapely.readthedocs.io/en/stable/manual.html#geometric-objects for extensive overview)\n",
    "\n",
    "\n",
    "</br>\n",
    "\n"
   ]
  },
  {
   "cell_type": "markdown",
   "metadata": {},
   "source": [
    "### Question 2.3 (1 pt)\n",
    "What kind of geometry are the data in `wells`? What about `counties`? "
   ]
  },
  {
   "cell_type": "code",
   "execution_count": null,
   "metadata": {},
   "outputs": [],
   "source": [
    "# YOUR CODE HERE"
   ]
  },
  {
   "cell_type": "markdown",
   "metadata": {},
   "source": [
    "### Coordinate reference systems\n",
    "\n",
    "A **coordinate reference system (CRS)** determines how the two-dimensional (planar) coordinates of the geometry objects should be related to actual places on the (non-planar) earth.\n",
    "\n",
    "For a nice in-depth explanation, see https://docs.qgis.org/2.8/en/docs/gentle_gis_introduction/coordinate_reference_systems.html\n"
   ]
  },
  {
   "cell_type": "markdown",
   "metadata": {},
   "source": [
    "In order to reduce distortion in maps we apply a map projection (math) to transform 3D geographic coordinates to 2D projected map coordinates.\n",
    "\n",
    "<img src=\"https://www.e-education.psu.edu/natureofgeoinfo/sites/www.e-education.psu.edu.natureofgeoinfo/files/image/projection.gif\"></img>\n",
    "\n",
    "\n",
    "The output of spatial measurements depend on the CRS and is expressed in the units of the CRS. \n",
    "\n",
    "## Defining and Transforming a CRS\n",
    "\n",
    "There are sometimes good reasons you want to change the coordinate references system of your dataset, for example:\n",
    "\n",
    "- different sources with different crs -> need to convert to the same crs\n",
    "- distance-based operations -> you'll need a crs that has meter units (not degrees)\n",
    "- plotting in a certain crs (e.g., to preserve area)\n",
    "\n",
    "The process for transforming a CRS is:\n",
    "\n",
    "1. Make sure a **crs** is defined for the geopandas dataframe by checking the **crs** property. \n",
    "2. If it is not set, you can **define** it.\n",
    "3. Transform the coordinate geometry to a new CRS using the **to_crs** method.\n",
    "- This returns a new geodataframe with the new coordinate values and CRS.\n",
    "- You need to know what which CRS to use!!"
   ]
  },
  {
   "cell_type": "markdown",
   "metadata": {},
   "source": [
    "A GeoDataFrame or GeoSeries has a `.crs` attribute which holds (optionally) a description of the coordinate reference system of the geometries. In our case, the crs is defined for both `wells` and `counties`, but the two datasets use different crs. "
   ]
  },
  {
   "cell_type": "code",
   "execution_count": null,
   "metadata": {},
   "outputs": [],
   "source": [
    "print(wells.crs)\n",
    "print(counties.crs)"
   ]
  },
  {
   "cell_type": "markdown",
   "metadata": {},
   "source": [
    "What does **epsg:4326** mean? This is an [EPSG](http://www.epsg.org/) code for the geographic CRS known as the [World Geodectic System of 1984](https://en.wikipedia.org/wiki/World_Geodetic_System#WGS84), or `WGS84`. This is the most commonly used CRS for latitude and longitude coordinate data and is the default CRS for most mapping software when the data does not have a defined CRS.\n",
    "\n",
    "The `counties` crs, epsg:3857, is known as \"Pseudo-Mercator.\" You can read about it at the link above."
   ]
  },
  {
   "cell_type": "markdown",
   "metadata": {},
   "source": [
    "### Question 2.4 (1 pt)\n",
    "So that we can better compare the `wells` and `counties` dataframes, let's transform the crs for `counties` data to epsg:4326. We can convert a GeoDataFrame to another reference system using the `to_crs` function. Make the transformation and save it to a new variable called `counties_wgs84`. You will need to decide if/how to specify the three parameters to `to_crs`."
   ]
  },
  {
   "cell_type": "code",
   "execution_count": null,
   "metadata": {},
   "outputs": [],
   "source": [
    "# YOUR CODE HERE\n",
    "counties_wgs84 = ..."
   ]
  },
  {
   "cell_type": "code",
   "execution_count": null,
   "metadata": {},
   "outputs": [],
   "source": [
    "assert counties_wgs84.crs == 'epsg:4326'"
   ]
  },
  {
   "cell_type": "markdown",
   "metadata": {},
   "source": [
    "### Question 2.5 (1 pt)\n",
    "Now that `counties` and `wells` are in the same coordinate reference system, we can (meaningfully) plot them on the same map. Run the code block below and make two \"artistic\" changes to the plot (for example, change the size or shape of the well markers or the weight of the county boundaries). "
   ]
  },
  {
   "cell_type": "code",
   "execution_count": null,
   "metadata": {},
   "outputs": [],
   "source": [
    "fig, ax = plt.subplots(figsize=(8,12))\n",
    "\n",
    "wells.plot(ax=ax, color = 'blue', alpha = 0.7, markersize = 1)\n",
    "\n",
    "counties_wgs84.plot(ax=ax, color = 'white', edgecolor='gray', alpha = 0.3)\n",
    "\n",
    "ax.axis('off') # You can optionally omit the axes\n",
    "\n",
    "# Show a title\n",
    "ax.set_title('Monitored wells in California')\n",
    "\n",
    "plt.show()"
   ]
  },
  {
   "cell_type": "markdown",
   "metadata": {},
   "source": [
    "## Spatial relationships \n",
    "\n",
    "An important aspect of geospatial data is that we can look at *spatial relationships*: how two spatial objects relate to each other (whether they overlap, intersect, contain, .. one another).\n",
    "\n",
    "The topological, set-theoretic relationships in GIS are typically based on the DE-9IM model. See https://en.wikipedia.org/wiki/Spatial_relation for more information.\n",
    "\n",
    "<img src=\"images/TopologicSpatialRelations2.png\"><br>\n",
    "(Image by [Krauss, CC BY-SA 3.0](https://en.wikipedia.org/wiki/Spatial_relation#/media/File:TopologicSpatialRelarions2.png))\n",
    "\n",
    "#### Spatial relationships functions overview\n",
    "\n",
    "<ul>\n",
    "  <li>`equals`</li>\n",
    "  <li>`contains`</li>\n",
    "  <li>`crosses`</li>\n",
    "  <li>`disjoint`</li>\n",
    "  <li>`intersects`</li>\n",
    "  <li>`overlaps`</li>\n",
    "  <li>`touches`</li>\n",
    "  <li>`within`</li>\n",
    "  <li>`covers`</li>\n",
    "</ul>\n",
    "\n",
    "<p>\n",
    "See https://shapely.readthedocs.io/en/stable/manual.html#predicates-and-relationships for an overview of those methods.\n"
   ]
  },
  {
   "cell_type": "markdown",
   "metadata": {},
   "source": [
    "We can use the built-in methods in Geopandas to evaluate the spatial relationships between individual objects.\n",
    "\n",
    "For example, we can show that the first well (index 0) is located in Kern County. Note: we use `.squeeze()` here and elsewhere to to extract the geometry object when the GeoSeries only contains one entry."
   ]
  },
  {
   "cell_type": "code",
   "execution_count": null,
   "metadata": {},
   "outputs": [],
   "source": [
    "# extract the first well (a Point object)\n",
    "well0 = wells.loc[0,'geometry']\n",
    "\n",
    "# extract the Kern county Polygon\n",
    "kern = counties_wgs84.loc[counties['NAME']=='Kern','geometry'].squeeze()\n",
    "\n",
    "# use the `contains` method to determine whether well0 is located within Kern\n",
    "kern.contains(well0)"
   ]
  },
  {
   "cell_type": "markdown",
   "metadata": {},
   "source": [
    "The same methods that are available on individual `shapely` geometries as we have seen above, are also available as methods on `GeoSeries` / `GeoDataFrame` objects.\n",
    "\n",
    "For example, if we call the `contains` method on the `counties` dataframe with the `well0` point, Python check whether each county contains `well0`. We can then use the resulting series of Booleans to filter the dataframe."
   ]
  },
  {
   "cell_type": "code",
   "execution_count": null,
   "metadata": {},
   "outputs": [],
   "source": [
    "well0_counties = counties_wgs84.contains(well0) # print this if you're not sure what form the output will take\n",
    "counties_wgs84[well0_counties]"
   ]
  },
  {
   "cell_type": "markdown",
   "metadata": {},
   "source": [
    "### Question 2.6 (1 pt)\n",
    "Filter `wells` to show only those wells that are located `within` Fresno county."
   ]
  },
  {
   "cell_type": "code",
   "execution_count": null,
   "metadata": {},
   "outputs": [],
   "source": [
    "# YOUR CODE HERE\n",
    "\n",
    "...\n",
    "\n",
    "fresno_wells = ..."
   ]
  },
  {
   "cell_type": "code",
   "execution_count": null,
   "metadata": {},
   "outputs": [],
   "source": [
    "assert len(fresno_wells)==120"
   ]
  },
  {
   "cell_type": "markdown",
   "metadata": {},
   "source": [
    "## Question 3: Merging data\n",
    "For this question, we want to use the method [`.merge()`](https://pandas.pydata.org/pandas-docs/stable/reference/api/pandas.DataFrame.merge.html) to merge `fresno_wells` and `measurements`.<br>\n",
    "\n",
    "When you use `.merge()`, there are a few parameters that you'll have to set. The `DataFrame` in `DataFrame.merge()` is considered your left dataframe, or the set of data that will show up on the left side of your merged dataframe. The `right` field will contain your right dataframe (the set of data that will show up on the right side of your merged dataframe).<br>\n",
    "\n",
    "Two of the key fields that you'll have to fill out are `on = ` (the common field that both tables should be matched on when  you merge) and ` how = ` (the type of merge that you want to perform).<br>\n",
    "A visual of the different types of merges is shown below ([source](http://www.datasciencemadesimple.com/join-merge-data-frames-pandas-python/)).<br>\n",
    "\n",
    "<img src=\"images/joins.png\"><br>\n",
    "An inner merge retains only the records that both tables have in common, an outer merge keeps all records from both tables and fills in `NaN` values for non-overlapping records, and a right merge and a left merge keep all the records from the right or left table, respectively, filling in `NaN` if a particular record is not found in the other table."
   ]
  },
  {
   "cell_type": "markdown",
   "metadata": {},
   "source": [
    "### Question 3.1 (1 pt)\n",
    "If we want to link the well measurements in `measurement` to the well characteristics in `fresno_wells`, what field do we want to use for `on = `?"
   ]
  },
  {
   "cell_type": "markdown",
   "metadata": {},
   "source": [
    "*YOUR ANSWER HERE*"
   ]
  },
  {
   "cell_type": "markdown",
   "metadata": {},
   "source": [
    "### Question 3.2 (1 pt)\n",
    "Which type of merge (inner, outer, left, right) should we use to merge the `measurements` and `fresno_wells` data? Why?"
   ]
  },
  {
   "cell_type": "code",
   "execution_count": null,
   "metadata": {},
   "outputs": [],
   "source": [
    "# use this cell for scratch work"
   ]
  },
  {
   "cell_type": "markdown",
   "metadata": {},
   "source": [
    "*YOUR ANSWER HERE*"
   ]
  },
  {
   "cell_type": "markdown",
   "metadata": {},
   "source": [
    "### Question 3.3 (1 pt)\n",
    "Merge `measurements` and `fresno_wells`, keeping `measurements` as the left dataframe. Save the merged dataframe to `measurements_wells`."
   ]
  },
  {
   "cell_type": "code",
   "execution_count": null,
   "metadata": {},
   "outputs": [],
   "source": [
    "# YOUR CODE HERE\n",
    "measurements_wells = ..."
   ]
  },
  {
   "cell_type": "code",
   "execution_count": null,
   "metadata": {},
   "outputs": [],
   "source": [
    "measurements_wells.head()"
   ]
  },
  {
   "cell_type": "markdown",
   "metadata": {},
   "source": [
    "# Hooray, you're done! \n",
    "\n",
    "Please remember to submit your lab work, after running all cells, in .html format on bCourses."
   ]
  },
  {
   "cell_type": "markdown",
   "metadata": {},
   "source": [
    "Credits: the Geopandas section of this notebook was adapted from content developed by UC Berkeley's D-Lab and Sergio Rey's tutorials. "
   ]
  }
 ],
 "metadata": {
  "kernelspec": {
   "display_name": "Python 3 (ipykernel)",
   "language": "python",
   "name": "python3"
  },
  "language_info": {
   "codemirror_mode": {
    "name": "ipython",
    "version": 3
   },
   "file_extension": ".py",
   "mimetype": "text/x-python",
   "name": "python",
   "nbconvert_exporter": "python",
   "pygments_lexer": "ipython3",
   "version": "3.9.15"
  }
 },
 "nbformat": 4,
 "nbformat_minor": 2
}
