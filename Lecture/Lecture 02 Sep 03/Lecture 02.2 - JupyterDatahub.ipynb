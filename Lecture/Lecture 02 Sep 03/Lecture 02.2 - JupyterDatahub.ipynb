{
 "cells": [
  {
   "cell_type": "markdown",
   "metadata": {},
   "source": [
    "# Jupyter notebooks"
   ]
  },
  {
   "cell_type": "markdown",
   "metadata": {},
   "source": [
    "* Jupyter notebooks are extremely useful computing tools.  \n",
    "* They turn a somewhat user-unfriendly command line Python environment into a versatile workspace where \n",
    "    * you can write markdown (this cell is markdown) for easy reading, and \n",
    "    * run code in \"blocks\" to sequentially work through a project.\n",
    "* Important: there are two \"modes\"\n",
    "    * command mode: in this mode your keystrokes don't result in text on the screen, but make the notebook do things.  Type `esc` to get here.\n",
    "    * edit mode: in this mode your keystrokes give you text on the screen.  From command mode, highlight a cell and type `enter`\n",
    "* Cells are blocks of text that either contain code or \"markdown\".  \n",
    "    * in command mode, type `m` to make a cell markdown\n",
    "    * in command mode, type `y` to make a cell code."
   ]
  },
  {
   "cell_type": "markdown",
   "metadata": {},
   "source": [
    "# Markdown\n",
    "Markdown is a simple language for rendering nice looking text.\n",
    "\n",
    "[Here](https://www.markdownguide.org/cheat-sheet/) are some simple Markdown rules.  I got here by googling 'markdown cheat sheet'"
   ]
  },
  {
   "cell_type": "markdown",
   "metadata": {},
   "source": [
    "# Basic math and string manipulation"
   ]
  },
  {
   "cell_type": "markdown",
   "metadata": {},
   "source": [
    "Let's do a simple addition:"
   ]
  },
  {
   "cell_type": "code",
   "execution_count": 1,
   "metadata": {},
   "outputs": [
    {
     "data": {
      "text/plain": [
       "20"
      ]
     },
     "execution_count": 1,
     "metadata": {},
     "output_type": "execute_result"
    }
   ],
   "source": [
    "10+10"
   ]
  },
  {
   "cell_type": "markdown",
   "metadata": {},
   "source": [
    "Let's print out the answer in nicer form:"
   ]
  },
  {
   "cell_type": "code",
   "execution_count": 2,
   "metadata": {
    "scrolled": true
   },
   "outputs": [
    {
     "data": {
      "text/plain": [
       "'answer is 20'"
      ]
     },
     "execution_count": 2,
     "metadata": {},
     "output_type": "execute_result"
    }
   ],
   "source": [
    "'answer is '+str(Out[1])"
   ]
  },
  {
   "cell_type": "markdown",
   "metadata": {},
   "source": [
    "# Datahub\n",
    "\n",
    "`datahub.berkeley.edu` is a cool perk of being a Berkeley student (and teacher)\n",
    "\n",
    "If you have a calnet id, you can log on to datahub and run Jupyter notebooks there\n",
    "* You don't have to maintain a local distribution of Python or Jupyter notebooks -- someone else does the sys admin for you!\n",
    "\n",
    "We'll be pushing all your assignments through datahub.\n",
    "\n",
    "You can work on your own computer (install Anaconda to get Python and Jupyter all wrapped together) if you wish, but we won't guarantee the notebooks will run there.\n",
    "\n",
    "There will always be a link in the labs and HW to get you to the right datahub directory."
   ]
  },
  {
   "cell_type": "markdown",
   "metadata": {},
   "source": [
    "# A few jupyter shortcuts\n",
    "\n",
    "You can get here by typing `h` (lower case) in command mode.  \n",
    "\n",
    "`esc` --> command mode for cell\n",
    "\n",
    "`enter` --> edit mode for cell\n",
    "\n",
    "`shift-enter` --> run cell and select next cell\n",
    "\n",
    "`ctrl-enter` --> run cell and keep it selected\n",
    "\n",
    "in command mode, `a` creates a new cell above\n",
    "\n",
    "in command mode, `b` creates a new cell below\n",
    "\n",
    "in command mode, `dd` deletes cell\n",
    "\n",
    "in command mode, `m` turns cell into markdown\n",
    "\n",
    "in command mode, `y` turns cell to code\n",
    "\n",
    "`shift-tab` gives information on a function or method\n",
    "\n",
    "`tab` gives options to add a method or function to an object."
   ]
  },
  {
   "cell_type": "markdown",
   "metadata": {},
   "source": [
    "# Libraries\n",
    "There is an enormous number of libaries available in the Python ecosystem.  \n",
    "\n",
    "Datahub will have these all ready for you to load into a notebook.\n",
    "\n",
    "Once you are running a notebook, a lot of useful things will need to be unlocked by loading a library."
   ]
  },
  {
   "cell_type": "markdown",
   "metadata": {},
   "source": [
    "We will import pandas as `pd` and numpy as `np`:"
   ]
  },
  {
   "cell_type": "code",
   "execution_count": 3,
   "metadata": {},
   "outputs": [],
   "source": [
    "import pandas as pd\n",
    "import numpy as np"
   ]
  },
  {
   "cell_type": "markdown",
   "metadata": {},
   "source": [
    "Numpy has all sorts of mathematical functions that the basic version of python does not, e.g. `np.add`"
   ]
  },
  {
   "cell_type": "code",
   "execution_count": 4,
   "metadata": {},
   "outputs": [
    {
     "data": {
      "text/plain": [
       "20"
      ]
     },
     "execution_count": 4,
     "metadata": {},
     "output_type": "execute_result"
    }
   ],
   "source": [
    "np.add(10,10)"
   ]
  },
  {
   "cell_type": "markdown",
   "metadata": {},
   "source": [
    "# Functions\n",
    "You can write functions in jupyter just as you would in a regular python file.  This function defines the area of a circle or square based on its radius or diameter:"
   ]
  },
  {
   "cell_type": "code",
   "execution_count": 5,
   "metadata": {},
   "outputs": [],
   "source": [
    "def area(x,shape):\n",
    "    if shape == 'circle':\n",
    "        return np.pi*x**2\n",
    "    if shape == 'square':\n",
    "        return x**2"
   ]
  },
  {
   "cell_type": "code",
   "execution_count": 6,
   "metadata": {},
   "outputs": [
    {
     "data": {
      "text/plain": [
       "50.26548245743669"
      ]
     },
     "execution_count": 6,
     "metadata": {},
     "output_type": "execute_result"
    }
   ],
   "source": [
    "area(4,'circle')"
   ]
  },
  {
   "cell_type": "code",
   "execution_count": 7,
   "metadata": {},
   "outputs": [
    {
     "data": {
      "text/plain": [
       "4"
      ]
     },
     "execution_count": 7,
     "metadata": {},
     "output_type": "execute_result"
    }
   ],
   "source": [
    "area(2,'square')"
   ]
  }
 ],
 "metadata": {
  "kernelspec": {
   "display_name": "Python 3 (ipykernel)",
   "language": "python",
   "name": "python3"
  },
  "language_info": {
   "codemirror_mode": {
    "name": "ipython",
    "version": 3
   },
   "file_extension": ".py",
   "mimetype": "text/x-python",
   "name": "python",
   "nbconvert_exporter": "python",
   "pygments_lexer": "ipython3",
   "version": "3.11.4"
  }
 },
 "nbformat": 4,
 "nbformat_minor": 2
}
