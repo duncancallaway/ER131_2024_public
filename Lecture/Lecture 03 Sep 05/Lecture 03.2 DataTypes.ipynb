{
 "cells": [
  {
   "cell_type": "markdown",
   "metadata": {},
   "source": [
    "# Data Types\n",
    "\n",
    "Duncan Callaway\n",
    "\n",
    "This notebook is a review of variable types.  My objective is to review enough of the basics to get you in a position to understand how a Pandas dataframe works, which is upcoming"
   ]
  },
  {
   "cell_type": "markdown",
   "metadata": {},
   "source": [
    "## Object, method, function?\n",
    "\n",
    "These phrases come up repeatedly in python.  \n",
    "\n",
    "### Q: What are they? \n",
    "\n",
    "Go [here for more](https://www.geeksforgeeks.org/difference-method-function-python/)\n",
    "\n",
    "1. Object: virtually anything with attributes in python.  \n",
    "    1. Objects usually belong to classes and have attributes\n",
    "    1. For example an object might belong to a bike class.  The attributes of the class would be material, wheel size, number of gears, etc.\n",
    "2. Method: A function associated with an object. \n",
    "    a. for example `object.method` applies the method to the object. \n",
    "3. Function: performs an action using some set of input parameters.\n",
    "    b. for example `function(object)` applies the function to the object.\n",
    "    \n",
    "    \n",
    "We'll talk about each of these in class today."
   ]
  },
  {
   "cell_type": "markdown",
   "metadata": {},
   "source": [
    "## Basic data, or variable, types\n",
    "\n",
    "### Q: what are some variable types that get used in Python? \n",
    "\n",
    "1. `string`\n",
    "2. `numbers`\n",
    "    1. `int`\n",
    "    3. `float`\n",
    "4. `bool`"
   ]
  },
  {
   "cell_type": "markdown",
   "metadata": {},
   "source": [
    "**Strings**"
   ]
  },
  {
   "cell_type": "code",
   "execution_count": null,
   "metadata": {},
   "outputs": [],
   "source": [
    "name = 'Imogen'\n",
    "type(name)"
   ]
  },
  {
   "cell_type": "code",
   "execution_count": null,
   "metadata": {},
   "outputs": [],
   "source": [
    "name[2]"
   ]
  },
  {
   "cell_type": "markdown",
   "metadata": {},
   "source": [
    "### Q: In class action: Change the e in Imogen to y.  \n",
    "\n",
    "What you'll find: though we can index their contents, strings are *immutable*, meaning you can't change individual elements.  Instead you need to do a wholesale reassignment."
   ]
  },
  {
   "cell_type": "code",
   "execution_count": null,
   "metadata": {},
   "outputs": [],
   "source": [
    "name[4] = 'y'"
   ]
  },
  {
   "cell_type": "code",
   "execution_count": null,
   "metadata": {},
   "outputs": [],
   "source": [
    "name = name[0:4] + 'y' + name[5]\n",
    "name"
   ]
  },
  {
   "cell_type": "markdown",
   "metadata": {},
   "source": [
    "**Floats**"
   ]
  },
  {
   "cell_type": "code",
   "execution_count": null,
   "metadata": {},
   "outputs": [],
   "source": [
    "x = 0.34\n",
    "type(x)"
   ]
  },
  {
   "cell_type": "markdown",
   "metadata": {},
   "source": [
    "**Int**"
   ]
  },
  {
   "cell_type": "code",
   "execution_count": null,
   "metadata": {},
   "outputs": [],
   "source": [
    "i = 1\n",
    "type(i)"
   ]
  },
  {
   "cell_type": "markdown",
   "metadata": {},
   "source": [
    "**Boolean**"
   ]
  },
  {
   "cell_type": "code",
   "execution_count": null,
   "metadata": {},
   "outputs": [],
   "source": [
    "ans = True\n",
    "type(ans)"
   ]
  },
  {
   "cell_type": "markdown",
   "metadata": {},
   "source": [
    "Note that Python is 'dynamically typed' meaning it assigns a variable a type based on what you set it equal to.\n",
    "\n",
    "You don't need to define the type ahead of time.\n",
    "\n",
    "Note this can cause problems, as you can mistakenly assign variables values that won't play nicely later on."
   ]
  },
  {
   "cell_type": "markdown",
   "metadata": {},
   "source": [
    "## Data structures or \"containers\"\n",
    "\n",
    "### Q: what are some data structures native to Python? \n",
    "\n",
    "1. `dict`\n",
    "2. `list`\n",
    "3. `tuple`\n",
    "4. `set`\n",
    "\n",
    "Let's explore these a little further.  "
   ]
  },
  {
   "cell_type": "markdown",
   "metadata": {},
   "source": [
    "## Lists"
   ]
  },
  {
   "cell_type": "code",
   "execution_count": null,
   "metadata": {},
   "outputs": [],
   "source": [
    "squares = [1, 5, 9, 16, 25] # do this in lecture\n",
    "squares"
   ]
  },
  {
   "cell_type": "markdown",
   "metadata": {},
   "source": [
    "We can index elements with the usual process:"
   ]
  },
  {
   "cell_type": "code",
   "execution_count": null,
   "metadata": {},
   "outputs": [],
   "source": [
    "print(squares[0]) # do this in lecture; zero is the first element\n",
    "print(squares[-1]) # do this in lecture; -1 gives the last\n",
    "print(squares[2:]) # do this in lecture; you can slice..."
   ]
  },
  {
   "cell_type": "markdown",
   "metadata": {},
   "source": [
    "### Q: What does \"mutable\" mean?\n",
    "\n",
    "...that you can change individual entries of the data structure.\n",
    "\n",
    "Lists are mutable:"
   ]
  },
  {
   "cell_type": "code",
   "execution_count": null,
   "metadata": {},
   "outputs": [],
   "source": [
    "squares[1] = 4\n",
    "squares"
   ]
  },
  {
   "cell_type": "markdown",
   "metadata": {},
   "source": [
    "That's better! \n",
    "\n",
    "### Q: In class, append 36 to your list.\n",
    "\n",
    "We can also append:"
   ]
  },
  {
   "cell_type": "code",
   "execution_count": null,
   "metadata": {},
   "outputs": [],
   "source": [
    "squares.append(6**2)\n",
    "squares"
   ]
  },
  {
   "cell_type": "markdown",
   "metadata": {},
   "source": [
    "We can append lists this way too:"
   ]
  },
  {
   "cell_type": "code",
   "execution_count": null,
   "metadata": {},
   "outputs": [],
   "source": [
    "squares = squares + [49]\n",
    "squares"
   ]
  },
  {
   "cell_type": "markdown",
   "metadata": {},
   "source": [
    "Finally, we can nest lists"
   ]
  },
  {
   "cell_type": "code",
   "execution_count": null,
   "metadata": {},
   "outputs": [],
   "source": [
    "x = [1,2,3]\n",
    "y = [4,6]"
   ]
  },
  {
   "cell_type": "code",
   "execution_count": null,
   "metadata": {},
   "outputs": [],
   "source": [
    "A = [x,y]\n",
    "A"
   ]
  },
  {
   "cell_type": "markdown",
   "metadata": {},
   "source": [
    "Note that the number of elements in the two lists within the list did not need to be equal.  \n",
    "\n",
    "Note also that we can also assign different variable types to the nested list:"
   ]
  },
  {
   "cell_type": "code",
   "execution_count": null,
   "metadata": {},
   "outputs": [],
   "source": [
    "a = ['abc', 'def']"
   ]
  },
  {
   "cell_type": "code",
   "execution_count": null,
   "metadata": {},
   "outputs": [],
   "source": [
    "A = [x,a]\n",
    "A"
   ]
  },
  {
   "cell_type": "markdown",
   "metadata": {},
   "source": [
    "### Q: Index the matrix A to get out 'def'\n",
    "\n",
    "It's tough to index these things.\n",
    "\n",
    "Think about how you might get the entry 'def' from the list, by integer indexes."
   ]
  },
  {
   "cell_type": "code",
   "execution_count": null,
   "metadata": {},
   "outputs": [],
   "source": [
    "A[1,1]"
   ]
  },
  {
   "cell_type": "markdown",
   "metadata": {},
   "source": [
    "That didn't work!  (We have to wait for numpy and pandas to be able to do that.)"
   ]
  },
  {
   "cell_type": "code",
   "execution_count": null,
   "metadata": {},
   "outputs": [],
   "source": [
    "A[1][1]"
   ]
  },
  {
   "cell_type": "markdown",
   "metadata": {},
   "source": [
    "Note, pandas data frames are a lot like lists in this way.  You first index which \"sublist\" you want, then you index into elements of that.  Numpy arrays (as we'll see) are much easier to index.  Frankly, the indexing with pandas is pretty annoying, but there are some workarounds that we'll discuss.  "
   ]
  },
  {
   "cell_type": "markdown",
   "metadata": {},
   "source": [
    "## Tuples"
   ]
  },
  {
   "cell_type": "markdown",
   "metadata": {},
   "source": [
    "Tuples are like lists -- they hold multiple elements and you can index them.  "
   ]
  },
  {
   "cell_type": "code",
   "execution_count": null,
   "metadata": {},
   "outputs": [],
   "source": [
    "B = (1,2,3)\n",
    "B"
   ]
  },
  {
   "cell_type": "code",
   "execution_count": null,
   "metadata": {},
   "outputs": [],
   "source": [
    "B[1]"
   ]
  },
  {
   "cell_type": "markdown",
   "metadata": {},
   "source": [
    "### Q: Are tuples mutable? \n",
    "\n",
    "A: nope!"
   ]
  },
  {
   "cell_type": "code",
   "execution_count": null,
   "metadata": {},
   "outputs": [],
   "source": [
    "B[1] = 3"
   ]
  },
  {
   "cell_type": "markdown",
   "metadata": {},
   "source": [
    "Changing and individual element throws an error.\n",
    "\n",
    "So why bother with tuples?\n",
    "1. They are harder to work with, but\n",
    "2. They prevent you from doing things you don't want to, and\n",
    "3. They are more memory-efficient.  "
   ]
  },
  {
   "cell_type": "markdown",
   "metadata": {},
   "source": [
    "## Sets\n",
    "\n",
    "Whereas lists are defined with square brackets, sets use curlies:"
   ]
  },
  {
   "cell_type": "code",
   "execution_count": null,
   "metadata": {},
   "outputs": [],
   "source": [
    "basket = {'apple', 'orange', 'apple', 'pear', 'orange', 'banana'}"
   ]
  },
  {
   "cell_type": "markdown",
   "metadata": {},
   "source": [
    "What happened there? \n",
    "\n",
    "...I wrote orange and apple twice.  Let's look at the set:"
   ]
  },
  {
   "cell_type": "code",
   "execution_count": null,
   "metadata": {},
   "outputs": [],
   "source": [
    "print(basket)"
   ]
  },
  {
   "cell_type": "markdown",
   "metadata": {},
   "source": [
    "Pretty smart -- no duplicates!\n",
    "\n",
    "### Q: What might you do if you have a variable called basket but you don't know what's in it? \n",
    "\n",
    "Now we can query the set for membership:"
   ]
  },
  {
   "cell_type": "code",
   "execution_count": null,
   "metadata": {},
   "outputs": [],
   "source": [
    "'orange' in basket"
   ]
  },
  {
   "cell_type": "code",
   "execution_count": null,
   "metadata": {
    "scrolled": true
   },
   "outputs": [],
   "source": [
    "'kiwi' in basket"
   ]
  },
  {
   "cell_type": "markdown",
   "metadata": {},
   "source": [
    "### Q: Try indexing the list"
   ]
  },
  {
   "cell_type": "code",
   "execution_count": null,
   "metadata": {},
   "outputs": [],
   "source": [
    "basket[1]"
   ]
  },
  {
   "cell_type": "markdown",
   "metadata": {},
   "source": [
    "### Q: Why can't you index a set?\n",
    "Ans: because the *order* or elements in the set is ambiguous, especially when you think about how duplicates get handled.  "
   ]
  },
  {
   "cell_type": "markdown",
   "metadata": {},
   "source": [
    "## Dict\n",
    "\n",
    "Note, pandas data frames are like lists in that there are a number of entries that we can very quickly query.  But there are even more similarities with `dict` data structures.\n",
    "\n",
    "With dicts, we are inching closer to the kind of structure we have in a pandas data frame.  \n",
    "\n",
    "And we get a way to index elements of a set, by associating one value with another."
   ]
  },
  {
   "cell_type": "code",
   "execution_count": null,
   "metadata": {},
   "outputs": [],
   "source": [
    "cars = {'Prius':'Toyota', 'Volt':'Chevy', 'Model 3': 'Tesla'}\n",
    "cars"
   ]
  },
  {
   "cell_type": "markdown",
   "metadata": {},
   "source": [
    "### Q: after typing in your own dict, try indexing it to get information back out."
   ]
  },
  {
   "cell_type": "code",
   "execution_count": null,
   "metadata": {},
   "outputs": [],
   "source": [
    "cars['Prius']"
   ]
  },
  {
   "cell_type": "markdown",
   "metadata": {},
   "source": [
    "In this case \n",
    "1. 'Prius' is the **key** of the dict.\n",
    "2. 'Toyota' is the associated **value**.\n",
    "\n",
    "We can add new entries very easily:"
   ]
  },
  {
   "cell_type": "code",
   "execution_count": null,
   "metadata": {},
   "outputs": [],
   "source": [
    "cars['Leaf'] = 'Nissan'"
   ]
  },
  {
   "cell_type": "code",
   "execution_count": null,
   "metadata": {},
   "outputs": [],
   "source": [
    "cars"
   ]
  },
  {
   "cell_type": "markdown",
   "metadata": {},
   "source": [
    "Important note here:  the dict does not store entries in any particular order -- you rely on the key to pull data out."
   ]
  }
 ],
 "metadata": {
  "kernelspec": {
   "display_name": "Python 3 (ipykernel)",
   "language": "python",
   "name": "python3"
  },
  "language_info": {
   "codemirror_mode": {
    "name": "ipython",
    "version": 3
   },
   "file_extension": ".py",
   "mimetype": "text/x-python",
   "name": "python",
   "nbconvert_exporter": "python",
   "pygments_lexer": "ipython3",
   "version": "3.11.4"
  }
 },
 "nbformat": 4,
 "nbformat_minor": 2
}
