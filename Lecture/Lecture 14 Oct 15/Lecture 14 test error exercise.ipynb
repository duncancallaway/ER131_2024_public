{
 "cells": [
  {
   "cell_type": "markdown",
   "id": "92def73e",
   "metadata": {},
   "source": [
    "## Test error bias exercise\n",
    "Can you explain why the mean value of x in the first case is always lower than the first case?"
   ]
  },
  {
   "cell_type": "code",
   "execution_count": 2,
   "id": "09c65b03",
   "metadata": {},
   "outputs": [],
   "source": [
    "import numpy as np\n",
    "import pandas as pd"
   ]
  },
  {
   "cell_type": "code",
   "execution_count": 51,
   "id": "e33bba1a",
   "metadata": {},
   "outputs": [],
   "source": [
    "N = 1000000\n",
    "s = 10\n",
    "lo = 0\n",
    "hi = 1"
   ]
  },
  {
   "cell_type": "code",
   "execution_count": 52,
   "id": "0960db3e",
   "metadata": {
    "scrolled": true
   },
   "outputs": [
    {
     "name": "stdout",
     "output_type": "stream",
     "text": [
      "mean value x without head-to-head is 0.5000729124084985\n"
     ]
    }
   ],
   "source": [
    "x_means = np.zeros(N)\n",
    "for i in np.arange(N): \n",
    "    x = np.random.uniform(low = lo, high = hi, size = s)\n",
    "    x_means[i] = np.mean(x)\n",
    "print('mean value x without head-to-head is', np.mean(x_means))"
   ]
  },
  {
   "cell_type": "code",
   "execution_count": 53,
   "id": "529006cc",
   "metadata": {},
   "outputs": [
    {
     "name": "stdout",
     "output_type": "stream",
     "text": [
      "mean value x with head-to-head is 0.44842151290757903\n"
     ]
    }
   ],
   "source": [
    "x_means = np.zeros(N)\n",
    "for i in np.arange(N): \n",
    "    x1 = np.random.uniform(low = lo, high = hi, size = s)\n",
    "    x2 = np.random.uniform(low = lo, high = hi, size = s)\n",
    "    x_win = np.min([np.mean(x1),np.mean(x2)])\n",
    "    x_means[i] = np.mean(x_win)\n",
    "print('mean value x with head-to-head is', np.mean(x_means))"
   ]
  }
 ],
 "metadata": {
  "kernelspec": {
   "display_name": "Python 3 (ipykernel)",
   "language": "python",
   "name": "python3"
  },
  "language_info": {
   "codemirror_mode": {
    "name": "ipython",
    "version": 3
   },
   "file_extension": ".py",
   "mimetype": "text/x-python",
   "name": "python",
   "nbconvert_exporter": "python",
   "pygments_lexer": "ipython3",
   "version": "3.11.4"
  }
 },
 "nbformat": 4,
 "nbformat_minor": 5
}
