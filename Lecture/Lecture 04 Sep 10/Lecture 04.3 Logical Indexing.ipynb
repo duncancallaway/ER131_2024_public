{
 "cells": [
  {
   "cell_type": "markdown",
   "metadata": {},
   "source": [
    "# Logical indexing in Pandas\n",
    "Duncan Callaway"
   ]
  },
  {
   "cell_type": "code",
   "execution_count": 1,
   "metadata": {},
   "outputs": [],
   "source": [
    "import pandas as pd"
   ]
  },
  {
   "cell_type": "markdown",
   "metadata": {},
   "source": [
    "### Logical indexing\n",
    "Logical indexing is an extremely powerful way to pull data out of a frame.  \n",
    "For example, with the stacked data frame, let's pull out only wind generation.\n",
    "\n",
    "To get started we're going to work with a different data set.  Same as before, but the values are \"stacked\", as you can see here:"
   ]
  },
  {
   "cell_type": "code",
   "execution_count": 2,
   "metadata": {},
   "outputs": [
    {
     "data": {
      "text/html": [
       "<div>\n",
       "<style scoped>\n",
       "    .dataframe tbody tr th:only-of-type {\n",
       "        vertical-align: middle;\n",
       "    }\n",
       "\n",
       "    .dataframe tbody tr th {\n",
       "        vertical-align: top;\n",
       "    }\n",
       "\n",
       "    .dataframe thead th {\n",
       "        text-align: right;\n",
       "    }\n",
       "</style>\n",
       "<table border=\"1\" class=\"dataframe\">\n",
       "  <thead>\n",
       "    <tr style=\"text-align: right;\">\n",
       "      <th></th>\n",
       "      <th>Source</th>\n",
       "      <th>MWh</th>\n",
       "    </tr>\n",
       "  </thead>\n",
       "  <tbody>\n",
       "    <tr>\n",
       "      <th>2017-08-29 00:00:00</th>\n",
       "      <td>GEOTHERMAL</td>\n",
       "      <td>1181</td>\n",
       "    </tr>\n",
       "    <tr>\n",
       "      <th>2017-08-29 00:00:00</th>\n",
       "      <td>BIOMASS</td>\n",
       "      <td>340</td>\n",
       "    </tr>\n",
       "    <tr>\n",
       "      <th>2017-08-29 00:00:00</th>\n",
       "      <td>BIOGAS</td>\n",
       "      <td>156</td>\n",
       "    </tr>\n",
       "    <tr>\n",
       "      <th>2017-08-29 00:00:00</th>\n",
       "      <td>SMALL HYDRO</td>\n",
       "      <td>324</td>\n",
       "    </tr>\n",
       "    <tr>\n",
       "      <th>2017-08-29 00:00:00</th>\n",
       "      <td>WIND TOTAL</td>\n",
       "      <td>1551</td>\n",
       "    </tr>\n",
       "  </tbody>\n",
       "</table>\n",
       "</div>"
      ],
      "text/plain": [
       "                          Source   MWh\n",
       "2017-08-29 00:00:00   GEOTHERMAL  1181\n",
       "2017-08-29 00:00:00      BIOMASS   340\n",
       "2017-08-29 00:00:00       BIOGAS   156\n",
       "2017-08-29 00:00:00  SMALL HYDRO   324\n",
       "2017-08-29 00:00:00   WIND TOTAL  1551"
      ]
     },
     "execution_count": 2,
     "metadata": {},
     "output_type": "execute_result"
    }
   ],
   "source": [
    "caiso_data_stack = pd.read_csv('CAISO_2017to2018_stack.csv', index_col=0)\n",
    "caiso_data_stack.head()"
   ]
  },
  {
   "cell_type": "markdown",
   "metadata": {},
   "source": [
    "Note that I used the argument `index_col` to tell pandas to use column 1 (its index is 0) as the index."
   ]
  },
  {
   "cell_type": "markdown",
   "metadata": {},
   "source": [
    "First, I'll show you a boolean series based on comparisons to the 'Source' data column:"
   ]
  },
  {
   "cell_type": "code",
   "execution_count": 4,
   "metadata": {},
   "outputs": [
    {
     "data": {
      "text/plain": [
       "2017-08-29 00:00:00    False\n",
       "2017-08-29 00:00:00    False\n",
       "2017-08-29 00:00:00    False\n",
       "2017-08-29 00:00:00    False\n",
       "2017-08-29 00:00:00     True\n",
       "                       ...  \n",
       "2018-08-28 23:00:00    False\n",
       "2018-08-28 23:00:00    False\n",
       "2018-08-28 23:00:00     True\n",
       "2018-08-28 23:00:00    False\n",
       "2018-08-28 23:00:00    False\n",
       "Name: Source, Length: 61320, dtype: bool"
      ]
     },
     "execution_count": 4,
     "metadata": {},
     "output_type": "execute_result"
    }
   ],
   "source": [
    "wind_indx = (caiso_data_stack['Source']=='WIND TOTAL')\n",
    "wind_indx"
   ]
  },
  {
   "cell_type": "markdown",
   "metadata": {},
   "source": [
    "Now we can embed that inside the `.loc` method:"
   ]
  },
  {
   "cell_type": "code",
   "execution_count": 5,
   "metadata": {},
   "outputs": [
    {
     "data": {
      "text/html": [
       "<div>\n",
       "<style scoped>\n",
       "    .dataframe tbody tr th:only-of-type {\n",
       "        vertical-align: middle;\n",
       "    }\n",
       "\n",
       "    .dataframe tbody tr th {\n",
       "        vertical-align: top;\n",
       "    }\n",
       "\n",
       "    .dataframe thead th {\n",
       "        text-align: right;\n",
       "    }\n",
       "</style>\n",
       "<table border=\"1\" class=\"dataframe\">\n",
       "  <thead>\n",
       "    <tr style=\"text-align: right;\">\n",
       "      <th></th>\n",
       "      <th>Source</th>\n",
       "      <th>MWh</th>\n",
       "    </tr>\n",
       "  </thead>\n",
       "  <tbody>\n",
       "    <tr>\n",
       "      <th>2017-08-29 00:00:00</th>\n",
       "      <td>WIND TOTAL</td>\n",
       "      <td>1551</td>\n",
       "    </tr>\n",
       "    <tr>\n",
       "      <th>2017-08-29 01:00:00</th>\n",
       "      <td>WIND TOTAL</td>\n",
       "      <td>1556</td>\n",
       "    </tr>\n",
       "    <tr>\n",
       "      <th>2017-08-29 02:00:00</th>\n",
       "      <td>WIND TOTAL</td>\n",
       "      <td>1325</td>\n",
       "    </tr>\n",
       "    <tr>\n",
       "      <th>2017-08-29 03:00:00</th>\n",
       "      <td>WIND TOTAL</td>\n",
       "      <td>1158</td>\n",
       "    </tr>\n",
       "    <tr>\n",
       "      <th>2017-08-29 04:00:00</th>\n",
       "      <td>WIND TOTAL</td>\n",
       "      <td>1209</td>\n",
       "    </tr>\n",
       "    <tr>\n",
       "      <th>...</th>\n",
       "      <td>...</td>\n",
       "      <td>...</td>\n",
       "    </tr>\n",
       "    <tr>\n",
       "      <th>2018-08-28 19:00:00</th>\n",
       "      <td>WIND TOTAL</td>\n",
       "      <td>3300</td>\n",
       "    </tr>\n",
       "    <tr>\n",
       "      <th>2018-08-28 20:00:00</th>\n",
       "      <td>WIND TOTAL</td>\n",
       "      <td>3468</td>\n",
       "    </tr>\n",
       "    <tr>\n",
       "      <th>2018-08-28 21:00:00</th>\n",
       "      <td>WIND TOTAL</td>\n",
       "      <td>3310</td>\n",
       "    </tr>\n",
       "    <tr>\n",
       "      <th>2018-08-28 22:00:00</th>\n",
       "      <td>WIND TOTAL</td>\n",
       "      <td>3068</td>\n",
       "    </tr>\n",
       "    <tr>\n",
       "      <th>2018-08-28 23:00:00</th>\n",
       "      <td>WIND TOTAL</td>\n",
       "      <td>2921</td>\n",
       "    </tr>\n",
       "  </tbody>\n",
       "</table>\n",
       "<p>8760 rows × 2 columns</p>\n",
       "</div>"
      ],
      "text/plain": [
       "                         Source   MWh\n",
       "2017-08-29 00:00:00  WIND TOTAL  1551\n",
       "2017-08-29 01:00:00  WIND TOTAL  1556\n",
       "2017-08-29 02:00:00  WIND TOTAL  1325\n",
       "2017-08-29 03:00:00  WIND TOTAL  1158\n",
       "2017-08-29 04:00:00  WIND TOTAL  1209\n",
       "...                         ...   ...\n",
       "2018-08-28 19:00:00  WIND TOTAL  3300\n",
       "2018-08-28 20:00:00  WIND TOTAL  3468\n",
       "2018-08-28 21:00:00  WIND TOTAL  3310\n",
       "2018-08-28 22:00:00  WIND TOTAL  3068\n",
       "2018-08-28 23:00:00  WIND TOTAL  2921\n",
       "\n",
       "[8760 rows x 2 columns]"
      ]
     },
     "execution_count": 5,
     "metadata": {},
     "output_type": "execute_result"
    }
   ],
   "source": [
    "caiso_data_stack.loc[wind_indx,:]"
   ]
  },
  {
   "cell_type": "markdown",
   "metadata": {},
   "source": [
    "## Q: What hour in our data has the lowest average hourly wind generation?\n",
    "\n",
    "First let's import numpy"
   ]
  },
  {
   "cell_type": "code",
   "execution_count": 6,
   "metadata": {},
   "outputs": [],
   "source": [
    "import numpy as np"
   ]
  },
  {
   "cell_type": "markdown",
   "metadata": {},
   "source": [
    "Now let's grab just the wind data:"
   ]
  },
  {
   "cell_type": "code",
   "execution_count": 8,
   "metadata": {},
   "outputs": [],
   "source": [
    "wind = caiso_data_stack.loc[caiso_data_stack['Source']=='WIND TOTAL',:]"
   ]
  },
  {
   "cell_type": "markdown",
   "metadata": {},
   "source": [
    "Let's use a for loop to get information by hour. \n",
    "\n",
    "First thing to do is figure out how to get the hour out of the index.\n",
    "\n",
    "[`datetime.strptime`](https://docs.python.org/2/library/datetime.html#strftime-strptime-behavior) is useful for this if you're working on individual dates.\n",
    "\n",
    "But `pd.to_datetime` is even better, especially if you're working on a lot of values in a list (or as the case will be, values in a pandas series)."
   ]
  },
  {
   "cell_type": "code",
   "execution_count": 9,
   "metadata": {},
   "outputs": [
    {
     "data": {
      "text/plain": [
       "Index([ 0,  1,  2,  3,  4,  5,  6,  7,  8,  9,\n",
       "       ...\n",
       "       14, 15, 16, 17, 18, 19, 20, 21, 22, 23],\n",
       "      dtype='int32', length=8760)"
      ]
     },
     "execution_count": 9,
     "metadata": {},
     "output_type": "execute_result"
    }
   ],
   "source": [
    "windex = pd.to_datetime(wind.index)\n",
    "windex.hour"
   ]
  },
  {
   "cell_type": "markdown",
   "metadata": {},
   "source": [
    "Now we'll do the real work.  We're going to average all wind values with the same hour"
   ]
  },
  {
   "cell_type": "code",
   "execution_count": 10,
   "metadata": {},
   "outputs": [
    {
     "data": {
      "text/plain": [
       "[2173.268493150685,\n",
       " 2120.778082191781,\n",
       " 2051.832876712329,\n",
       " 1973.9698630136986,\n",
       " 1881.4630136986302,\n",
       " 1772.4849315068493,\n",
       " 1646.6301369863013,\n",
       " 1490.194520547945,\n",
       " 1363.4027397260274,\n",
       " 1290.5123287671233,\n",
       " 1250.4082191780822,\n",
       " 1247.6438356164383,\n",
       " 1308.2876712328766,\n",
       " 1412.4109589041095,\n",
       " 1561.6027397260275,\n",
       " 1726.6520547945206,\n",
       " 1878.441095890411,\n",
       " 2005.9342465753425,\n",
       " 2109.0931506849315,\n",
       " 2181.3616438356166,\n",
       " 2229.408219178082,\n",
       " 2231.6876712328767,\n",
       " 2220.109589041096,\n",
       " 2216.5260273972603]"
      ]
     },
     "execution_count": 10,
     "metadata": {},
     "output_type": "execute_result"
    }
   ],
   "source": [
    "wind_ave = [] # initalizes a list to populate\n",
    "\n",
    "for i in range(0,24):\n",
    "    hr_bool = windex.hour == i\n",
    "    hr_vals = wind.loc[hr_bool,'MWh']\n",
    "    avgwind = np.mean(hr_vals)\n",
    "    wind_ave.append(avgwind)\n",
    "wind_ave"
   ]
  },
  {
   "cell_type": "code",
   "execution_count": 11,
   "metadata": {},
   "outputs": [],
   "source": [
    "import matplotlib.pyplot as plt"
   ]
  },
  {
   "cell_type": "code",
   "execution_count": 12,
   "metadata": {
    "scrolled": false
   },
   "outputs": [
    {
     "data": {
      "text/plain": [
       "[<matplotlib.lines.Line2D at 0x16072ebd0>]"
      ]
     },
     "execution_count": 12,
     "metadata": {},
     "output_type": "execute_result"
    },
    {
     "data": {
      "image/png": "[encoded data removed]",
      "text/plain": [
       "<Figure size 640x480 with 1 Axes>"
      ]
     },
     "metadata": {},
     "output_type": "display_data"
    }
   ],
   "source": [
    "plt.plot(wind_ave)"
   ]
  },
  {
   "cell_type": "markdown",
   "metadata": {},
   "source": [
    "We can see pretty clearly that the min is 10 or 11...let's dig a little more.\n",
    "\n",
    "One way to do this is to drop the data into a data frame and then *sort* the data frame."
   ]
  },
  {
   "cell_type": "code",
   "execution_count": 13,
   "metadata": {},
   "outputs": [
    {
     "data": {
      "text/html": [
       "<div>\n",
       "<style scoped>\n",
       "    .dataframe tbody tr th:only-of-type {\n",
       "        vertical-align: middle;\n",
       "    }\n",
       "\n",
       "    .dataframe tbody tr th {\n",
       "        vertical-align: top;\n",
       "    }\n",
       "\n",
       "    .dataframe thead th {\n",
       "        text-align: right;\n",
       "    }\n",
       "</style>\n",
       "<table border=\"1\" class=\"dataframe\">\n",
       "  <thead>\n",
       "    <tr style=\"text-align: right;\">\n",
       "      <th></th>\n",
       "      <th>0</th>\n",
       "    </tr>\n",
       "  </thead>\n",
       "  <tbody>\n",
       "    <tr>\n",
       "      <th>0</th>\n",
       "      <td>2173.268493</td>\n",
       "    </tr>\n",
       "    <tr>\n",
       "      <th>1</th>\n",
       "      <td>2120.778082</td>\n",
       "    </tr>\n",
       "    <tr>\n",
       "      <th>2</th>\n",
       "      <td>2051.832877</td>\n",
       "    </tr>\n",
       "    <tr>\n",
       "      <th>3</th>\n",
       "      <td>1973.969863</td>\n",
       "    </tr>\n",
       "    <tr>\n",
       "      <th>4</th>\n",
       "      <td>1881.463014</td>\n",
       "    </tr>\n",
       "    <tr>\n",
       "      <th>5</th>\n",
       "      <td>1772.484932</td>\n",
       "    </tr>\n",
       "    <tr>\n",
       "      <th>6</th>\n",
       "      <td>1646.630137</td>\n",
       "    </tr>\n",
       "    <tr>\n",
       "      <th>7</th>\n",
       "      <td>1490.194521</td>\n",
       "    </tr>\n",
       "    <tr>\n",
       "      <th>8</th>\n",
       "      <td>1363.402740</td>\n",
       "    </tr>\n",
       "    <tr>\n",
       "      <th>9</th>\n",
       "      <td>1290.512329</td>\n",
       "    </tr>\n",
       "    <tr>\n",
       "      <th>10</th>\n",
       "      <td>1250.408219</td>\n",
       "    </tr>\n",
       "    <tr>\n",
       "      <th>11</th>\n",
       "      <td>1247.643836</td>\n",
       "    </tr>\n",
       "    <tr>\n",
       "      <th>12</th>\n",
       "      <td>1308.287671</td>\n",
       "    </tr>\n",
       "    <tr>\n",
       "      <th>13</th>\n",
       "      <td>1412.410959</td>\n",
       "    </tr>\n",
       "    <tr>\n",
       "      <th>14</th>\n",
       "      <td>1561.602740</td>\n",
       "    </tr>\n",
       "    <tr>\n",
       "      <th>15</th>\n",
       "      <td>1726.652055</td>\n",
       "    </tr>\n",
       "    <tr>\n",
       "      <th>16</th>\n",
       "      <td>1878.441096</td>\n",
       "    </tr>\n",
       "    <tr>\n",
       "      <th>17</th>\n",
       "      <td>2005.934247</td>\n",
       "    </tr>\n",
       "    <tr>\n",
       "      <th>18</th>\n",
       "      <td>2109.093151</td>\n",
       "    </tr>\n",
       "    <tr>\n",
       "      <th>19</th>\n",
       "      <td>2181.361644</td>\n",
       "    </tr>\n",
       "    <tr>\n",
       "      <th>20</th>\n",
       "      <td>2229.408219</td>\n",
       "    </tr>\n",
       "    <tr>\n",
       "      <th>21</th>\n",
       "      <td>2231.687671</td>\n",
       "    </tr>\n",
       "    <tr>\n",
       "      <th>22</th>\n",
       "      <td>2220.109589</td>\n",
       "    </tr>\n",
       "    <tr>\n",
       "      <th>23</th>\n",
       "      <td>2216.526027</td>\n",
       "    </tr>\n",
       "  </tbody>\n",
       "</table>\n",
       "</div>"
      ],
      "text/plain": [
       "              0\n",
       "0   2173.268493\n",
       "1   2120.778082\n",
       "2   2051.832877\n",
       "3   1973.969863\n",
       "4   1881.463014\n",
       "5   1772.484932\n",
       "6   1646.630137\n",
       "7   1490.194521\n",
       "8   1363.402740\n",
       "9   1290.512329\n",
       "10  1250.408219\n",
       "11  1247.643836\n",
       "12  1308.287671\n",
       "13  1412.410959\n",
       "14  1561.602740\n",
       "15  1726.652055\n",
       "16  1878.441096\n",
       "17  2005.934247\n",
       "18  2109.093151\n",
       "19  2181.361644\n",
       "20  2229.408219\n",
       "21  2231.687671\n",
       "22  2220.109589\n",
       "23  2216.526027"
      ]
     },
     "execution_count": 13,
     "metadata": {},
     "output_type": "execute_result"
    }
   ],
   "source": [
    "df_wind = pd.DataFrame(wind_ave)\n",
    "df_wind"
   ]
  },
  {
   "cell_type": "markdown",
   "metadata": {},
   "source": [
    "I'm going to be adding more MWh values to the data frame in just a moment, so let's be clear that this is the average"
   ]
  },
  {
   "cell_type": "code",
   "execution_count": 14,
   "metadata": {},
   "outputs": [],
   "source": [
    "df_wind.columns = ['Average MWh']"
   ]
  },
  {
   "cell_type": "code",
   "execution_count": 15,
   "metadata": {},
   "outputs": [
    {
     "data": {
      "text/html": [
       "<div>\n",
       "<style scoped>\n",
       "    .dataframe tbody tr th:only-of-type {\n",
       "        vertical-align: middle;\n",
       "    }\n",
       "\n",
       "    .dataframe tbody tr th {\n",
       "        vertical-align: top;\n",
       "    }\n",
       "\n",
       "    .dataframe thead th {\n",
       "        text-align: right;\n",
       "    }\n",
       "</style>\n",
       "<table border=\"1\" class=\"dataframe\">\n",
       "  <thead>\n",
       "    <tr style=\"text-align: right;\">\n",
       "      <th></th>\n",
       "      <th>Average MWh</th>\n",
       "    </tr>\n",
       "  </thead>\n",
       "  <tbody>\n",
       "    <tr>\n",
       "      <th>11</th>\n",
       "      <td>1247.643836</td>\n",
       "    </tr>\n",
       "    <tr>\n",
       "      <th>10</th>\n",
       "      <td>1250.408219</td>\n",
       "    </tr>\n",
       "    <tr>\n",
       "      <th>9</th>\n",
       "      <td>1290.512329</td>\n",
       "    </tr>\n",
       "    <tr>\n",
       "      <th>12</th>\n",
       "      <td>1308.287671</td>\n",
       "    </tr>\n",
       "    <tr>\n",
       "      <th>8</th>\n",
       "      <td>1363.402740</td>\n",
       "    </tr>\n",
       "  </tbody>\n",
       "</table>\n",
       "</div>"
      ],
      "text/plain": [
       "    Average MWh\n",
       "11  1247.643836\n",
       "10  1250.408219\n",
       "9   1290.512329\n",
       "12  1308.287671\n",
       "8   1363.402740"
      ]
     },
     "execution_count": 15,
     "metadata": {},
     "output_type": "execute_result"
    }
   ],
   "source": [
    "df_wind.sort_values(by='Average MWh',ascending=True).head()"
   ]
  },
  {
   "cell_type": "markdown",
   "metadata": {},
   "source": [
    "Ok -- so it looks as though mid-day is the minimum *average*.  \n",
    "\n",
    "### Extra practice: What's the range of wind values by hour?"
   ]
  },
  {
   "cell_type": "code",
   "execution_count": 16,
   "metadata": {},
   "outputs": [],
   "source": [
    "wind_min = [] # initalizes a list to populate\n",
    "wind_max = [] # initalizes a list to populate\n",
    "for i in range(0,24):\n",
    "    wind_min.append(np.min(wind.loc[windex.hour == i,'MWh']))\n",
    "    wind_max.append(np.max(wind.loc[windex.hour == i,'MWh']))"
   ]
  },
  {
   "cell_type": "code",
   "execution_count": 17,
   "metadata": {},
   "outputs": [
    {
     "data": {
      "text/plain": [
       "[49,\n",
       " 33,\n",
       " 33,\n",
       " 36,\n",
       " 25,\n",
       " 17,\n",
       " 15,\n",
       " 29,\n",
       " 6,\n",
       " 10,\n",
       " 10,\n",
       " 8,\n",
       " 5,\n",
       " 0,\n",
       " 0,\n",
       " 0,\n",
       " 0,\n",
       " 0,\n",
       " 0,\n",
       " 2,\n",
       " 0,\n",
       " 0,\n",
       " 18,\n",
       " 62]"
      ]
     },
     "execution_count": 17,
     "metadata": {},
     "output_type": "execute_result"
    }
   ],
   "source": [
    "wind_min"
   ]
  },
  {
   "cell_type": "code",
   "execution_count": 18,
   "metadata": {},
   "outputs": [],
   "source": [
    "df_wind['min MWh']=pd.DataFrame(wind_min)\n",
    "df_wind['max MWh']=pd.DataFrame(wind_max)"
   ]
  },
  {
   "cell_type": "code",
   "execution_count": 19,
   "metadata": {},
   "outputs": [
    {
     "data": {
      "text/html": [
       "<div>\n",
       "<style scoped>\n",
       "    .dataframe tbody tr th:only-of-type {\n",
       "        vertical-align: middle;\n",
       "    }\n",
       "\n",
       "    .dataframe tbody tr th {\n",
       "        vertical-align: top;\n",
       "    }\n",
       "\n",
       "    .dataframe thead th {\n",
       "        text-align: right;\n",
       "    }\n",
       "</style>\n",
       "<table border=\"1\" class=\"dataframe\">\n",
       "  <thead>\n",
       "    <tr style=\"text-align: right;\">\n",
       "      <th></th>\n",
       "      <th>Average MWh</th>\n",
       "      <th>min MWh</th>\n",
       "      <th>max MWh</th>\n",
       "    </tr>\n",
       "  </thead>\n",
       "  <tbody>\n",
       "    <tr>\n",
       "      <th>0</th>\n",
       "      <td>2173.268493</td>\n",
       "      <td>49</td>\n",
       "      <td>4795</td>\n",
       "    </tr>\n",
       "    <tr>\n",
       "      <th>1</th>\n",
       "      <td>2120.778082</td>\n",
       "      <td>33</td>\n",
       "      <td>4678</td>\n",
       "    </tr>\n",
       "    <tr>\n",
       "      <th>2</th>\n",
       "      <td>2051.832877</td>\n",
       "      <td>33</td>\n",
       "      <td>4696</td>\n",
       "    </tr>\n",
       "    <tr>\n",
       "      <th>3</th>\n",
       "      <td>1973.969863</td>\n",
       "      <td>36</td>\n",
       "      <td>4537</td>\n",
       "    </tr>\n",
       "    <tr>\n",
       "      <th>4</th>\n",
       "      <td>1881.463014</td>\n",
       "      <td>25</td>\n",
       "      <td>4377</td>\n",
       "    </tr>\n",
       "    <tr>\n",
       "      <th>5</th>\n",
       "      <td>1772.484932</td>\n",
       "      <td>17</td>\n",
       "      <td>4223</td>\n",
       "    </tr>\n",
       "    <tr>\n",
       "      <th>6</th>\n",
       "      <td>1646.630137</td>\n",
       "      <td>15</td>\n",
       "      <td>4161</td>\n",
       "    </tr>\n",
       "    <tr>\n",
       "      <th>7</th>\n",
       "      <td>1490.194521</td>\n",
       "      <td>29</td>\n",
       "      <td>3873</td>\n",
       "    </tr>\n",
       "    <tr>\n",
       "      <th>8</th>\n",
       "      <td>1363.402740</td>\n",
       "      <td>6</td>\n",
       "      <td>3905</td>\n",
       "    </tr>\n",
       "    <tr>\n",
       "      <th>9</th>\n",
       "      <td>1290.512329</td>\n",
       "      <td>10</td>\n",
       "      <td>3904</td>\n",
       "    </tr>\n",
       "    <tr>\n",
       "      <th>10</th>\n",
       "      <td>1250.408219</td>\n",
       "      <td>10</td>\n",
       "      <td>4518</td>\n",
       "    </tr>\n",
       "    <tr>\n",
       "      <th>11</th>\n",
       "      <td>1247.643836</td>\n",
       "      <td>8</td>\n",
       "      <td>4611</td>\n",
       "    </tr>\n",
       "    <tr>\n",
       "      <th>12</th>\n",
       "      <td>1308.287671</td>\n",
       "      <td>5</td>\n",
       "      <td>4561</td>\n",
       "    </tr>\n",
       "    <tr>\n",
       "      <th>13</th>\n",
       "      <td>1412.410959</td>\n",
       "      <td>0</td>\n",
       "      <td>4625</td>\n",
       "    </tr>\n",
       "    <tr>\n",
       "      <th>14</th>\n",
       "      <td>1561.602740</td>\n",
       "      <td>0</td>\n",
       "      <td>4876</td>\n",
       "    </tr>\n",
       "    <tr>\n",
       "      <th>15</th>\n",
       "      <td>1726.652055</td>\n",
       "      <td>0</td>\n",
       "      <td>4850</td>\n",
       "    </tr>\n",
       "    <tr>\n",
       "      <th>16</th>\n",
       "      <td>1878.441096</td>\n",
       "      <td>0</td>\n",
       "      <td>5006</td>\n",
       "    </tr>\n",
       "    <tr>\n",
       "      <th>17</th>\n",
       "      <td>2005.934247</td>\n",
       "      <td>0</td>\n",
       "      <td>4898</td>\n",
       "    </tr>\n",
       "    <tr>\n",
       "      <th>18</th>\n",
       "      <td>2109.093151</td>\n",
       "      <td>0</td>\n",
       "      <td>4925</td>\n",
       "    </tr>\n",
       "    <tr>\n",
       "      <th>19</th>\n",
       "      <td>2181.361644</td>\n",
       "      <td>2</td>\n",
       "      <td>4855</td>\n",
       "    </tr>\n",
       "    <tr>\n",
       "      <th>20</th>\n",
       "      <td>2229.408219</td>\n",
       "      <td>0</td>\n",
       "      <td>4953</td>\n",
       "    </tr>\n",
       "    <tr>\n",
       "      <th>21</th>\n",
       "      <td>2231.687671</td>\n",
       "      <td>0</td>\n",
       "      <td>4937</td>\n",
       "    </tr>\n",
       "    <tr>\n",
       "      <th>22</th>\n",
       "      <td>2220.109589</td>\n",
       "      <td>18</td>\n",
       "      <td>4887</td>\n",
       "    </tr>\n",
       "    <tr>\n",
       "      <th>23</th>\n",
       "      <td>2216.526027</td>\n",
       "      <td>62</td>\n",
       "      <td>4949</td>\n",
       "    </tr>\n",
       "  </tbody>\n",
       "</table>\n",
       "</div>"
      ],
      "text/plain": [
       "    Average MWh  min MWh  max MWh\n",
       "0   2173.268493       49     4795\n",
       "1   2120.778082       33     4678\n",
       "2   2051.832877       33     4696\n",
       "3   1973.969863       36     4537\n",
       "4   1881.463014       25     4377\n",
       "5   1772.484932       17     4223\n",
       "6   1646.630137       15     4161\n",
       "7   1490.194521       29     3873\n",
       "8   1363.402740        6     3905\n",
       "9   1290.512329       10     3904\n",
       "10  1250.408219       10     4518\n",
       "11  1247.643836        8     4611\n",
       "12  1308.287671        5     4561\n",
       "13  1412.410959        0     4625\n",
       "14  1561.602740        0     4876\n",
       "15  1726.652055        0     4850\n",
       "16  1878.441096        0     5006\n",
       "17  2005.934247        0     4898\n",
       "18  2109.093151        0     4925\n",
       "19  2181.361644        2     4855\n",
       "20  2229.408219        0     4953\n",
       "21  2231.687671        0     4937\n",
       "22  2220.109589       18     4887\n",
       "23  2216.526027       62     4949"
      ]
     },
     "execution_count": 19,
     "metadata": {},
     "output_type": "execute_result"
    }
   ],
   "source": [
    "df_wind"
   ]
  },
  {
   "cell_type": "code",
   "execution_count": 20,
   "metadata": {},
   "outputs": [
    {
     "data": {
      "text/plain": [
       "[<matplotlib.lines.Line2D at 0x1608e9250>,\n",
       " <matplotlib.lines.Line2D at 0x160a4cfd0>,\n",
       " <matplotlib.lines.Line2D at 0x160a4d2d0>]"
      ]
     },
     "execution_count": 20,
     "metadata": {},
     "output_type": "execute_result"
    },
    {
     "data": {
      "image/png": "[encoded data removed]",
      "text/plain": [
       "<Figure size 640x480 with 1 Axes>"
      ]
     },
     "metadata": {},
     "output_type": "display_data"
    }
   ],
   "source": [
    "plt.plot(df_wind)"
   ]
  }
 ],
 "metadata": {
  "kernelspec": {
   "display_name": "Python 3 (ipykernel)",
   "language": "python",
   "name": "python3"
  },
  "language_info": {
   "codemirror_mode": {
    "name": "ipython",
    "version": 3
   },
   "file_extension": ".py",
   "mimetype": "text/x-python",
   "name": "python",
   "nbconvert_exporter": "python",
   "pygments_lexer": "ipython3",
   "version": "3.11.4"
  }
 },
 "nbformat": 4,
 "nbformat_minor": 2
}
