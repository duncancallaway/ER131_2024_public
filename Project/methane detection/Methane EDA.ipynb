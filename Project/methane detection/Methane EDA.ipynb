{
 "cells": [
  {
   "cell_type": "markdown",
   "metadata": {},
   "source": [
    "# Methane leak detection\n",
    "Methane is the dominant hydrocarbon in natural gas.  When methane leaks into the atmosphere without being burned, it generates significantly more climate damages on a pound for pound basis than CO2.  Although methane is valuable, a surprising amount of it leaks from pipelines, storage facilities, even the pipes in your home; most estimates are that more than 2% of methane leaks into the atmosphere before being burned or used for other purposes.  That means that 25% or more of the climate damages associated with natural gas use come from leaks, rather than from burning the gas and emitting CO2.  \n",
    "\n",
    "Therefore, as you might imagine, preventing so-called \"fugitive emissions\" of methane is therefore an extremely important goal for the climate change mitigation community.  \n",
    "\n",
    "The data presented in this notebook give you a chance to explore the state of the art in terms of oil and gas facility monitoring and modeling for methane.  The data originally come from the study documented in [this](https://eartharxiv.org/repository/view/2935/) paper and downloaded [here](https://dataverse.harvard.edu/dataset.xhtml?persistentId=doi:10.7910/DVN/OX4QOA).  \n",
    "\n",
    "The data set inspired a [follow-on study](https://www.climatechange.ai/papers/neurips2020/20) that won a best paper award at NeurIPS 2020.  The basic gist of the NeurIPS paper is to predict what facilities will have very large leaks and allocate inspection and repair resources on the basis of those predictions.  It's a really nice example of how prediction model output can be used in a nuanced way for good resource allocation decisions."
   ]
  },
  {
   "cell_type": "code",
   "execution_count": 1,
   "metadata": {},
   "outputs": [],
   "source": [
    "import numpy as np\n",
    "import pandas as pd"
   ]
  },
  {
   "cell_type": "code",
   "execution_count": 2,
   "metadata": {},
   "outputs": [],
   "source": [
    "xls = pd.ExcelFile('Wang_FEMPEA_SI_vf.xlsx')\n",
    "df = pd.read_excel(xls, 'Component_Emissions')"
   ]
  },
  {
   "cell_type": "code",
   "execution_count": 3,
   "metadata": {},
   "outputs": [
    {
     "data": {
      "text/html": [
       "<div>\n",
       "<style scoped>\n",
       "    .dataframe tbody tr th:only-of-type {\n",
       "        vertical-align: middle;\n",
       "    }\n",
       "\n",
       "    .dataframe tbody tr th {\n",
       "        vertical-align: top;\n",
       "    }\n",
       "\n",
       "    .dataframe thead th {\n",
       "        text-align: right;\n",
       "    }\n",
       "</style>\n",
       "<table border=\"1\" class=\"dataframe\">\n",
       "  <thead>\n",
       "    <tr style=\"text-align: right;\">\n",
       "      <th></th>\n",
       "      <th>Survey</th>\n",
       "      <th>Operator</th>\n",
       "      <th>Site</th>\n",
       "      <th>Site.Type</th>\n",
       "      <th>Treatment.Group</th>\n",
       "      <th>Vent/Leak</th>\n",
       "      <th>Emitting Component</th>\n",
       "      <th>Tank Relation</th>\n",
       "      <th>Emission (kg/d)</th>\n",
       "    </tr>\n",
       "  </thead>\n",
       "  <tbody>\n",
       "    <tr>\n",
       "      <th>0</th>\n",
       "      <td>Survey 1</td>\n",
       "      <td>L</td>\n",
       "      <td>78</td>\n",
       "      <td>Oil MWPro</td>\n",
       "      <td>Annual</td>\n",
       "      <td>Leak</td>\n",
       "      <td>Valves</td>\n",
       "      <td>No</td>\n",
       "      <td>22.30</td>\n",
       "    </tr>\n",
       "    <tr>\n",
       "      <th>1</th>\n",
       "      <td>Survey 1</td>\n",
       "      <td>L</td>\n",
       "      <td>78</td>\n",
       "      <td>Oil MWPro</td>\n",
       "      <td>Annual</td>\n",
       "      <td>Vent</td>\n",
       "      <td>Open-Ended Line (Tank)</td>\n",
       "      <td>Yes</td>\n",
       "      <td>69.95</td>\n",
       "    </tr>\n",
       "    <tr>\n",
       "      <th>2</th>\n",
       "      <td>Survey 1</td>\n",
       "      <td>L</td>\n",
       "      <td>78</td>\n",
       "      <td>Oil MWPro</td>\n",
       "      <td>Annual</td>\n",
       "      <td>Leak</td>\n",
       "      <td>Pneumatics</td>\n",
       "      <td>No</td>\n",
       "      <td>44.13</td>\n",
       "    </tr>\n",
       "    <tr>\n",
       "      <th>3</th>\n",
       "      <td>Survey 1</td>\n",
       "      <td>L</td>\n",
       "      <td>102</td>\n",
       "      <td>Gas SW</td>\n",
       "      <td>Annual</td>\n",
       "      <td>Vent</td>\n",
       "      <td>Open-Ended Line (Tank)</td>\n",
       "      <td>Yes</td>\n",
       "      <td>69.95</td>\n",
       "    </tr>\n",
       "    <tr>\n",
       "      <th>4</th>\n",
       "      <td>Survey 1</td>\n",
       "      <td>L</td>\n",
       "      <td>102</td>\n",
       "      <td>Gas SW</td>\n",
       "      <td>Annual</td>\n",
       "      <td>Vent</td>\n",
       "      <td>Open-Ended Line (Non-Tank)</td>\n",
       "      <td>No</td>\n",
       "      <td>12.10</td>\n",
       "    </tr>\n",
       "  </tbody>\n",
       "</table>\n",
       "</div>"
      ],
      "text/plain": [
       "     Survey Operator  Site  Site.Type Treatment.Group Vent/Leak  \\\n",
       "0  Survey 1        L    78  Oil MWPro          Annual      Leak   \n",
       "1  Survey 1        L    78  Oil MWPro          Annual      Vent   \n",
       "2  Survey 1        L    78  Oil MWPro          Annual      Leak   \n",
       "3  Survey 1        L   102     Gas SW          Annual      Vent   \n",
       "4  Survey 1        L   102     Gas SW          Annual      Vent   \n",
       "\n",
       "           Emitting Component Tank Relation  Emission (kg/d)  \n",
       "0                      Valves            No            22.30  \n",
       "1      Open-Ended Line (Tank)           Yes            69.95  \n",
       "2                  Pneumatics            No            44.13  \n",
       "3      Open-Ended Line (Tank)           Yes            69.95  \n",
       "4  Open-Ended Line (Non-Tank)            No            12.10  "
      ]
     },
     "execution_count": 3,
     "metadata": {},
     "output_type": "execute_result"
    }
   ],
   "source": [
    "df.head()"
   ]
  },
  {
   "cell_type": "markdown",
   "metadata": {},
   "source": [
    "Survey 1 is the first visit made to any facility in the data set -- let's focus on that first, since facilities may have responded to their prior inspections."
   ]
  },
  {
   "cell_type": "code",
   "execution_count": 4,
   "metadata": {},
   "outputs": [],
   "source": [
    "df_s1 = df.loc[df.loc[:,'Survey']=='Survey 1',:]"
   ]
  },
  {
   "cell_type": "markdown",
   "metadata": {},
   "source": [
    "Let's see what type of emissions are uncovered in the first visits:"
   ]
  },
  {
   "cell_type": "code",
   "execution_count": 5,
   "metadata": {},
   "outputs": [
    {
     "data": {
      "text/html": [
       "<div>\n",
       "<style scoped>\n",
       "    .dataframe tbody tr th:only-of-type {\n",
       "        vertical-align: middle;\n",
       "    }\n",
       "\n",
       "    .dataframe tbody tr th {\n",
       "        vertical-align: top;\n",
       "    }\n",
       "\n",
       "    .dataframe thead th {\n",
       "        text-align: right;\n",
       "    }\n",
       "</style>\n",
       "<table border=\"1\" class=\"dataframe\">\n",
       "  <thead>\n",
       "    <tr style=\"text-align: right;\">\n",
       "      <th></th>\n",
       "      <th>Survey</th>\n",
       "      <th>Operator</th>\n",
       "      <th>Site</th>\n",
       "      <th>Site.Type</th>\n",
       "      <th>Treatment.Group</th>\n",
       "      <th>Vent/Leak</th>\n",
       "      <th>Emitting Component</th>\n",
       "      <th>Tank Relation</th>\n",
       "      <th>Emission (kg/d)</th>\n",
       "    </tr>\n",
       "  </thead>\n",
       "  <tbody>\n",
       "    <tr>\n",
       "      <th>296</th>\n",
       "      <td>Survey 1</td>\n",
       "      <td>F</td>\n",
       "      <td>105</td>\n",
       "      <td>Oil SW</td>\n",
       "      <td>Annual</td>\n",
       "      <td>Vent</td>\n",
       "      <td>Open-Ended Line (Tank)</td>\n",
       "      <td>Yes</td>\n",
       "      <td>2532.85</td>\n",
       "    </tr>\n",
       "    <tr>\n",
       "      <th>655</th>\n",
       "      <td>Survey 1</td>\n",
       "      <td>P</td>\n",
       "      <td>89</td>\n",
       "      <td>Oil MW</td>\n",
       "      <td>Bi-Annual</td>\n",
       "      <td>Leak</td>\n",
       "      <td>Flange/Connector</td>\n",
       "      <td>No</td>\n",
       "      <td>1701.17</td>\n",
       "    </tr>\n",
       "    <tr>\n",
       "      <th>31</th>\n",
       "      <td>Survey 1</td>\n",
       "      <td>L</td>\n",
       "      <td>141</td>\n",
       "      <td>Gas SW</td>\n",
       "      <td>Bi-Annual</td>\n",
       "      <td>Vent</td>\n",
       "      <td>Open-Ended Line (Tank)</td>\n",
       "      <td>Yes</td>\n",
       "      <td>1529.54</td>\n",
       "    </tr>\n",
       "    <tr>\n",
       "      <th>166</th>\n",
       "      <td>Survey 1</td>\n",
       "      <td>L</td>\n",
       "      <td>98</td>\n",
       "      <td>Gas MW</td>\n",
       "      <td>Bi-Annual</td>\n",
       "      <td>Vent</td>\n",
       "      <td>Pneumatics</td>\n",
       "      <td>No</td>\n",
       "      <td>1526.89</td>\n",
       "    </tr>\n",
       "    <tr>\n",
       "      <th>439</th>\n",
       "      <td>Survey 1</td>\n",
       "      <td>D</td>\n",
       "      <td>163</td>\n",
       "      <td>Oil SW</td>\n",
       "      <td>Tri-Annual</td>\n",
       "      <td>Vent</td>\n",
       "      <td>Open-Ended Line (Tank)</td>\n",
       "      <td>Yes</td>\n",
       "      <td>1247.52</td>\n",
       "    </tr>\n",
       "  </tbody>\n",
       "</table>\n",
       "</div>"
      ],
      "text/plain": [
       "       Survey Operator  Site Site.Type Treatment.Group Vent/Leak  \\\n",
       "296  Survey 1        F   105    Oil SW          Annual      Vent   \n",
       "655  Survey 1        P    89    Oil MW       Bi-Annual      Leak   \n",
       "31   Survey 1        L   141    Gas SW       Bi-Annual      Vent   \n",
       "166  Survey 1        L    98    Gas MW       Bi-Annual      Vent   \n",
       "439  Survey 1        D   163    Oil SW      Tri-Annual      Vent   \n",
       "\n",
       "         Emitting Component Tank Relation  Emission (kg/d)  \n",
       "296  Open-Ended Line (Tank)           Yes          2532.85  \n",
       "655        Flange/Connector            No          1701.17  \n",
       "31   Open-Ended Line (Tank)           Yes          1529.54  \n",
       "166              Pneumatics            No          1526.89  \n",
       "439  Open-Ended Line (Tank)           Yes          1247.52  "
      ]
     },
     "execution_count": 5,
     "metadata": {},
     "output_type": "execute_result"
    }
   ],
   "source": [
    "df_s1_sort = df_s1.sort_values(by='Emission (kg/d)',ascending=False)\n",
    "df_s1_sort.head()"
   ]
  },
  {
   "cell_type": "markdown",
   "metadata": {},
   "source": [
    "With a global warming potential on the order of 30 (1 ton of methane does the same damage as 30 tons of carbon dioxide), the top emitter is emitting the equivalent of $2532\\cdot 30 \\approx 7600$ kg of CO2, or 34 metric tonnes per day.  That's more than most American households emit in a year.\n",
    "\n",
    "The total emissions revealed in survey 1 is:"
   ]
  },
  {
   "cell_type": "code",
   "execution_count": 9,
   "metadata": {},
   "outputs": [
    {
     "name": "stdout",
     "output_type": "stream",
     "text": [
      "690.4324090909092 metric tonnes of CO2 equivalent emissions\n"
     ]
    }
   ],
   "source": [
    "print(np.sum(df_s1_sort['Emission (kg/d)'])*30/2200,'metric tonnes of CO2 equivalent emissions')"
   ]
  },
  {
   "cell_type": "markdown",
   "metadata": {},
   "source": [
    "# Next steps\n",
    "Example prediction exercises:\n",
    "* Construct a prediction model that identifies facilities with the largest leaks, or even the size of the leak, based on site information that can be gathered without measuring leaks.  The operator type and site type are two obvious options here. \n",
    "* Construct a prediction model that classifies the type of leak (from the `Emitting Component` field) based on all other measurements, including emissions.  The application of the model in this case would be as follows: New technologies enable measuring the size of leaks with computer vision, but they may not find the source of the leak.  A machine learning model could help narrow down the set of options for where to look for the leak.\n",
    "\n",
    "Note, if you're interested in working with these data, we've been promised by the study authors that an updated dataset will be available soon.  We can't promise it will be available for your project!\n",
    "\n",
    "One more thing to consider as you contemplate working with these data for your project: One of your jobs will be to eventually merge data sets together to expand what you study, learn and model.  However in the case of this data set, the facilities are anonymized.  This limits the scope of what you might be able to merge with this data set.  You will likely need to use this one as a \"warm up\" data set, and then move on to other options.  The International Energy Agency has a [terrific set of resources](https://www.iea.org/articles/methane-tracker-data-explorer) for methane leak data that you may be able to use as a next step.  "
   ]
  }
 ],
 "metadata": {
  "kernelspec": {
   "display_name": "Python 3",
   "language": "python",
   "name": "python3"
  },
  "language_info": {
   "codemirror_mode": {
    "name": "ipython",
    "version": 3
   },
   "file_extension": ".py",
   "mimetype": "text/x-python",
   "name": "python",
   "nbconvert_exporter": "python",
   "pygments_lexer": "ipython3",
   "version": "3.8.3"
  }
 },
 "nbformat": 4,
 "nbformat_minor": 4
}
