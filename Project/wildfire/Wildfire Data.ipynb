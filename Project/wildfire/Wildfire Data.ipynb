{
 "cells": [
  {
   "cell_type": "markdown",
   "metadata": {},
   "source": [
    "# Overview\n",
    "A feeder is bundle of high capacity electrical wires leaving an electricity substation.  PG\\&E has about 3,000 feeders, and each one typically serves a few hundred to a few thousand electricity customers.  In much of PG\\&E, feeders are supported by wooden poles, though underground feeders are becoming more common.  \n",
    "\n",
    "This data set organizes information for each feeder in PG\\&E, and it's a subset of the data used in [this](https://iopscience.iop.org/article/10.1088/1748-9326/ac8d18/meta) paper.  You can think of each row in the dataset we're about to load in as a \"day in the life of a feeder\".  That is, each row represents data that were true for the feeder on that day.  Some things don't change (feeder length, voltage level).  But other things do -- like whether or not an ignition ocurred on that day, or the day's maximum wind speed. \n",
    "\n",
    "Let's take a quick look at the data."
   ]
  },
  {
   "cell_type": "code",
   "execution_count": 1,
   "metadata": {},
   "outputs": [],
   "source": [
    "import pandas as pd\n",
    "import numpy as np"
   ]
  },
  {
   "cell_type": "code",
   "execution_count": 2,
   "metadata": {},
   "outputs": [
    {
     "data": {
      "text/html": [
       "<div>\n",
       "<style scoped>\n",
       "    .dataframe tbody tr th:only-of-type {\n",
       "        vertical-align: middle;\n",
       "    }\n",
       "\n",
       "    .dataframe tbody tr th {\n",
       "        vertical-align: top;\n",
       "    }\n",
       "\n",
       "    .dataframe thead th {\n",
       "        text-align: right;\n",
       "    }\n",
       "</style>\n",
       "<table border=\"1\" class=\"dataframe\">\n",
       "  <thead>\n",
       "    <tr style=\"text-align: right;\">\n",
       "      <th></th>\n",
       "      <th>FeederID</th>\n",
       "      <th>VOLTNUM</th>\n",
       "      <th>Total Miles</th>\n",
       "      <th>Average Transformers Age</th>\n",
       "      <th>Average Support Structure Age</th>\n",
       "      <th>ERC Max</th>\n",
       "      <th>GridMET WS Max</th>\n",
       "      <th>Wire Down</th>\n",
       "      <th>Ignitions</th>\n",
       "      <th>Historical Ignition Count</th>\n",
       "      <th>Hist WD Count</th>\n",
       "    </tr>\n",
       "    <tr>\n",
       "      <th>Time Period</th>\n",
       "      <th></th>\n",
       "      <th></th>\n",
       "      <th></th>\n",
       "      <th></th>\n",
       "      <th></th>\n",
       "      <th></th>\n",
       "      <th></th>\n",
       "      <th></th>\n",
       "      <th></th>\n",
       "      <th></th>\n",
       "      <th></th>\n",
       "    </tr>\n",
       "  </thead>\n",
       "  <tbody>\n",
       "    <tr>\n",
       "      <th>2018-01-01</th>\n",
       "      <td>252951104</td>\n",
       "      <td>12.0</td>\n",
       "      <td>14.44</td>\n",
       "      <td>20.670214</td>\n",
       "      <td>42.483765</td>\n",
       "      <td>68.0</td>\n",
       "      <td>0.9</td>\n",
       "      <td>0</td>\n",
       "      <td>0</td>\n",
       "      <td>0.0</td>\n",
       "      <td>0.0</td>\n",
       "    </tr>\n",
       "    <tr>\n",
       "      <th>2018-01-01</th>\n",
       "      <td>103201101</td>\n",
       "      <td>12.0</td>\n",
       "      <td>48.53</td>\n",
       "      <td>27.914755</td>\n",
       "      <td>41.002144</td>\n",
       "      <td>60.0</td>\n",
       "      <td>2.2</td>\n",
       "      <td>0</td>\n",
       "      <td>0</td>\n",
       "      <td>0.0</td>\n",
       "      <td>13.0</td>\n",
       "    </tr>\n",
       "    <tr>\n",
       "      <th>2018-01-01</th>\n",
       "      <td>253911104</td>\n",
       "      <td>12.0</td>\n",
       "      <td>52.63</td>\n",
       "      <td>24.575630</td>\n",
       "      <td>49.305794</td>\n",
       "      <td>86.0</td>\n",
       "      <td>1.8</td>\n",
       "      <td>0</td>\n",
       "      <td>0</td>\n",
       "      <td>3.0</td>\n",
       "      <td>3.0</td>\n",
       "    </tr>\n",
       "    <tr>\n",
       "      <th>2018-01-01</th>\n",
       "      <td>82021102</td>\n",
       "      <td>12.0</td>\n",
       "      <td>6.09</td>\n",
       "      <td>21.706293</td>\n",
       "      <td>41.477966</td>\n",
       "      <td>41.0</td>\n",
       "      <td>1.8</td>\n",
       "      <td>0</td>\n",
       "      <td>0</td>\n",
       "      <td>0.0</td>\n",
       "      <td>2.0</td>\n",
       "    </tr>\n",
       "    <tr>\n",
       "      <th>2018-01-01</th>\n",
       "      <td>152571104</td>\n",
       "      <td>12.0</td>\n",
       "      <td>11.62</td>\n",
       "      <td>23.358622</td>\n",
       "      <td>46.346940</td>\n",
       "      <td>37.0</td>\n",
       "      <td>1.5</td>\n",
       "      <td>0</td>\n",
       "      <td>0</td>\n",
       "      <td>0.0</td>\n",
       "      <td>3.0</td>\n",
       "    </tr>\n",
       "  </tbody>\n",
       "</table>\n",
       "</div>"
      ],
      "text/plain": [
       "              FeederID  VOLTNUM  Total Miles  Average Transformers Age  \\\n",
       "Time Period                                                              \n",
       "2018-01-01   252951104     12.0        14.44                 20.670214   \n",
       "2018-01-01   103201101     12.0        48.53                 27.914755   \n",
       "2018-01-01   253911104     12.0        52.63                 24.575630   \n",
       "2018-01-01    82021102     12.0         6.09                 21.706293   \n",
       "2018-01-01   152571104     12.0        11.62                 23.358622   \n",
       "\n",
       "             Average Support Structure Age  ERC Max  GridMET WS Max  \\\n",
       "Time Period                                                           \n",
       "2018-01-01                       42.483765     68.0             0.9   \n",
       "2018-01-01                       41.002144     60.0             2.2   \n",
       "2018-01-01                       49.305794     86.0             1.8   \n",
       "2018-01-01                       41.477966     41.0             1.8   \n",
       "2018-01-01                       46.346940     37.0             1.5   \n",
       "\n",
       "             Wire Down  Ignitions  Historical Ignition Count  Hist WD Count  \n",
       "Time Period                                                                  \n",
       "2018-01-01           0          0                        0.0            0.0  \n",
       "2018-01-01           0          0                        0.0           13.0  \n",
       "2018-01-01           0          0                        3.0            3.0  \n",
       "2018-01-01           0          0                        0.0            2.0  \n",
       "2018-01-01           0          0                        0.0            3.0  "
      ]
     },
     "execution_count": 2,
     "metadata": {},
     "output_type": "execute_result"
    }
   ],
   "source": [
    "wildfire_df = pd.read_csv('feeder_daily_small.csv',index_col=0)\n",
    "wildfire_df.head()"
   ]
  },
  {
   "cell_type": "code",
   "execution_count": 3,
   "metadata": {},
   "outputs": [
    {
     "data": {
      "text/plain": [
       "(1081130, 11)"
      ]
     },
     "execution_count": 3,
     "metadata": {},
     "output_type": "execute_result"
    }
   ],
   "source": [
    "wildfire_df.shape"
   ]
  },
  {
   "cell_type": "markdown",
   "metadata": {},
   "source": [
    "Let's go through these headers one at a time.\n",
    "\n",
    "* Time Period: This is the day of the record.  \n",
    "* FeederID: This is a unique value for each feeder.  You can figure out how many feeders are in the data set using the `.unique` method.  See below.\n",
    "* VOLTNUM: This is the rated voltage of the feeder, in kilovolts.  There are four voltages in PG\\&E's system.  See below.\n",
    "* Average Transformers Age: This field refers to the age (in years) of so-called \"secondary transformers.\"  These are the cylindrical \"cans\" you see mounted to poles near buildings.  They convert feeder-level voltages (in kilovolts, as above) to voltages we can safely use in our buildings (e.g. 120V, 208V, 240V).  To construct this field, we aggregated together all transformers that belong to a given feeder and calculated their age.  The age changes (ever so slightly) every day.\n",
    "* Average Support Structure Age: To construct this field, we aggregated together all poles that belong to a given feeder and calculated their age (in years).  The age changes (ever so slightly) every day.\n",
    "* ERC Max: This is the maximum energy release component of the vegetation surrounding the feeder for the day in question.  It is measured in BTU per square foot, and is derived from daily satellite and weather ovbservations and an element of the GridMET data set from UC Merced.\n",
    "* GridMET WS Max: This is the maximum daily wind speed, in meters per second, taken from GridMET.\n",
    "* Wire down: If PG\\&E reported that a feeder wire contacted the ground on a given day, this column reports a 1.  Otherwise it is 0.  \n",
    "* Ignitions: If PG\\&E reported that an ignition ocurred on a feeder on a given day, this column reports a 1.  Otherwise it is 0. \n",
    "* Historical Ignition Count: This is a tally of all ignitions that ocurred on this feeder on days leading up to the day in question.\n",
    "* Historical WD Count: This is a tally of all wire down events that ocurred on this feeder on days leading up to the day in question."
   ]
  },
  {
   "cell_type": "markdown",
   "metadata": {},
   "source": [
    "There are 2097 unique feeders:"
   ]
  },
  {
   "cell_type": "code",
   "execution_count": 4,
   "metadata": {},
   "outputs": [
    {
     "data": {
      "text/plain": [
       "(2096,)"
      ]
     },
     "execution_count": 4,
     "metadata": {},
     "output_type": "execute_result"
    }
   ],
   "source": [
    "wildfire_df.FeederID.unique().shape"
   ]
  },
  {
   "cell_type": "markdown",
   "metadata": {},
   "source": [
    "There are four voltage levels for the feeders"
   ]
  },
  {
   "cell_type": "code",
   "execution_count": 5,
   "metadata": {},
   "outputs": [
    {
     "data": {
      "text/plain": [
       "array([12.  , 21.  , 17.  ,  4.16])"
      ]
     },
     "execution_count": 5,
     "metadata": {},
     "output_type": "execute_result"
    }
   ],
   "source": [
    "wildfire_df.VOLTNUM.unique()"
   ]
  },
  {
   "cell_type": "markdown",
   "metadata": {},
   "source": [
    "There are 621 ignitions in the dataset:"
   ]
  },
  {
   "cell_type": "code",
   "execution_count": 6,
   "metadata": {},
   "outputs": [
    {
     "data": {
      "text/plain": [
       "621"
      ]
     },
     "execution_count": 6,
     "metadata": {},
     "output_type": "execute_result"
    }
   ],
   "source": [
    "np.sum(wildfire_df.Ignitions)"
   ]
  },
  {
   "cell_type": "markdown",
   "metadata": {},
   "source": [
    "There are about 4,700 wire down records."
   ]
  },
  {
   "cell_type": "code",
   "execution_count": 7,
   "metadata": {},
   "outputs": [
    {
     "data": {
      "text/plain": [
       "4726"
      ]
     },
     "execution_count": 7,
     "metadata": {},
     "output_type": "execute_result"
    }
   ],
   "source": [
    "np.sum(wildfire_df['Wire Down'])"
   ]
  },
  {
   "cell_type": "markdown",
   "metadata": {},
   "source": [
    "# Things you could do with these data:\n",
    "I'll give you a few examples:\n",
    "\n",
    "1. The data lend themselves cleanly to a 'classification' problem.  Specifically, you could build models that classify feeders into two groups: those that are likely to experience an ignition on a given day, and those that are not.  We'll be learning lots of tools in the course to support that type of modeling.\n",
    "2. You could also merge data on public safety power shutoffs (PSPS) to try to predict PSPS durations based on feeder characteristics.  This would be a regression problem. We'll learn lots of tools in the course for those, too.  \n",
    "3. If we decide where to cut off power using risk measures from a predictive model built with these data, what types of communities are most likely to be impacted by the cut offs?  You could use spatial information on where feeders are located along with census data for this analysis.  \n",
    "\n",
    "But you should think for yourselves.  If you're interested in the grid, wildfire, and public safety, this would be a really fun area to learn more about to come up with your own questions.\n",
    "\n",
    "Note also that I have data sets that cover more time (back to 2015) and with many more features. These are too big to keep on github, but they are available to you if you wish.  I do not think datahub would easily accommodate the file sizes, but one of our connector assistants could potentially help you find workarounds.\n",
    "\n",
    "Finally, these data can be merged with other geospatial information if you wish.  We can get you centroids of each feeder, or even shapefiles that describe the entire geographic scope of each feeder. "
   ]
  }
 ],
 "metadata": {
  "kernelspec": {
   "display_name": "Python 3",
   "language": "python",
   "name": "python3"
  },
  "language_info": {
   "codemirror_mode": {
    "name": "ipython",
    "version": 3
   },
   "file_extension": ".py",
   "mimetype": "text/x-python",
   "name": "python",
   "nbconvert_exporter": "python",
   "pygments_lexer": "ipython3",
   "version": "3.8.3"
  }
 },
 "nbformat": 4,
 "nbformat_minor": 4
}
