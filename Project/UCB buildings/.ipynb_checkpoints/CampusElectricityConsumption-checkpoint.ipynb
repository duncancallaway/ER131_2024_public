{
 "cells": [
  {
   "cell_type": "markdown",
   "metadata": {},
   "source": [
    "# Campus electricity consumption data\n",
    "We've managed to get our hands on electricity consumption data for all (or nearly all) buildings on the UC Berkeley campus.  Here are some possible prediction / resource allocation questions to pique your interest:\n",
    "* UC Berkeley is contemplating installing a large quantity of energy storage that would enable us to ride through electricity outages.  Making decisions about storage charging / discharging will require forecasts of electricity consumption that run out a few days.  \n",
    "* One way to identify buildings that have problems in their energy consumption is to compare their actual consumption against \"predictions\" made with a model trained using data that's a few weeks, months or years old.  If the prediction and the actual measurement differ by a significant amount, a building technician could begin looking for problems.\n",
    "* How well did our campus buildings \"turn down\" during COVID lockdowns?  One could use a prediction model trained with pre-COVID data to construct a \"counterfactual\" electricity demand profile -- what we would have expected building electricity consumption to be if we hadn't actually locked down -- and compare that to actual consumption.\n",
    "\n",
    "Let's do a quick dip of our toes into the waters of these data:"
   ]
  },
  {
   "cell_type": "code",
   "execution_count": 2,
   "metadata": {},
   "outputs": [],
   "source": [
    "import pandas as pd\n",
    "import numpy as np\n",
    "import matplotlib.pyplot as plt\n",
    "pd.set_option('display.max_columns', 500) # this ensures I can see all the data in a wide dataframe"
   ]
  },
  {
   "cell_type": "code",
   "execution_count": 3,
   "metadata": {},
   "outputs": [],
   "source": [
    "etch_df = pd.read_excel('Etcheverry Hall_480V Elec_2 Years.xlsx')\n",
    "giannini_df = pd.read_excel('Giannini Hall Electric.xlsx')\n",
    "SDH_df = pd.read_excel('Sutardja Dai Hall MSA Electric.xlsx')"
   ]
  },
  {
   "cell_type": "markdown",
   "metadata": {},
   "source": [
    "Unfortunately the naming for columns containing electricity delivered to each building varies slightly from one building to the next. I'm going to just assign them to variable names so I don't get confused:"
   ]
  },
  {
   "cell_type": "code",
   "execution_count": 4,
   "metadata": {},
   "outputs": [],
   "source": [
    "giannini_kWCol = 'kW Demand (kW)'\n",
    "SDH_kWCol = 'kW total (kW)'\n",
    "etch_kWCol = ' 3-Ph total (kW)'\n",
    "giannini_TimeCol = 'time (US/Pacific)'\n",
    "SDH_TimeCol = 'time (US/Pacific)'\n",
    "etch_TimeCol = 'time (US/Pacific)'"
   ]
  },
  {
   "cell_type": "markdown",
   "metadata": {},
   "source": [
    "Note that I'm going to grab `kW` values.  This is electrical power, not energy.  To compute energy one would need to multiply the electrical power by the duration of the measurement.  More on that in just a moment"
   ]
  },
  {
   "cell_type": "markdown",
   "metadata": {},
   "source": [
    "Now I'll create some smaller data frames with just time and power demand for each interval"
   ]
  },
  {
   "cell_type": "code",
   "execution_count": 5,
   "metadata": {},
   "outputs": [],
   "source": [
    "giannini_df[giannini_TimeCol] = pd.to_datetime(giannini_df[giannini_TimeCol])\n",
    "giannini_kW_df = giannini_df[[giannini_TimeCol,giannini_kWCol]]\n",
    "giannini_kW_df.columns = ['time', 'giannini kW']"
   ]
  },
  {
   "cell_type": "code",
   "execution_count": 6,
   "metadata": {},
   "outputs": [],
   "source": [
    "etch_df[etch_TimeCol] = pd.to_datetime(etch_df[etch_TimeCol])\n",
    "etch_kW_df = etch_df[[etch_TimeCol,etch_kWCol]]\n",
    "etch_kW_df.columns = ['time', 'etch kW']\n",
    "\n",
    "SDH_df[SDH_TimeCol] = pd.to_datetime(SDH_df[SDH_TimeCol])\n",
    "SDH_kW_df = SDH_df[[SDH_TimeCol,SDH_kWCol]]\n",
    "SDH_kW_df.columns = ['time', 'SDH kW']"
   ]
  },
  {
   "cell_type": "markdown",
   "metadata": {},
   "source": [
    "And now I'll merge everything together:"
   ]
  },
  {
   "cell_type": "code",
   "execution_count": 7,
   "metadata": {},
   "outputs": [
    {
     "data": {
      "text/html": [
       "<div>\n",
       "<style scoped>\n",
       "    .dataframe tbody tr th:only-of-type {\n",
       "        vertical-align: middle;\n",
       "    }\n",
       "\n",
       "    .dataframe tbody tr th {\n",
       "        vertical-align: top;\n",
       "    }\n",
       "\n",
       "    .dataframe thead th {\n",
       "        text-align: right;\n",
       "    }\n",
       "</style>\n",
       "<table border=\"1\" class=\"dataframe\">\n",
       "  <thead>\n",
       "    <tr style=\"text-align: right;\">\n",
       "      <th></th>\n",
       "      <th>giannini kW</th>\n",
       "      <th>etch kW</th>\n",
       "      <th>SDH kW</th>\n",
       "    </tr>\n",
       "  </thead>\n",
       "  <tbody>\n",
       "    <tr>\n",
       "      <th>count</th>\n",
       "      <td>54838.000000</td>\n",
       "      <td>54838.000000</td>\n",
       "      <td>54837.000000</td>\n",
       "    </tr>\n",
       "    <tr>\n",
       "      <th>mean</th>\n",
       "      <td>20.668750</td>\n",
       "      <td>175.379486</td>\n",
       "      <td>605.896694</td>\n",
       "    </tr>\n",
       "    <tr>\n",
       "      <th>std</th>\n",
       "      <td>9.651213</td>\n",
       "      <td>9.723078</td>\n",
       "      <td>37.419955</td>\n",
       "    </tr>\n",
       "    <tr>\n",
       "      <th>min</th>\n",
       "      <td>7.200000</td>\n",
       "      <td>147.000000</td>\n",
       "      <td>361.000000</td>\n",
       "    </tr>\n",
       "    <tr>\n",
       "      <th>25%</th>\n",
       "      <td>13.530000</td>\n",
       "      <td>167.970000</td>\n",
       "      <td>583.000000</td>\n",
       "    </tr>\n",
       "    <tr>\n",
       "      <th>50%</th>\n",
       "      <td>16.270000</td>\n",
       "      <td>172.305000</td>\n",
       "      <td>600.000000</td>\n",
       "    </tr>\n",
       "    <tr>\n",
       "      <th>75%</th>\n",
       "      <td>26.490000</td>\n",
       "      <td>182.033000</td>\n",
       "      <td>622.000000</td>\n",
       "    </tr>\n",
       "    <tr>\n",
       "      <th>max</th>\n",
       "      <td>56.300000</td>\n",
       "      <td>224.693000</td>\n",
       "      <td>866.000000</td>\n",
       "    </tr>\n",
       "  </tbody>\n",
       "</table>\n",
       "</div>"
      ],
      "text/plain": [
       "        giannini kW       etch kW        SDH kW\n",
       "count  54838.000000  54838.000000  54837.000000\n",
       "mean      20.668750    175.379486    605.896694\n",
       "std        9.651213      9.723078     37.419955\n",
       "min        7.200000    147.000000    361.000000\n",
       "25%       13.530000    167.970000    583.000000\n",
       "50%       16.270000    172.305000    600.000000\n",
       "75%       26.490000    182.033000    622.000000\n",
       "max       56.300000    224.693000    866.000000"
      ]
     },
     "execution_count": 7,
     "metadata": {},
     "output_type": "execute_result"
    }
   ],
   "source": [
    "# perform the merge:\n",
    "all_kW_df = pd.merge(giannini_kW_df,etch_kW_df,on = 'time')\n",
    "all_kW_df = all_kW_df.merge(SDH_kW_df, on = 'time')\n",
    "\n",
    "# set the index as time and drop the old time column:\n",
    "all_kW_df.index = all_kW_df['time']\n",
    "all_kW_df.drop(['time'], axis = 1, inplace=True)\n",
    "\n",
    "all_kW_df.describe()"
   ]
  },
  {
   "cell_type": "markdown",
   "metadata": {},
   "source": [
    "Before moving on, let's see how far apart in time the measurements are:"
   ]
  },
  {
   "cell_type": "code",
   "execution_count": 8,
   "metadata": {},
   "outputs": [
    {
     "data": {
      "text/plain": [
       "TimedeltaIndex(['00:15:00', '00:30:00', '01:15:00', '00:45:00', '00:00:00'], dtype='timedelta64[ns]', name='time', freq=None)"
      ]
     },
     "execution_count": 8,
     "metadata": {},
     "output_type": "execute_result"
    }
   ],
   "source": [
    "(all_kW_df[1:].index - all_kW_df[0:-1].index).unique()"
   ]
  },
  {
   "cell_type": "markdown",
   "metadata": {},
   "source": [
    "This says that the time step between measurements is one of 5 values.  I'm pretty sure most will be 15 minutes apart, but let's check:"
   ]
  },
  {
   "cell_type": "code",
   "execution_count": 9,
   "metadata": {},
   "outputs": [
    {
     "name": "stdout",
     "output_type": "stream",
     "text": [
      "The fraction of measurements that are 15 minutes apart is 99.44%\n"
     ]
    }
   ],
   "source": [
    "# first get the number of times the interval is 15 minutes\n",
    "n15 = np.sum((all_kW_df[1:].index - all_kW_df[0:-1].index) == (all_kW_df[1:].index - all_kW_df[0:-1].index).unique()[0])\n",
    "ntot = all_kW_df.shape[0]\n",
    "a=100*n15/ntot\n",
    "print('The fraction of measurements that are 15 minutes apart is ', end=\"\")\n",
    "print('%.2f' % a, end=\"\")\n",
    "print('%')"
   ]
  },
  {
   "cell_type": "markdown",
   "metadata": {},
   "source": [
    "So most measurements are 15 minutes apart.  A careful treatment of the data would fill in the missing values.\n",
    "\n",
    "Let's plot what we have:"
   ]
  },
  {
   "cell_type": "code",
   "execution_count": 10,
   "metadata": {},
   "outputs": [],
   "source": [
    "import matplotlib.pyplot as plt\n",
    "import seaborn as sns\n",
    "sns.set()"
   ]
  },
  {
   "cell_type": "code",
   "execution_count": 29,
   "metadata": {
    "scrolled": true
   },
   "outputs": [
    {
     "data": {
      "text/plain": [
       "<matplotlib.axes._subplots.AxesSubplot at 0x7f9277b73e50>"
      ]
     },
     "execution_count": 29,
     "metadata": {},
     "output_type": "execute_result"
    },
    {
     "data": {
      "image/png": "[encoded data removed]",
      "text/plain": [
       "<Figure size 432x288 with 1 Axes>"
      ]
     },
     "metadata": {},
     "output_type": "display_data"
    }
   ],
   "source": [
    "b_ind = (all_kW_df.index.year == 2022) & (all_kW_df.index.month == 3) & (all_kW_df.index.day > 19) # this gives a logical index for entries in the second half of July 2022\n",
    "all_kW_df.iloc[b_ind,:].plot()"
   ]
  },
  {
   "cell_type": "markdown",
   "metadata": {},
   "source": [
    "We'll let you do your own interpretation of patterns in these data, and begin thinking of ways that you might build and interpret predicition models using these data.  If you're interested in digging deeper, let us know, and we'll get you access to data for even more campus buildings.  "
   ]
  },
  {
   "cell_type": "code",
   "execution_count": null,
   "metadata": {},
   "outputs": [],
   "source": []
  }
 ],
 "metadata": {
  "kernelspec": {
   "display_name": "Python 3",
   "language": "python",
   "name": "python3"
  },
  "language_info": {
   "codemirror_mode": {
    "name": "ipython",
    "version": 3
   },
   "file_extension": ".py",
   "mimetype": "text/x-python",
   "name": "python",
   "nbconvert_exporter": "python",
   "pygments_lexer": "ipython3",
   "version": "3.8.3"
  }
 },
 "nbformat": 4,
 "nbformat_minor": 4
}
